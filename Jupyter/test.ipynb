{
 "cells": [
  {
   "cell_type": "code",
   "execution_count": null,
   "metadata": {},
   "outputs": [],
   "source": [
    "def _1():\n",
    "    # 8-1 文件编程7-1 (10 分)\n",
    "    with open('./txts/example.txt', 'r', encoding='utf-8') as f1:\n",
    "        with open('./txts/result.txt', 'w+', encoding='utf-8') as f2:\n",
    "            for line in f1.readlines():\n",
    "                f2.write(line.upper())\n",
    "            f2.seek(0)\n",
    "            print(f2.read())\n"
   ]
  },
  {
   "cell_type": "code",
   "execution_count": null,
   "metadata": {},
   "outputs": [],
   "source": [
    "def _2():\n",
    "    # 8-2 文件编程7-2 (10 分)\n",
    "    s = {}\n",
    "    with open('./txts/letter.txt', 'r', encoding='utf-8') as f1:\n",
    "        for line in f1.readlines():\n",
    "            for stri in line.strip('\\n'):\n",
    "                if stri.isalpha():\n",
    "                    s['alpha'] = s.get('alpha', 0)+1\n",
    "                elif stri.isdigit():\n",
    "                    s['digit'] = s.get('digit', 0)+1\n",
    "                else:\n",
    "                    s['others'] = s.get('others', 0)+1\n",
    "    print(s)\n",
    "\n",
    "\n",
    "_2()\n"
   ]
  },
  {
   "cell_type": "code",
   "execution_count": null,
   "metadata": {},
   "outputs": [],
   "source": [
    "def _3():\n",
    "    # 8-3 文件编程7-3 (10 分)\n",
    "    s = {}\n",
    "    with open('./txts/freedom.txt', 'r', encoding='utf-8') as f1:\n",
    "        for line in f1.readlines():\n",
    "            for stri in line.replace(',', ' ').replace('.', ' ').replace(';', ' ').split():\n",
    "                s[stri] = s.get(stri, 0)+1\n",
    "\n",
    "    d_order = sorted(s.items(), key=lambda x: x[1], reverse=True)\n",
    "    with open('./txts/dic.txt', 'w+', encoding='utf-8') as f1:\n",
    "        for i in d_order:\n",
    "            f1.write(str(i)+'\\n')\n",
    "\n",
    "\n",
    "_3()\n"
   ]
  },
  {
   "cell_type": "code",
   "execution_count": null,
   "metadata": {},
   "outputs": [],
   "source": [
    "def _4():\n",
    "    # 8-4 文件编程7-4 (10 分)\n",
    "    s={}\n",
    "    with open('./txts/water.txt', 'r', encoding='utf-8') as f:\n",
    "        for line in f.readlines():\n",
    "            if line=='\\n':\n",
    "                continue\n",
    "            ls=line.split()\n",
    "            s[ls[0]]=(eval(ls[len(ls)-1])-eval(ls[1]))*1.05\n",
    "    for i,j in s.items():\n",
    "        print(f\"user:{i}'s expenseis : {j:.2f}\")\n",
    "_4()\n"
   ]
  },
  {
   "cell_type": "code",
   "execution_count": null,
   "metadata": {},
   "outputs": [],
   "source": [
    "print('guess !')\n",
    "\n",
    "words = {'image': 'igmae', 'you': 'uoy', 'god': 'dog'}\n",
    "for i, j in words.items():\n",
    "    print('guess', j)\n",
    "    while s := input():\n",
    "        if s == i:\n",
    "            print('bingo')\n",
    "            break\n",
    "        else:\n",
    "            print('again')\n"
   ]
  },
  {
   "cell_type": "code",
   "execution_count": null,
   "metadata": {},
   "outputs": [],
   "source": [
    "words = {'image': 'igmae', 'you': 'uoy', 'god': 'dog'}\n",
    "for i,j in words.items():\n",
    "    print('乱序后的单词:',j)\n",
    "    s=input('请你猜: ')\n",
    "    while True:\n",
    "        if s==i:\n",
    "            print('恭喜你,猜对了!')\n",
    "            break\n",
    "        else:\n",
    "            print('对不起,你猜的不正确')\n",
    "            s=input('继续猜: ')"
   ]
  },
  {
   "cell_type": "code",
   "execution_count": null,
   "metadata": {},
   "outputs": [],
   "source": [
    "import random\n",
    "word=list('qwertyuiop')\n",
    "ls=[]\n",
    "covered=[]\n",
    "j=0\n",
    "for i in range(len(word)):\n",
    "    while True:\n",
    "        j=random.randint(0,len(word)-1)\n",
    "        if j not in covered:\n",
    "            covered.append(j)\n",
    "            break\n",
    "    ls.append(word[j])\n",
    "''.join(ls)"
   ]
  },
  {
   "cell_type": "code",
   "execution_count": null,
   "metadata": {},
   "outputs": [],
   "source": [
    "import random\n",
    "def suff(word):\n",
    "    # word=list('qwertyuiop')\n",
    "    word = list(word)\n",
    "    ls = []\n",
    "    covered = []\n",
    "    j = ''\n",
    "    for i in range(len(word)):\n",
    "        while True:\n",
    "            j = random.choice(word)\n",
    "            if j not in covered:\n",
    "                covered.append(j)\n",
    "                break\n",
    "        ls.append(j)\n",
    "    return ''.join(ls)\n",
    "\n",
    "\n",
    "def guess():\n",
    "    words_ls = list(map(suff, words_str := input('请输入几个单词用空格隔开: ').split()))\n",
    "    words = dict(zip(words_str, words_ls))\n",
    "    for i, j in words.items():\n",
    "        print('乱序后的单词:', j)\n",
    "        s = input('请你猜: ')\n",
    "        while True:\n",
    "            if s == i:\n",
    "                print('恭喜你,猜对了!')\n",
    "                break\n",
    "            else:\n",
    "                print('对不起,你猜的不正确')\n",
    "                s = input('继续猜: ')\n",
    "\n",
    "\n",
    "guess()\n"
   ]
  },
  {
   "cell_type": "code",
   "execution_count": 18,
   "metadata": {},
   "outputs": [
    {
     "name": "stdout",
     "output_type": "stream",
     "text": [
      "2\n",
      "5\n",
      "3\n",
      "6\n",
      "4\n",
      "7\n"
     ]
    }
   ],
   "source": [
    "def a(): return print(1+1)\n",
    "def b(): return print(1+2)\n",
    "def c(): return print(1+3)\n",
    "ls = [a, b, c]\n",
    "ls_ = [lambda:print(1+4), lambda:print(1+5), lambda:print(1+6)]\n",
    "for i in range(3):\n",
    "    ls[i]()\n"
   ]
  },
  {
   "cell_type": "code",
   "execution_count": null,
   "metadata": {},
   "outputs": [],
   "source": [
    "ls_ = [lambda:print(1+4), lambda:print(1+5), lambda:print(1+6)]\n",
    "for i in range(3):\n",
    "        ls_[i]()"
   ]
  },
  {
   "cell_type": "code",
   "execution_count": 10,
   "metadata": {},
   "outputs": [
    {
     "name": "stdout",
     "output_type": "stream",
     "text": [
      "0\n",
      "0\n",
      "1\n"
     ]
    }
   ],
   "source": [
    "# global\n",
    "def a():\n",
    "    # global关键字用来在函数或其他局部作用域中使用全局变量。\n",
    "    # 但是如果不修改全局变量也可以不使用global关键字\n",
    "    print(global_)\n",
    "\n",
    "def b():\n",
    "    global global_\n",
    "    print(global_)\n",
    "    print(global_:=1)\n",
    "global_=0\n",
    "# a()\n",
    "# b()"
   ]
  },
  {
   "cell_type": "code",
   "execution_count": 4,
   "metadata": {},
   "outputs": [
    {
     "name": "stdout",
     "output_type": "stream",
     "text": [
      "1\n",
      "2\n",
      "3\n"
     ]
    }
   ],
   "source": [
    "# nonlocal\n",
    "def make_counter():\n",
    "    count = 0\n",
    "\n",
    "    def counter():\n",
    "        nonlocal count\n",
    "        count += 1\n",
    "        return count\n",
    "    return counter\n",
    "\n",
    "\n",
    "def make_counter_test():\n",
    "    mc = make_counter()\n",
    "    print(mc())\n",
    "    print(mc())\n",
    "    print(mc())\n",
    "\n",
    "\n",
    "make_counter_test()\n"
   ]
  },
  {
   "cell_type": "code",
   "execution_count": 7,
   "metadata": {},
   "outputs": [
    {
     "name": "stdout",
     "output_type": "stream",
     "text": [
      "name:\t Quanwei\n",
      "age:\t 18\n",
      "gender:\t male\n",
      "Dtor Called\n"
     ]
    }
   ],
   "source": [
    "class Person(object):\n",
    "    def __init__(self, name=\" \", age=0, gender=\"male\"):# ctor\n",
    "        self.__name = name\n",
    "        self.__age = age\n",
    "        self.__gender = gender\n",
    "\n",
    "    # @property  # read only\n",
    "    def getName(self):\n",
    "        return self.__name\n",
    "\n",
    "    def steName(self, name):\n",
    "        self.__name = name\n",
    "    \n",
    "    def delName(self):\n",
    "        del self.__name\n",
    "\n",
    "    name = property(getName, steName,delName)# 将属性设为可读,可修改,可删除\n",
    "\n",
    "    def show_info(self):\n",
    "        print(\"name:\\t\", self.__name)\n",
    "        print(\"age:\\t\", self.__age)\n",
    "        print(\"gender:\\t\", self.__gender)\n",
    "\n",
    "    def __del__(self): # dtor\n",
    "        print(\"Dtor Called\")\n",
    "\n",
    "\n",
    "\n",
    "tang = Person(\"Quanwei\", 18)\n",
    "tang.show_info()\n",
    "del tang\n",
    "\n"
   ]
  },
  {
   "cell_type": "code",
   "execution_count": 21,
   "metadata": {},
   "outputs": [
    {
     "data": {
      "text/plain": [
       "(-3, -1)"
      ]
     },
     "execution_count": 21,
     "metadata": {},
     "output_type": "execute_result"
    }
   ],
   "source": [
    "import math\n",
    "\n",
    "\n",
    "class Vec2D(object):\n",
    "    def __init__(self, x=0, y=0):\n",
    "        self.__x = x\n",
    "        self.__y = y\n",
    "\n",
    "    def getX(self):\n",
    "        return self.__x\n",
    "\n",
    "    def getY(self):\n",
    "        return self.__y\n",
    "\n",
    "    def __del__(self):\n",
    "        del self.__x\n",
    "        del self.__y\n",
    "\n",
    "    def __iadd__(self, vec2d):\n",
    "        self.__x += vec2d.getX()\n",
    "        self.__y += vec2d.getY()\n",
    "        return self\n",
    "\n",
    "    def __add__(self,vec2d):\n",
    "        vec2d_temp=self\n",
    "        return vec2d_temp.__iadd__(vec2d)\n",
    "\n",
    "    def __isub__(self, vec2d):\n",
    "        self.__x -= vec2d.getX()\n",
    "        self.__y -= vec2d.getY()\n",
    "        return self\n",
    "\n",
    "    def __sub__(self,vec2d):\n",
    "        vec2d_temp=self\n",
    "        return vec2d_temp.__isub__(vec2d)\n",
    "\n",
    "    def __imul__(self, vec2d):\n",
    "        return self.__x*vec2d.getx()+self.__y*vec2d.getY()\n",
    "\n",
    "    def __mul__(self,vec2d):\n",
    "        self.__mul__(vec2d)\n",
    "\n",
    "    @property\n",
    "    def norm(self):\n",
    "        \"\"\" 返回向量的范数 \"\"\"\n",
    "        return math.sqrt(self.__x**2+self.__y**2)\n",
    "\n",
    "    def __str__(self):  # 字符串打印\n",
    "        return f\"({self.__x}, {self.__y})\"\n",
    "\n",
    "    def __getitem__(self, pos):\n",
    "        \"\"\" 按下标取值 \"\"\"\n",
    "        return [self.__x, self.__y][pos]\n",
    "\n",
    "    def __ne__(self, vec2d):\n",
    "        return self.norm != vec2d.norm\n",
    "\n",
    "    def __eq__(self,vec2d):\n",
    "        return self.__x==vec2d.getX() and self.__y==vec2d.getY()\n",
    "\n",
    "    \n",
    "\n",
    "    __repr__ = __str__  # 解释器打印\n",
    "\n",
    "\n",
    "v1 = Vec2D(1, 2)\n",
    "v2 = Vec2D(4, 3)\n",
    "v3 = Vec2D(3, 4)\n",
    "# print(v2.norm)\n",
    "# print(v2[1])\n",
    "# v3 == v2\n",
    "v1-v2\n"
   ]
  },
  {
   "cell_type": "code",
   "execution_count": 5,
   "metadata": {},
   "outputs": [
    {
     "data": {
      "text/plain": [
       "-0.004968662132594296"
      ]
     },
     "execution_count": 5,
     "metadata": {},
     "output_type": "execute_result"
    }
   ],
   "source": [
    "import math\n",
    "math.cos(math.sqrt((1+2+3+4)**3/5))"
   ]
  },
  {
   "cell_type": "code",
   "execution_count": 3,
   "metadata": {},
   "outputs": [
    {
     "data": {
      "text/plain": [
       "1.42275865659274"
      ]
     },
     "execution_count": 3,
     "metadata": {},
     "output_type": "execute_result"
    }
   ],
   "source": [
    "math.sin(math.sqrt(math.pi))+math.log(math.tan(1))"
   ]
  },
  {
   "cell_type": "code",
   "execution_count": 6,
   "metadata": {},
   "outputs": [
    {
     "data": {
      "text/plain": [
       "61.819925051190125"
      ]
     },
     "execution_count": 6,
     "metadata": {},
     "output_type": "execute_result"
    }
   ],
   "source": [
    "2**(3.5*1.7)"
   ]
  },
  {
   "cell_type": "code",
   "execution_count": 16,
   "metadata": {},
   "outputs": [
    {
     "name": "stdout",
     "output_type": "stream",
     "text": [
      "bar\n"
     ]
    }
   ],
   "source": [
    "x = \"global\"\n",
    "\n",
    "\n",
    "def foo():\n",
    "    x = \"foo\"\n",
    "\n",
    "    def bar():\n",
    "        # print(x)\n",
    "        nonlocal x\n",
    "        x = \"bar\"\n",
    "        print(x)\n",
    "    bar()\n",
    "\n",
    "\n",
    "foo()\n"
   ]
  }
 ],
 "metadata": {
  "interpreter": {
   "hash": "78a022ac77446f354d31e836af73f58b0c1bbd5e689bddf81efabb290314bc59"
  },
  "kernelspec": {
   "display_name": "Python 3.9.7 64-bit",
   "name": "python3"
  },
  "language_info": {
   "codemirror_mode": {
    "name": "ipython",
    "version": 3
   },
   "file_extension": ".py",
   "mimetype": "text/x-python",
   "name": "python",
   "nbconvert_exporter": "python",
   "pygments_lexer": "ipython3",
   "version": "3.9.7"
  },
  "metadata": {
   "interpreter": {
    "hash": "ac59ebe37160ed0dfa835113d9b8498d9f09ceb179beaac4002f036b9467c963"
   }
  },
  "varInspector": {
   "cols": {
    "lenName": 16,
    "lenType": 16,
    "lenVar": 40
   },
   "kernels_config": {
    "python": {
     "delete_cmd_postfix": "",
     "delete_cmd_prefix": "del ",
     "library": "var_list.py",
     "varRefreshCmd": "print(var_dic_list())"
    },
    "r": {
     "delete_cmd_postfix": ") ",
     "delete_cmd_prefix": "rm(",
     "library": "var_list.r",
     "varRefreshCmd": "cat(var_dic_list()) "
    }
   },
   "types_to_exclude": [
    "module",
    "function",
    "builtin_function_or_method",
    "instance",
    "_Feature"
   ],
   "window_display": false
  }
 },
 "nbformat": 4,
 "nbformat_minor": 2
}
