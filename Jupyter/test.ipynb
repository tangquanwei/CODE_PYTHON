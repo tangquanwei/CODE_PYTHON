{
 "cells": [
  {
   "cell_type": "code",
   "execution_count": null,
   "source": [
    "def _1():\r\n",
    "    # 8-1 文件编程7-1 (10 分)\r\n",
    "    with open('./txts/example.txt', 'r', encoding='utf-8') as f1:\r\n",
    "        with open('./txts/result.txt', 'w+', encoding='utf-8') as f2:\r\n",
    "            for line in f1.readlines():\r\n",
    "                f2.write(line.upper())\r\n",
    "            f2.seek(0)\r\n",
    "            print(f2.read())\r\n"
   ],
   "outputs": [],
   "metadata": {}
  },
  {
   "cell_type": "code",
   "execution_count": null,
   "source": [
    "def _2():\r\n",
    "    # 8-2 文件编程7-2 (10 分)\r\n",
    "    s = {}\r\n",
    "    with open('./txts/letter.txt', 'r', encoding='utf-8') as f1:\r\n",
    "        for line in f1.readlines():\r\n",
    "            for stri in line.strip('\\n'):\r\n",
    "                if stri.isalpha():\r\n",
    "                    s['alpha'] = s.get('alpha', 0)+1\r\n",
    "                elif stri.isdigit():\r\n",
    "                    s['digit'] = s.get('digit', 0)+1\r\n",
    "                else:\r\n",
    "                    s['others'] = s.get('others', 0)+1\r\n",
    "    print(s)\r\n",
    "\r\n",
    "\r\n",
    "_2()\r\n"
   ],
   "outputs": [],
   "metadata": {}
  },
  {
   "cell_type": "code",
   "execution_count": null,
   "source": [
    "def _3():\r\n",
    "    # 8-3 文件编程7-3 (10 分)\r\n",
    "    s = {}\r\n",
    "    with open('./txts/freedom.txt', 'r', encoding='utf-8') as f1:\r\n",
    "        for line in f1.readlines():\r\n",
    "            for stri in line.replace(',', ' ').replace('.', ' ').replace(';', ' ').split():\r\n",
    "                s[stri] = s.get(stri, 0)+1\r\n",
    "\r\n",
    "    d_order = sorted(s.items(), key=lambda x: x[1], reverse=True)\r\n",
    "    with open('./txts/dic.txt', 'w+', encoding='utf-8') as f1:\r\n",
    "        for i in d_order:\r\n",
    "            f1.write(str(i)+'\\n')\r\n",
    "\r\n",
    "\r\n",
    "_3()\r\n"
   ],
   "outputs": [],
   "metadata": {}
  },
  {
   "cell_type": "code",
   "execution_count": null,
   "source": [
    "def _4():\r\n",
    "    # 8-4 文件编程7-4 (10 分)\r\n",
    "    s={}\r\n",
    "    with open('./txts/water.txt', 'r', encoding='utf-8') as f:\r\n",
    "        for line in f.readlines():\r\n",
    "            if line=='\\n':\r\n",
    "                continue\r\n",
    "            ls=line.split()\r\n",
    "            s[ls[0]]=(eval(ls[len(ls)-1])-eval(ls[1]))*1.05\r\n",
    "    for i,j in s.items():\r\n",
    "        print(f\"user:{i}'s expenseis : {j:.2f}\")\r\n",
    "_4()\r\n"
   ],
   "outputs": [],
   "metadata": {}
  },
  {
   "cell_type": "code",
   "execution_count": null,
   "source": [
    "print('guess !')\r\n",
    "\r\n",
    "words = {'image': 'igmae', 'you': 'uoy', 'god': 'dog'}\r\n",
    "for i, j in words.items():\r\n",
    "    print('guess', j)\r\n",
    "    while s := input():\r\n",
    "        if s == i:\r\n",
    "            print('bingo')\r\n",
    "            break\r\n",
    "        else:\r\n",
    "            print('again')\r\n"
   ],
   "outputs": [],
   "metadata": {}
  },
  {
   "cell_type": "code",
   "execution_count": null,
   "source": [
    "words = {'image': 'igmae', 'you': 'uoy', 'god': 'dog'}\r\n",
    "for i,j in words.items():\r\n",
    "    print('乱序后的单词:',j)\r\n",
    "    s=input('请你猜: ')\r\n",
    "    while True:\r\n",
    "        if s==i:\r\n",
    "            print('恭喜你,猜对了!')\r\n",
    "            break\r\n",
    "        else:\r\n",
    "            print('对不起,你猜的不正确')\r\n",
    "            s=input('继续猜: ')"
   ],
   "outputs": [],
   "metadata": {}
  },
  {
   "cell_type": "code",
   "execution_count": null,
   "source": [
    "import random\r\n",
    "word=list('qwertyuiop')\r\n",
    "ls=[]\r\n",
    "covered=[]\r\n",
    "j=0\r\n",
    "for i in range(len(word)):\r\n",
    "    while True:\r\n",
    "        j=random.randint(0,len(word)-1)\r\n",
    "        if j not in covered:\r\n",
    "            covered.append(j)\r\n",
    "            break\r\n",
    "    ls.append(word[j])\r\n",
    "''.join(ls)"
   ],
   "outputs": [],
   "metadata": {}
  },
  {
   "cell_type": "code",
   "execution_count": null,
   "source": [
    "import random\r\n",
    "def suff(word):\r\n",
    "    # word=list('qwertyuiop')\r\n",
    "    word = list(word)\r\n",
    "    ls = []\r\n",
    "    covered = []\r\n",
    "    j = ''\r\n",
    "    for i in range(len(word)):\r\n",
    "        while True:\r\n",
    "            j = random.choice(word)\r\n",
    "            if j not in covered:\r\n",
    "                covered.append(j)\r\n",
    "                break\r\n",
    "        ls.append(j)\r\n",
    "    return ''.join(ls)\r\n",
    "\r\n",
    "\r\n",
    "def guess():\r\n",
    "    words_ls = list(map(suff, words_str := input('请输入几个单词用空格隔开: ').split()))\r\n",
    "    words = dict(zip(words_str, words_ls))\r\n",
    "    for i, j in words.items():\r\n",
    "        print('乱序后的单词:', j)\r\n",
    "        s = input('请你猜: ')\r\n",
    "        while True:\r\n",
    "            if s == i:\r\n",
    "                print('恭喜你,猜对了!')\r\n",
    "                break\r\n",
    "            else:\r\n",
    "                print('对不起,你猜的不正确')\r\n",
    "                s = input('继续猜: ')\r\n",
    "\r\n",
    "\r\n",
    "guess()\r\n"
   ],
   "outputs": [],
   "metadata": {}
  },
  {
   "cell_type": "code",
   "execution_count": 18,
   "source": [
    "def a(): return print(1+1)\r\n",
    "def b(): return print(1+2)\r\n",
    "def c(): return print(1+3)\r\n",
    "ls = [a, b, c]\r\n",
    "ls_ = [lambda:print(1+4), lambda:print(1+5), lambda:print(1+6)]\r\n",
    "for i in range(3):\r\n",
    "    ls[i]()\r\n"
   ],
   "outputs": [
    {
     "output_type": "stream",
     "name": "stdout",
     "text": [
      "2\n",
      "5\n",
      "3\n",
      "6\n",
      "4\n",
      "7\n"
     ]
    }
   ],
   "metadata": {}
  },
  {
   "cell_type": "code",
   "execution_count": null,
   "source": [
    "ls_ = [lambda:print(1+4), lambda:print(1+5), lambda:print(1+6)]\r\n",
    "for i in range(3):\r\n",
    "        ls_[i]()"
   ],
   "outputs": [],
   "metadata": {}
  },
  {
   "cell_type": "code",
   "execution_count": 10,
   "source": [
    "# global\r\n",
    "def a():\r\n",
    "    # global关键字用来在函数或其他局部作用域中使用全局变量。\r\n",
    "    # 但是如果不修改全局变量也可以不使用global关键字\r\n",
    "    print(global_)\r\n",
    "\r\n",
    "def b():\r\n",
    "    global global_\r\n",
    "    print(global_)\r\n",
    "    print(global_:=1)\r\n",
    "global_=0\r\n",
    "# a()\r\n",
    "# b()"
   ],
   "outputs": [
    {
     "output_type": "stream",
     "name": "stdout",
     "text": [
      "0\n",
      "0\n",
      "1\n"
     ]
    }
   ],
   "metadata": {}
  },
  {
   "cell_type": "code",
   "execution_count": 4,
   "source": [
    "# nonlocal\r\n",
    "def make_counter():\r\n",
    "    count = 0\r\n",
    "\r\n",
    "    def counter():\r\n",
    "        nonlocal count\r\n",
    "        count += 1\r\n",
    "        return count\r\n",
    "    return counter\r\n",
    "\r\n",
    "\r\n",
    "def make_counter_test():\r\n",
    "    mc = make_counter()\r\n",
    "    print(mc())\r\n",
    "    print(mc())\r\n",
    "    print(mc())\r\n",
    "\r\n",
    "\r\n",
    "make_counter_test()\r\n"
   ],
   "outputs": [
    {
     "output_type": "stream",
     "name": "stdout",
     "text": [
      "1\n",
      "2\n",
      "3\n"
     ]
    }
   ],
   "metadata": {}
  },
  {
   "cell_type": "code",
   "execution_count": 7,
   "source": [
    "class Person(object):\r\n",
    "    def __init__(self, name=\" \", age=0, gender=\"male\"):# ctor\r\n",
    "        self.__name = name\r\n",
    "        self.__age = age\r\n",
    "        self.__gender = gender\r\n",
    "\r\n",
    "    # @property  # read only\r\n",
    "    def getName(self):\r\n",
    "        return self.__name\r\n",
    "\r\n",
    "    def steName(self, name):\r\n",
    "        self.__name = name\r\n",
    "    \r\n",
    "    def delName(self):\r\n",
    "        del self.__name\r\n",
    "\r\n",
    "    name = property(getName, steName,delName)# 将属性设为可读,可修改,可删除\r\n",
    "\r\n",
    "    def show_info(self):\r\n",
    "        print(\"name:\\t\", self.__name)\r\n",
    "        print(\"age:\\t\", self.__age)\r\n",
    "        print(\"gender:\\t\", self.__gender)\r\n",
    "\r\n",
    "    def __del__(self): # dtor\r\n",
    "        print(\"Dtor Called\")\r\n",
    "\r\n",
    "\r\n",
    "\r\n",
    "tang = Person(\"Quanwei\", 18)\r\n",
    "tang.show_info()\r\n",
    "del tang\r\n",
    "\r\n"
   ],
   "outputs": [
    {
     "output_type": "stream",
     "name": "stdout",
     "text": [
      "name:\t Quanwei\n",
      "age:\t 18\n",
      "gender:\t male\n",
      "Dtor Called\n"
     ]
    }
   ],
   "metadata": {}
  },
  {
   "cell_type": "code",
   "execution_count": 21,
   "source": [
    "import math\r\n",
    "\r\n",
    "\r\n",
    "class Vec2D(object):\r\n",
    "    def __init__(self, x=0, y=0):\r\n",
    "        self.__x = x\r\n",
    "        self.__y = y\r\n",
    "\r\n",
    "    def getX(self):\r\n",
    "        return self.__x\r\n",
    "\r\n",
    "    def getY(self):\r\n",
    "        return self.__y\r\n",
    "\r\n",
    "    def __del__(self):\r\n",
    "        del self.__x\r\n",
    "        del self.__y\r\n",
    "\r\n",
    "    def __iadd__(self, vec2d):\r\n",
    "        self.__x += vec2d.getX()\r\n",
    "        self.__y += vec2d.getY()\r\n",
    "        return self\r\n",
    "\r\n",
    "    def __add__(self,vec2d):\r\n",
    "        vec2d_temp=self\r\n",
    "        return vec2d_temp.__iadd__(vec2d)\r\n",
    "\r\n",
    "    def __isub__(self, vec2d):\r\n",
    "        self.__x -= vec2d.getX()\r\n",
    "        self.__y -= vec2d.getY()\r\n",
    "        return self\r\n",
    "\r\n",
    "    def __sub__(self,vec2d):\r\n",
    "        vec2d_temp=self\r\n",
    "        return vec2d_temp.__isub__(vec2d)\r\n",
    "\r\n",
    "    def __imul__(self, vec2d):\r\n",
    "        return self.__x*vec2d.getx()+self.__y*vec2d.getY()\r\n",
    "\r\n",
    "    def __mul__(self,vec2d):\r\n",
    "        self.__mul__(vec2d)\r\n",
    "\r\n",
    "    @property\r\n",
    "    def norm(self):\r\n",
    "        \"\"\" 返回向量的范数 \"\"\"\r\n",
    "        return math.sqrt(self.__x**2+self.__y**2)\r\n",
    "\r\n",
    "    def __str__(self):  # 字符串打印\r\n",
    "        return f\"({self.__x}, {self.__y})\"\r\n",
    "\r\n",
    "    def __getitem__(self, pos):\r\n",
    "        \"\"\" 按下标取值 \"\"\"\r\n",
    "        return [self.__x, self.__y][pos]\r\n",
    "\r\n",
    "    def __ne__(self, vec2d):\r\n",
    "        return self.norm != vec2d.norm\r\n",
    "\r\n",
    "    def __eq__(self,vec2d):\r\n",
    "        return self.__x==vec2d.getX() and self.__y==vec2d.getY()\r\n",
    "\r\n",
    "    \r\n",
    "\r\n",
    "    __repr__ = __str__  # 解释器打印\r\n",
    "\r\n",
    "\r\n",
    "v1 = Vec2D(1, 2)\r\n",
    "v2 = Vec2D(4, 3)\r\n",
    "v3 = Vec2D(3, 4)\r\n",
    "# print(v2.norm)\r\n",
    "# print(v2[1])\r\n",
    "# v3 == v2\r\n",
    "v1-v2\r\n"
   ],
   "outputs": [
    {
     "output_type": "execute_result",
     "data": {
      "text/plain": [
       "(-3, -1)"
      ]
     },
     "metadata": {},
     "execution_count": 21
    }
   ],
   "metadata": {}
  },
  {
   "cell_type": "code",
   "execution_count": 5,
   "source": [
    "import math\r\n",
    "math.cos(math.sqrt((1+2+3+4)**3/5))"
   ],
   "outputs": [
    {
     "output_type": "execute_result",
     "data": {
      "text/plain": [
       "-0.004968662132594296"
      ]
     },
     "metadata": {},
     "execution_count": 5
    }
   ],
   "metadata": {}
  },
  {
   "cell_type": "code",
   "execution_count": 3,
   "source": [
    "math.sin(math.sqrt(math.pi))+math.log(math.tan(1))"
   ],
   "outputs": [
    {
     "output_type": "execute_result",
     "data": {
      "text/plain": [
       "1.42275865659274"
      ]
     },
     "metadata": {},
     "execution_count": 3
    }
   ],
   "metadata": {}
  },
  {
   "cell_type": "code",
   "execution_count": 6,
   "source": [
    "2**(3.5*1.7)"
   ],
   "outputs": [
    {
     "output_type": "execute_result",
     "data": {
      "text/plain": [
       "61.819925051190125"
      ]
     },
     "metadata": {},
     "execution_count": 6
    }
   ],
   "metadata": {}
  }
 ],
 "metadata": {
  "interpreter": {
   "hash": "78a022ac77446f354d31e836af73f58b0c1bbd5e689bddf81efabb290314bc59"
  },
  "kernelspec": {
   "name": "python3",
   "display_name": "Python 3.9.6 64-bit"
  },
  "language_info": {
   "name": "python",
   "version": "3.9.6",
   "mimetype": "text/x-python",
   "codemirror_mode": {
    "name": "ipython",
    "version": 3
   },
   "pygments_lexer": "ipython3",
   "nbconvert_exporter": "python",
   "file_extension": ".py"
  },
  "metadata": {
   "interpreter": {
    "hash": "ac59ebe37160ed0dfa835113d9b8498d9f09ceb179beaac4002f036b9467c963"
   }
  },
  "varInspector": {
   "cols": {
    "lenName": 16,
    "lenType": 16,
    "lenVar": 40
   },
   "kernels_config": {
    "python": {
     "delete_cmd_postfix": "",
     "delete_cmd_prefix": "del ",
     "library": "var_list.py",
     "varRefreshCmd": "print(var_dic_list())"
    },
    "r": {
     "delete_cmd_postfix": ") ",
     "delete_cmd_prefix": "rm(",
     "library": "var_list.r",
     "varRefreshCmd": "cat(var_dic_list()) "
    }
   },
   "types_to_exclude": [
    "module",
    "function",
    "builtin_function_or_method",
    "instance",
    "_Feature"
   ],
   "window_display": false
  }
 },
 "nbformat": 4,
 "nbformat_minor": 2
}