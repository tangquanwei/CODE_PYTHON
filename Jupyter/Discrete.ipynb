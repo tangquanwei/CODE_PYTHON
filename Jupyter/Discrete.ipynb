{
 "cells": [
  {
   "cell_type": "code",
   "execution_count": 4,
   "metadata": {},
   "outputs": [
    {
     "name": "stdout",
     "output_type": "stream",
     "text": [
      "1\n",
      "1\n",
      "1\n",
      "1\n",
      "1\n",
      "1\n",
      "1\n",
      "1\n"
     ]
    }
   ],
   "source": [
    "def f(p, q, r):\n",
    "    return p & q & (not r) | p & (not q) | (not p) | r\n",
    "\n",
    "\n",
    "ls = [[0, 0, 0], [0, 0, 1], [0, 1, 0], [0, 1, 1],\n",
    "      [1, 0, 0], [1, 0, 1], [1, 1, 0], [1, 1, 1]]\n",
    "for i in ls:\n",
    "    print(f(*i))\n"
   ]
  }
 ],
 "metadata": {
  "interpreter": {
   "hash": "78a022ac77446f354d31e836af73f58b0c1bbd5e689bddf81efabb290314bc59"
  },
  "kernelspec": {
   "display_name": "Python 3.9.7 64-bit",
   "name": "python3"
  },
  "language_info": {
   "codemirror_mode": {
    "name": "ipython",
    "version": 3
   },
   "file_extension": ".py",
   "mimetype": "text/x-python",
   "name": "python",
   "nbconvert_exporter": "python",
   "pygments_lexer": "ipython3",
   "version": "3.9.7"
  },
  "orig_nbformat": 4
 },
 "nbformat": 4,
 "nbformat_minor": 2
}
