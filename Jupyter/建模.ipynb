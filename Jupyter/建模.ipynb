{
 "cells": [
  {
   "cell_type": "code",
   "execution_count": 15,
   "metadata": {},
   "outputs": [
    {
     "data": {
      "text/plain": [
       "array([[ 0,  0,  0, ...,  0,  0,  0],\n",
       "       [ 0,  1,  0, ...,  1,  0,  0],\n",
       "       [-1,  0,  0, ..., -1, -2, -1],\n",
       "       ...,\n",
       "       [ 0,  1,  0, ...,  0,  0,  0],\n",
       "       [ 0,  0,  0, ...,  0,  1,  1],\n",
       "       [ 0,  0,  0, ...,  1,  0,  0]])"
      ]
     },
     "execution_count": 15,
     "metadata": {},
     "output_type": "execute_result"
    }
   ],
   "source": [
    "import pandas as pd\n",
    "import numpy as np\n",
    "\n",
    "path1 = R\"D:\\ZIPS\\C\\附件1 近5年402家供应商的相关数据.xlsx\"\n",
    "path2 = R\"D:\\ZIPS\\C\\附件2 近5年8家转运商的相关数据.xlsx\"\n",
    "\n",
    "sheet1 = pd.read_excel(path1, sheet_name=\"企业的订货量（m³）\")\n",
    "sheet2 = pd.read_excel(path1, sheet_name=\"供应商的供货量（m³）\")\n",
    "\n",
    "data1 = sheet1.values\n",
    "data2 = sheet2.values\n",
    "ls1=data1.tolist()\n",
    "ls2=data2.tolist()\n",
    "#去字符串\n",
    "mat1=[]\n",
    "for i in ls1:\n",
    "    mat1.append(i[2::])\n",
    "mat2=[]\n",
    "for i in ls2:\n",
    "    mat2.append(i[2::])\n",
    "\n",
    "np.array(mat1)-np.array(mat2)\n",
    "\n",
    "\n"
   ]
  },
  {
   "cell_type": "code",
   "execution_count": 18,
   "metadata": {},
   "outputs": [
    {
     "name": "stdout",
     "output_type": "stream",
     "text": [
      "1.513907830440706\n"
     ]
    }
   ],
   "source": [
    "import numpy as np\n",
    "from numpy.random import default_rng\n",
    "\n",
    "\n",
    "def FireflyAlgorithm(function, dim, lb, ub, max_evals, pop_size=20, alpha=1.0, betamin=1.0, gamma=0.01, seed=None):\n",
    "    rng = default_rng(seed)\n",
    "    fireflies = rng.uniform(lb, ub, (pop_size, dim))\n",
    "    intensity = np.apply_along_axis(function, 1, fireflies)\n",
    "    best = np.min(intensity)\n",
    "\n",
    "    evaluations = pop_size\n",
    "    new_alpha = alpha\n",
    "    search_range = ub - lb\n",
    "\n",
    "    while evaluations <= max_evals:\n",
    "        new_alpha *= 0.97\n",
    "        for i in range(pop_size):\n",
    "            for j in range(pop_size):\n",
    "                if intensity[i] >= intensity[j]:\n",
    "                    r = np.sum(np.square(fireflies[i] - fireflies[j]), axis=-1)\n",
    "                    beta = betamin * np.exp(-gamma * r)\n",
    "                    steps = new_alpha * (rng.random(dim) - 0.5) * search_range\n",
    "                    fireflies[i] += beta * (fireflies[j] - fireflies[i]) + steps\n",
    "                    fireflies[i] = np.clip(fireflies[i], lb, ub)\n",
    "                    intensity[i] = function(fireflies[i])\n",
    "                    evaluations += 1\n",
    "                    best = min(intensity[i], best)\n",
    "    return best\n",
    "\n",
    "def sphere(x):\n",
    "    return np.sum(x ** 2)\n",
    "\n",
    "\n",
    "best = FireflyAlgorithm(function=sphere, dim=10, lb=-5, ub=5, max_evals=10000)\n",
    "print(best)"
   ]
  },
  {
   "cell_type": "code",
   "execution_count": 1,
   "metadata": {},
   "outputs": [
    {
     "name": "stdout",
     "output_type": "stream",
     "text": [
      "[12.962199596438753, 17.03393659736671, 10.87538913900207]\n"
     ]
    }
   ],
   "source": [
    "import numpy as np\n",
    "from numpy.random import default_rng\n",
    "\n",
    "\n",
    "def FireflyAlgorithm(function, dim, lb, ub, max_evals, pop_size=20, alpha=1.0, betamin=1.0, gamma=0.01, seed=None):\n",
    "    rng = default_rng(seed)\n",
    "    fireflies = rng.uniform(lb, ub, (pop_size, dim))\n",
    "    # func calc start\n",
    "    intensity=[]\n",
    "    best=[]\n",
    "    for i in range(len(function)):\n",
    "        intensity.append(np.apply_along_axis(function[i], 1, fireflies))# funcation-> func_ls instensity -> instensty_ls_ls\n",
    "        best.append(np.min(intensity[i])) # bset ->best_ls\n",
    "\n",
    "    evaluations = pop_size\n",
    "    new_alpha = alpha\n",
    "    search_range = ub - lb\n",
    "\n",
    "    while evaluations <= max_evals:\n",
    "        new_alpha *= 0.97\n",
    "        for i in range(pop_size):\n",
    "            for j in range(pop_size):\n",
    "                for k in range(len(function)):\n",
    "                    if intensity[k][i] >= intensity[k][j]:\n",
    "                        r = np.sum(np.square(fireflies[i] - fireflies[j]), axis=-1)\n",
    "                        beta = betamin * np.exp(-gamma * r)\n",
    "                        steps = new_alpha * (rng.random(dim) - 0.5) * search_range\n",
    "                        fireflies[i] += beta * (fireflies[j] - fireflies[i]) + steps\n",
    "                        fireflies[i] = np.clip(fireflies[i], lb, ub)\n",
    "                        intensity[k][i] = function[k](fireflies[i])\n",
    "                        evaluations += 1\n",
    "                        best[k] = min(intensity[k][i], best[k])\n",
    "    return best\n",
    "\n",
    "def sphere1(x):\n",
    "    return np.sum(x ** 2)\n",
    "def sphere2(x):\n",
    "    return np.sum(x ** 2)\n",
    "def sphere3(x):\n",
    "    return np.sum(x ** 2)\n",
    "\n",
    "func_ls=[sphere1,sphere2,sphere3]\n",
    "\n",
    "\n",
    "best = FireflyAlgorithm(function=func_ls, dim=10, lb=-5, ub=5, max_evals=10000)\n",
    "print(best)"
   ]
  }
 ],
 "metadata": {
  "interpreter": {
   "hash": "78a022ac77446f354d31e836af73f58b0c1bbd5e689bddf81efabb290314bc59"
  },
  "kernelspec": {
   "display_name": "Python 3.9.7 64-bit",
   "name": "python3"
  },
  "language_info": {
   "codemirror_mode": {
    "name": "ipython",
    "version": 3
   },
   "file_extension": ".py",
   "mimetype": "text/x-python",
   "name": "python",
   "nbconvert_exporter": "python",
   "pygments_lexer": "ipython3",
   "version": "3.9.7"
  },
  "orig_nbformat": 4
 },
 "nbformat": 4,
 "nbformat_minor": 2
}
