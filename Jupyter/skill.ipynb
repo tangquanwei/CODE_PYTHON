{
 "cells": [
  {
   "cell_type": "code",
   "execution_count": 4,
   "source": [
    "def Pass():\r\n",
    "    ..."
   ],
   "outputs": [],
   "metadata": {
    "slideshow": {
     "slide_type": "slide"
    }
   }
  },
  {
   "cell_type": "code",
   "execution_count": 2,
   "source": [
    "import itertools\r\n",
    "from collections import ChainMap \r\n",
    "from copy import deepcopy\r\n",
    "d1 = {'name': 'quanwei', 'age': '18'}\r\n",
    "d2 = {'gender': 'male'}   \r\n",
    "fd = deepcopy(d1) # 拷贝地址而不是类容\r\n",
    "print(fd is d1)\r\n",
    "fd.update(d2)\r\n",
    "print(fd)\r\n",
    "# ** unzip dict\r\n",
    "fd1 = {**d1, **d2}  \r\n",
    "print(fd1)\r\n",
    "\r\n",
    "dict(itertools.chain(d1.items(), d2.items()))\r\n",
    "dict(ChainMap(d1, d2))\r\n",
    "# same key get the first\r\n",
    "#  '|' 合并操作符\r\n",
    "d1 | d2\r\n"
   ],
   "outputs": [
    {
     "output_type": "stream",
     "name": "stdout",
     "text": [
      "False\n",
      "{'name': 'quanwei', 'age': '18', 'gender': 'male'}\n",
      "{'name': 'quanwei', 'age': '18', 'gender': 'male'}\n"
     ]
    },
    {
     "output_type": "execute_result",
     "data": {
      "text/plain": [
       "{'name': 'quanwei', 'age': '18', 'gender': 'male'}"
      ]
     },
     "metadata": {},
     "execution_count": 2
    }
   ],
   "metadata": {
    "slideshow": {
     "slide_type": "slide"
    }
   }
  },
  {
   "cell_type": "code",
   "execution_count": 2,
   "source": [
    "# add element into dict\r\n",
    "dct={}\r\n",
    "for i in [1,1,2,3,4,4]:\r\n",
    "    dct[i]=dct.get(i,0)+1\r\n",
    "dct"
   ],
   "outputs": [
    {
     "output_type": "execute_result",
     "data": {
      "text/plain": [
       "{1: 2, 2: 1, 3: 1, 4: 2}"
      ]
     },
     "metadata": {},
     "execution_count": 2
    }
   ],
   "metadata": {
    "slideshow": {
     "slide_type": "slide"
    }
   }
  },
  {
   "cell_type": "code",
   "execution_count": null,
   "source": [
    "np=__import__('numpy')"
   ],
   "outputs": [],
   "metadata": {
    "slideshow": {
     "slide_type": "slide"
    }
   }
  },
  {
   "cell_type": "code",
   "execution_count": 15,
   "source": [
    "# condition statement\r\n",
    "# <condition> and <on_ture> or <on_flase>\r\n",
    "print(1 > 2 and \"True\" or \"False\")\r\n",
    "\r\n",
    "# (<onfalse>,<on_true>)[condition]\r\n",
    "print((\"Dog\", \"Cat\")[1 > 2])\r\n",
    "\r\n",
    "# (lambda:\"False\",lambda:\"True\")[condition]()\r\n",
    "print((lambda: \"False\", lambda: \"True\")[2 > 1]())\r\n",
    "\r\n",
    "print({True: \"Dog\", False: \"Cat\"}[1 > 2])\r\n"
   ],
   "outputs": [
    {
     "output_type": "stream",
     "name": "stdout",
     "text": [
      "False\n",
      "Dog\n",
      "True\n",
      "Cat\n"
     ]
    }
   ],
   "metadata": {
    "slideshow": {
     "slide_type": "slide"
    }
   }
  },
  {
   "cell_type": "code",
   "execution_count": 5,
   "source": [
    "# 赋值表达式 Assignment Expressions\r\n",
    "if (age := 20) > 18:\r\n",
    "    print(\"成年了\")\r\n",
    "\r\n",
    "print((\"未成年\", \"成年了\")[(age := 20) > 18])\r\n",
    "print([\"未成年\", \"成年了\"][(age := 20) > 18])\r\n",
    "print({False:\"未成年\",True: \"成年了\"}[(age := 20) > 18])\r\n",
    "print(type((age := 20) > 18))\r\n",
    "\r\n",
    "\r\n",
    "while((p := input()) != \"y\"):\r\n",
    "    print(p)\r\n",
    "    continue\r\n"
   ],
   "outputs": [
    {
     "output_type": "stream",
     "name": "stdout",
     "text": [
      "成年了\n",
      "成年了\n",
      "成年了\n",
      "成年了\n",
      "<class 'bool'>\n",
      "y\n"
     ]
    }
   ],
   "metadata": {
    "slideshow": {
     "slide_type": "slide"
    }
   }
  },
  {
   "cell_type": "code",
   "execution_count": 3,
   "source": [
    "import ast \r\n",
    "expr = \"[1, 2, 3]\"\r\n",
    "my_list = ast.literal_eval(expr) \r\n",
    "print(my_list)"
   ],
   "outputs": [
    {
     "output_type": "stream",
     "name": "stdout",
     "text": [
      "[1, 2, 3]\n"
     ]
    }
   ],
   "metadata": {
    "slideshow": {
     "slide_type": "slide"
    }
   }
  },
  {
   "cell_type": "code",
   "execution_count": 4,
   "source": [
    "print( \"Hello %(name)s !\" % {'name': 'James'})"
   ],
   "outputs": [
    {
     "output_type": "stream",
     "name": "stdout",
     "text": [
      "Hello James !\n"
     ]
    }
   ],
   "metadata": {
    "slideshow": {
     "slide_type": "slide"
    }
   }
  },
  {
   "cell_type": "code",
   "execution_count": 2,
   "source": [
    "first, second, *rest, last = range(10)\r\n",
    "first"
   ],
   "outputs": [
    {
     "output_type": "execute_result",
     "data": {
      "text/plain": [
       "0"
      ]
     },
     "metadata": {},
     "execution_count": 2
    }
   ],
   "metadata": {
    "slideshow": {
     "slide_type": "slide"
    }
   }
  },
  {
   "cell_type": "code",
   "execution_count": 6,
   "source": [
    "num = [1, 4, -5, 10, -7, 2, 3, -1]\r\n",
    "filtered_and_squared = map(lambda x: x ** 2, filter(lambda x: x > 0, num))\r\n",
    "print(list(filtered_and_squared))\r\n"
   ],
   "outputs": [
    {
     "output_type": "stream",
     "name": "stdout",
     "text": [
      "[1, 16, 100, 4, 9]\n"
     ]
    }
   ],
   "metadata": {
    "slideshow": {
     "slide_type": "slide"
    }
   }
  },
  {
   "cell_type": "code",
   "execution_count": 7,
   "source": [
    "num = [1, 4, -5, 10, -7, 2, 3, -1]\r\n",
    "filtered_and_squared = [x**2 for x in num if x > 0]\r\n",
    "print(list(filtered_and_squared))\r\n"
   ],
   "outputs": [
    {
     "output_type": "stream",
     "name": "stdout",
     "text": [
      "[1, 16, 100, 4, 9]\n"
     ]
    }
   ],
   "metadata": {
    "slideshow": {
     "slide_type": "slide"
    }
   }
  },
  {
   "cell_type": "code",
   "execution_count": 20,
   "source": [
    "gen = (i for i in range(-20, 21) if i % 2 == 0)\r\n",
    "for i in gen:\r\n",
    "    # print(i)\r\n",
    "    ...\r\n",
    "    \r\n",
    "\r\n",
    "\r\n",
    "def fib(max):\r\n",
    "    n, a, b = 0, 0, 1\r\n",
    "    while n < max:\r\n",
    "        print(b)\r\n",
    "        a, b = b, a + b\r\n",
    "        n = n + 1\r\n",
    "    return 'done'\r\n",
    "\r\n",
    "# 一个函数定义中包含yield关键字，\r\n",
    "# 那么这个函数就不再是一个普通函数，而是一个generator\r\n",
    "\r\n",
    "\r\n",
    "def fib(max):\r\n",
    "    n, a, b = 0, 0, 1\r\n",
    "    while n < max:\r\n",
    "        yield b\r\n",
    "        a, b = b, a + b\r\n",
    "        n = n + 1\r\n",
    "    return 'done'\r\n",
    "\r\n",
    "\r\n",
    "# 如果想要拿到返回值，必须捕获StopIteration错误，\r\n",
    "# 返回值包含在StopIteration的value中\r\n",
    "g = fib(6)\r\n",
    "while True:\r\n",
    "    try:\r\n",
    "        x = next(g)\r\n",
    "        print('g:', x)\r\n",
    "    except StopIteration as e:\r\n",
    "        print('Generator return value:', e.value)\r\n",
    "        break\r\n"
   ],
   "outputs": [
    {
     "output_type": "stream",
     "name": "stdout",
     "text": [
      "g: 1\n",
      "g: 1\n",
      "g: 2\n",
      "g: 3\n",
      "g: 5\n",
      "g: 8\n",
      "Generator return value: done\n"
     ]
    }
   ],
   "metadata": {
    "slideshow": {
     "slide_type": "slide"
    }
   }
  },
  {
   "cell_type": "code",
   "execution_count": 4,
   "source": [
    "int_dict={'a':1,'b':2,'c':3}\r\n",
    "for i in int_dict.values():\r\n",
    "    print(i)"
   ],
   "outputs": [
    {
     "output_type": "stream",
     "name": "stdout",
     "text": [
      "1\n",
      "2\n",
      "3\n"
     ]
    }
   ],
   "metadata": {
    "slideshow": {
     "slide_type": "slide"
    }
   }
  }
 ],
 "metadata": {
  "celltoolbar": "幻灯片",
  "interpreter": {
   "hash": "ac59ebe37160ed0dfa835113d9b8498d9f09ceb179beaac4002f036b9467c963"
  },
  "kernelspec": {
   "display_name": "Python 3",
   "language": "python",
   "name": "python3"
  },
  "language_info": {
   "codemirror_mode": {
    "name": "ipython",
    "version": 3
   },
   "file_extension": ".py",
   "mimetype": "text/x-python",
   "name": "python",
   "nbconvert_exporter": "python",
   "pygments_lexer": "ipython3",
   "version": "3.9.4"
  },
  "metadata": {
   "interpreter": {
    "hash": "ac59ebe37160ed0dfa835113d9b8498d9f09ceb179beaac4002f036b9467c963"
   }
  },
  "varInspector": {
   "cols": {
    "lenName": 16,
    "lenType": 16,
    "lenVar": 40
   },
   "kernels_config": {
    "python": {
     "delete_cmd_postfix": "",
     "delete_cmd_prefix": "del ",
     "library": "var_list.py",
     "varRefreshCmd": "print(var_dic_list())"
    },
    "r": {
     "delete_cmd_postfix": ") ",
     "delete_cmd_prefix": "rm(",
     "library": "var_list.r",
     "varRefreshCmd": "cat(var_dic_list()) "
    }
   },
   "types_to_exclude": [
    "module",
    "function",
    "builtin_function_or_method",
    "instance",
    "_Feature"
   ],
   "window_display": false
  }
 },
 "nbformat": 4,
 "nbformat_minor": 2
}