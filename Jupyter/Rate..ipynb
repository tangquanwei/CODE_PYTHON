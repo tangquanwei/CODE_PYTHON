{
 "cells": [
  {
   "cell_type": "code",
   "execution_count": 21,
   "source": [
    "# 基础代谢率\r\n",
    "weight = 55  # kg\r\n",
    "height = 174  # cm\r\n",
    "age = 19\r\n",
    "basalMetabolicRate = 67+13.73*weight+5*height-6.9*age\r\n",
    "print(basalMetabolicRate)"
   ],
   "outputs": [
    {
     "output_type": "stream",
     "name": "stdout",
     "text": [
      "1561.0500000000002\n"
     ]
    }
   ],
   "metadata": {}
  },
  {
   "cell_type": "code",
   "execution_count": 22,
   "source": [
    "# BMI=体重÷身高^2。（体重单位：千克；身高单位：米。）\r\n",
    "\r\n",
    "def getBMI(height, weight):\r\n",
    "    BMI = weight/(height/100)**2\r\n",
    "    ret = ''\r\n",
    "    if BMI < 18.5:\r\n",
    "        ret = \"过轻\"\r\n",
    "    elif BMI < 23.9:\r\n",
    "        ret = \"正常\"\r\n",
    "    elif BMI < 27.7:\r\n",
    "        ret = \"超重\"\r\n",
    "    else:\r\n",
    "        ret = \"肥胖\"\r\n",
    "    return ret, BMI\r\n",
    "\r\n",
    "\r\n",
    "getBMI(height, weight)\r\n"
   ],
   "outputs": [
    {
     "output_type": "execute_result",
     "data": {
      "text/plain": [
       "('过轻', 18.166204254194742)"
      ]
     },
     "metadata": {},
     "execution_count": 22
    }
   ],
   "metadata": {}
  },
  {
   "cell_type": "code",
   "execution_count": 15,
   "source": [
    "# BMI+weight -> height\r\n",
    "import math\r\n",
    "\r\n",
    "\r\n",
    "def getHeight(BMI, weight):\r\n",
    "    return math.sqrt(weight/BMI)\r\n",
    "\r\n",
    "\r\n",
    "getHeight(17, 42.5)\r\n"
   ],
   "outputs": [
    {
     "output_type": "execute_result",
     "data": {
      "text/plain": [
       "1.5811388300841898"
      ]
     },
     "metadata": {},
     "execution_count": 15
    }
   ],
   "metadata": {}
  },
  {
   "cell_type": "code",
   "execution_count": 5,
   "source": [
    "image_weight=(height-150)*0.6+50\r\n",
    "print(image_weight)"
   ],
   "outputs": [
    {
     "output_type": "stream",
     "name": "stdout",
     "text": [
      "64.4\n"
     ]
    }
   ],
   "metadata": {}
  }
 ],
 "metadata": {
  "orig_nbformat": 4,
  "language_info": {
   "name": "python",
   "version": "3.9.6",
   "mimetype": "text/x-python",
   "codemirror_mode": {
    "name": "ipython",
    "version": 3
   },
   "pygments_lexer": "ipython3",
   "nbconvert_exporter": "python",
   "file_extension": ".py"
  },
  "kernelspec": {
   "name": "python3",
   "display_name": "Python 3.9.6 64-bit"
  },
  "interpreter": {
   "hash": "78a022ac77446f354d31e836af73f58b0c1bbd5e689bddf81efabb290314bc59"
  }
 },
 "nbformat": 4,
 "nbformat_minor": 2
}