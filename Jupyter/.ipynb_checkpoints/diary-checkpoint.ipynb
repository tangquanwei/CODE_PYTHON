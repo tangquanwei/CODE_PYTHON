{
 "cells": [
  {
   "cell_type": "code",
   "execution_count": 1,
   "metadata": {
    "slideshow": {
     "slide_type": "slide"
    }
   },
   "outputs": [],
   "source": [
    "def add():\n",
    "    global diary_ls  # ! 不声明下一句不能添加  why?  如果局部要对全局变量*修改*，则在局部声明该全局变量\n",
    "    diary_ls = ['date:'+input(' ˙ω˙ 今天是几月几号?(eg.6/8): '),\n",
    "                'wheather:'+input('今天天气怎么样: '),\n",
    "                'mood:'+input('今天心情怎么样: '),\n",
    "                'name:'+input('日记的主题是: ')]\n",
    "    print('好,现在开始愉快地写日记吧!')\n",
    "    cnt = 0\n",
    "    while diary := input('>>>'):\n",
    "        diary_ls.append(str(cnt)+' '+diary)\n",
    "        cnt += 1\n",
    "    diary_ls.append('end_of_diary\\n')"
   ]
  },
  {
   "cell_type": "code",
   "execution_count": 2,
   "metadata": {
    "slideshow": {
     "slide_type": "slide"
    }
   },
   "outputs": [],
   "source": [
    "def save():\n",
    "    with open('./diary.txt', 'w', encoding='utf-8') as d:\n",
    "        d.write('\\n'.join(diary_ls))\n"
   ]
  },
  {
   "cell_type": "code",
   "execution_count": 3,
   "metadata": {
    "slideshow": {
     "slide_type": "slide"
    }
   },
   "outputs": [],
   "source": [
    "def search():\n",
    "    s = input('请输入日期: ')\n",
    "    global diary_ls\n",
    "    index = 0\n",
    "    for i in range(len(diary_ls)):\n",
    "        if (ls := diary_ls[i]) == (aim := 'date:'+s):\n",
    "            index = i\n",
    "            break\n",
    "    else:\n",
    "        print('没有找到!')\n",
    "        return -1\n",
    "    i = index\n",
    "    ret = []\n",
    "    while diary_ls[index] != 'end_of_diary':\n",
    "        ret.append(diary_ls[index])\n",
    "        index += 1\n",
    "    print('\\n'.join(ret))\n",
    "    return i"
   ]
  },
  {
   "cell_type": "code",
   "execution_count": 4,
   "metadata": {
    "slideshow": {
     "slide_type": "slide"
    }
   },
   "outputs": [],
   "source": [
    "def remove(index=-2):\n",
    "    if index != -2 or (index := search()) != -1:\n",
    "        while diary_ls[index] != 'end_of_diary':\n",
    "            del diary_ls[index]\n",
    "        del diary_ls[index]\n",
    "            # index += 1 after del ls shrink or list index out of range\n"
   ]
  },
  {
   "cell_type": "code",
   "execution_count": 5,
   "metadata": {
    "slideshow": {
     "slide_type": "slide"
    }
   },
   "outputs": [],
   "source": [
    "def modify():\n",
    "    if (index := search()) != -1:\n",
    "        remove(index)\n",
    "        add()\n"
   ]
  },
  {
   "cell_type": "code",
   "execution_count": 6,
   "metadata": {
    "slideshow": {
     "slide_type": "slide"
    }
   },
   "outputs": [],
   "source": [
    "def load():\n",
    "    with open('./txts/diary.txt', 'r', encoding='utf-8') as d:\n",
    "        global diary_ls  # !必要\n",
    "        diary_ls = d.read().strip().split('\\n')\n",
    "        print(diary_ls)"
   ]
  },
  {
   "cell_type": "code",
   "execution_count": 7,
   "metadata": {
    "slideshow": {
     "slide_type": "slide"
    }
   },
   "outputs": [],
   "source": [
    "def main():\n",
    "    load()\n",
    "\n",
    "    while True:\n",
    "        print(\"我的日记系统v1.0\".center(20, '-') +\n",
    "            \"\\n1. 添加日记     \\\n",
    "            \\n2. 删除日记      \\\n",
    "            \\n3. 修改日记信息   \\\n",
    "            \\n4. 查询日记信息   \\\n",
    "            \\n5. 显示所有日记信息\\\n",
    "            \\n6. 退出\")\n",
    "        try:\n",
    "            if (menu_option := int(input(\"请输入您需要的功能选项:\"))-1) == 5: # ValueError\n",
    "                save()\n",
    "                print(\"退出\")\n",
    "                break\n",
    "        except ValueError:\n",
    "            print(\"请你输入一个数字\")\n",
    "            continue\n",
    "\n",
    "        func_ls = [add, remove, modify, search, lambda:print(diary_ls)]\n",
    "        func_ls[menu_option]()"
   ]
  },
  {
   "cell_type": "code",
   "execution_count": 8,
   "metadata": {
    "slideshow": {
     "slide_type": "slide"
    }
   },
   "outputs": [
    {
     "name": "stdout",
     "output_type": "stream",
     "text": [
      "['']\n",
      "-----我的日记系统v1.0-----\n",
      "1. 添加日记                 \n",
      "2. 删除日记                  \n",
      "3. 修改日记信息               \n",
      "4. 查询日记信息               \n",
      "5. 显示所有日记信息            \n",
      "6. 退出\n",
      "请输入您需要的功能选项:1\n",
      " ˙ω˙ 今天是几月几号?(eg.6/8): 6/8\n",
      "今天天气怎么样: good\n",
      "今天心情怎么样: fine\n",
      "日记的主题是: python\n",
      "好,现在开始愉快地写日记吧!\n",
      ">>>qwerq\n",
      ">>>quawnei\n",
      ">>>famop\n",
      ">>>\n",
      "-----我的日记系统v1.0-----\n",
      "1. 添加日记                 \n",
      "2. 删除日记                  \n",
      "3. 修改日记信息               \n",
      "4. 查询日记信息               \n",
      "5. 显示所有日记信息            \n",
      "6. 退出\n",
      "请输入您需要的功能选项:5\n",
      "['date:6/8', 'wheather:good', 'mood:fine', 'name:python', '0 qwerq', '1 quawnei', '2 famop', 'end_of_diary\\n']\n",
      "-----我的日记系统v1.0-----\n",
      "1. 添加日记                 \n",
      "2. 删除日记                  \n",
      "3. 修改日记信息               \n",
      "4. 查询日记信息               \n",
      "5. 显示所有日记信息            \n",
      "6. 退出\n",
      "请输入您需要的功能选项:6\n",
      "退出\n",
      "谢谢使用 :)\n"
     ]
    }
   ],
   "source": [
    "diary_ls = []\n",
    "if __name__ == '__main__':\n",
    "    try:\n",
    "        main()\n",
    "    except KeyboardInterrupt:\n",
    "        ...\n",
    "    finally:\n",
    "        print('谢谢使用 :)')\n"
   ]
  }
 ],
 "metadata": {
  "celltoolbar": "幻灯片",
  "interpreter": {
   "hash": "ac59ebe37160ed0dfa835113d9b8498d9f09ceb179beaac4002f036b9467c963"
  },
  "kernelspec": {
   "display_name": "Python 3",
   "language": "python",
   "name": "python3"
  },
  "language_info": {
   "codemirror_mode": {
    "name": "ipython",
    "version": 3
   },
   "file_extension": ".py",
   "mimetype": "text/x-python",
   "name": "python",
   "nbconvert_exporter": "python",
   "pygments_lexer": "ipython3",
   "version": "3.9.4"
  },
  "varInspector": {
   "cols": {
    "lenName": 16,
    "lenType": 16,
    "lenVar": 40
   },
   "kernels_config": {
    "python": {
     "delete_cmd_postfix": "",
     "delete_cmd_prefix": "del ",
     "library": "var_list.py",
     "varRefreshCmd": "print(var_dic_list())"
    },
    "r": {
     "delete_cmd_postfix": ") ",
     "delete_cmd_prefix": "rm(",
     "library": "var_list.r",
     "varRefreshCmd": "cat(var_dic_list()) "
    }
   },
   "types_to_exclude": [
    "module",
    "function",
    "builtin_function_or_method",
    "instance",
    "_Feature"
   ],
   "window_display": false
  }
 },
 "nbformat": 4,
 "nbformat_minor": 2
}
