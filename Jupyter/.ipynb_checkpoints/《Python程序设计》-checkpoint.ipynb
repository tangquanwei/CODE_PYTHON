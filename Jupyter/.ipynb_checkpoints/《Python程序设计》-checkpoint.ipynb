{
 "cells": [
  {
   "cell_type": "code",
   "execution_count": null,
   "metadata": {},
   "outputs": [],
   "source": [
    "import random\n",
    "ls=[random.randint(1,100) for i in range(10)]\n",
    "print(ls)\n",
    "print(max(ls))\n",
    "print(min(ls))\n",
    "print(sum(ls))\n",
    "print(sorted(ls,reverse=-1))\n",
    "print(ls)"
   ]
  },
  {
   "cell_type": "code",
   "execution_count": null,
   "metadata": {},
   "outputs": [],
   "source": [
    "# 查找 & 帮助\n",
    "import random\n",
    "a=[random.randint(1,100) for i in range(10)]\n",
    "# dir(random)                   # 查看模块中可用对象\n",
    "# help(random.randint)          # 查看指定方法的使用帮助\n",
    "# dir('')\n",
    "# dir(1)\n",
    "p=100\n",
    "p.to_bytes(length=2,byteorder='big')\n"
   ]
  },
  {
   "cell_type": "code",
   "execution_count": null,
   "metadata": {},
   "outputs": [],
   "source": [
    "# del不能删 元组、字符串 中指定元素，但是可以删除整个元组或字符串\n",
    "t1 = 1,2,3\n",
    "t2 = 4,\n",
    "t2 += t1\n",
    "# del t2[1]        TypeError: 'tuple' object doesn't support item deletion\n",
    "s1 = 'Tang Quanwei'\n",
    "# del s1[0]           TypeError: 'str' object doesn't support item deletion"
   ]
  },
  {
   "cell_type": "code",
   "execution_count": null,
   "metadata": {},
   "outputs": [],
   "source": [
    "# 输出重定向\n",
    "import sys\n",
    "fp = open(r'./test.txt','a+')\n",
    "print(sys.modules.items(),file=fp)\n",
    "fp.close"
   ]
  },
  {
   "cell_type": "code",
   "execution_count": null,
   "metadata": {},
   "outputs": [],
   "source": [
    "import random\n",
    "ls=[random.randint(1,100) for i in range(10)]\n",
    "print(ls)\n",
    "ls.append('quanwei')\n",
    "print(ls)\n",
    "L=list('quanwei')\n",
    "ls.extend(L)\n",
    "print(ls)\n",
    "ls.insert(0,0)\n",
    "print(ls)\n",
    "ls.remove('quanwei')\n",
    "print(ls)\n",
    "print(ls.pop())\n",
    "print(ls)\n",
    "print(ls.pop(-2))\n",
    "print(ls)\n",
    "print(ls.index('q'))\n",
    "print(ls.count('q'))\n",
    "ls.reverse()\n",
    "print(ls)\n",
    "s=[random.randint(1,100) for i in range(10)]\n",
    "print(s)\n",
    "s.sort()\n",
    "print(s)\n",
    "a=s\n",
    "print(a)"
   ]
  },
  {
   "cell_type": "code",
   "execution_count": null,
   "metadata": {},
   "outputs": [],
   "source": [
    "ls=[1,-2,10,-12,-3,-5,-6,8,3,7,9]\n",
    "ls.sort(key=lambda x: (x<0,abs(x)))\n",
    "print(ls)"
   ]
  },
  {
   "cell_type": "code",
   "execution_count": null,
   "metadata": {},
   "outputs": [],
   "source": [
    "ls=[1,-2,10,-12,-3,-5,-6,8,3,7,9]\n",
    "set(map(lambda x : x*x ,ls))        # map()  返回迭代器\n"
   ]
  },
  {
   "cell_type": "code",
   "execution_count": null,
   "metadata": {},
   "outputs": [],
   "source": [
    "ls = [123, 'xyz', 'zara', 'abc', 'xyz']\n",
    "\n",
    "print(ls)"
   ]
  },
  {
   "cell_type": "code",
   "execution_count": null,
   "metadata": {},
   "outputs": [],
   "source": [
    "# 列表自动内存管理功能\n",
    "x=[1,2,1,2,1,1,1]\n",
    "for i in x:\n",
    "    print(i)\n",
    "    if i==1:\n",
    "        x.remove(i)\n",
    "        print(x)\n",
    "# 没有输出2，没有判断被移除元素的后一个\n",
    "# 元素自动向前收缩"
   ]
  },
  {
   "cell_type": "code",
   "execution_count": null,
   "metadata": {},
   "outputs": [],
   "source": [
    "# 列表自动内存管理功能\n",
    "x=[1,2,1,2,1,1,1]\n",
    "for i in x[::-1]:   # 从末尾向前\n",
    "    print(i)\n",
    "    if i==1:\n",
    "        x.remove(i)\n",
    "        print(x)"
   ]
  },
  {
   "cell_type": "code",
   "execution_count": null,
   "metadata": {},
   "outputs": [],
   "source": [
    "ls=[i for i in range(1,10)]\n",
    "print(id(ls),ls)\n",
    "ls[len(ls):]=[10,11,12]\n",
    "print(id(ls),ls)\n",
    "ls[:4]=[i for i in range(4)]\n",
    "print(id(ls),ls)\n",
    "ls[:5]=[]\n",
    "print(id(ls),ls)"
   ]
  },
  {
   "cell_type": "code",
   "execution_count": null,
   "metadata": {},
   "outputs": [],
   "source": [
    "la = [1,2,3,5]\n",
    "lb = la[::]     # 浅复制\n",
    "lc = la\n",
    "ld = [1,2,3,5]\n",
    "\n",
    "print(id(la),\"\\t\",id(lb),\"\\t\",id(lc),\"\\t\",id(ld))\n",
    "print(la == lb,\"\\t\",la == lc)\n",
    "print(la is lb,\"\\t\",la is lc)\n",
    "la[3] = 4\n",
    "print(la,\"\\t\",lb,\"\\t\",lc)\n",
    "lc[3] = 3\n",
    "print(la,\"\\t\",lb,\"\\t\",lc)\n"
   ]
  },
  {
   "cell_type": "code",
   "execution_count": null,
   "metadata": {},
   "outputs": [],
   "source": [
    "ls=[2,412,41,5,0,3152,613,7,48,9,4,31]\n",
    "ls.sort()\n",
    "print(ls)\n",
    "ls.reverse()\n",
    "print(ls)\n",
    "ls.sort(reverse=True)\n",
    "print(ls)"
   ]
  },
  {
   "cell_type": "code",
   "execution_count": null,
   "metadata": {},
   "outputs": [],
   "source": [
    "ls = [i for i in range(11)]\n",
    "print(ls,sep=\"->\")"
   ]
  },
  {
   "cell_type": "code",
   "execution_count": null,
   "metadata": {},
   "outputs": [],
   "source": [
    "ls = [i for i in range(11)]\n",
    "print(*ls,sep=\"->\")"
   ]
  },
  {
   "cell_type": "code",
   "execution_count": null,
   "metadata": {},
   "outputs": [],
   "source": [
    "ls = [i for i in range(11)]\n",
    "print(ls[0],ls[1],ls[2],sep=\"->\")"
   ]
  },
  {
   "cell_type": "code",
   "execution_count": null,
   "metadata": {},
   "outputs": [],
   "source": [
    "ls = [1]\n",
    "ln = ['sdf']\n",
    "ll = {\"qwe\"}\n",
    "str = 'q'\n",
    "print(type(*str))\n",
    "print(*ls)\n",
    "print(type(ls),type(*ls),type(*ln),type(ll),type(*ll),sep=\"\\t\")"
   ]
  },
  {
   "cell_type": "code",
   "execution_count": null,
   "metadata": {},
   "outputs": [],
   "source": [
    "a=1\n",
    "b=2\n",
    "print(a if a>b else b)"
   ]
  },
  {
   "cell_type": "code",
   "execution_count": null,
   "metadata": {},
   "outputs": [],
   "source": [
    "import datetime as dt\n",
    "today=dt.date.today()\n",
    "print(today)\n",
    "today"
   ]
  },
  {
   "cell_type": "code",
   "execution_count": null,
   "metadata": {},
   "outputs": [],
   "source": [
    "today.timetuple().tm_yday       # 今天是今年的第幾天"
   ]
  },
  {
   "cell_type": "code",
   "execution_count": null,
   "metadata": {},
   "outputs": [],
   "source": [
    "import time \n",
    "import math\n",
    "start=time.time()\n",
    "for i in range(10000000):\n",
    "    math.sin(i)\n",
    "print(\"Time Used:\",time.time()-start)"
   ]
  },
  {
   "cell_type": "code",
   "execution_count": null,
   "metadata": {},
   "outputs": [],
   "source": [
    "loc_sin=math.sin\n",
    "start=time.time()\n",
    "for i in range(10000000):\n",
    "    loc_sin(i)\n",
    "print(\"Time Used:\",time.time()-start)"
   ]
  },
  {
   "cell_type": "code",
   "execution_count": null,
   "metadata": {},
   "outputs": [],
   "source": [
    "from math import sin\n",
    "start=time.time()\n",
    "for i in range(100000000) :\n",
    "    sin(i)\n",
    "print(\"Time Used:\",time.time()-start)"
   ]
  },
  {
   "cell_type": "code",
   "execution_count": null,
   "metadata": {},
   "outputs": [],
   "source": [
    "start=time.time()\n",
    "loc_sin=sin\n",
    "for i in range(100000000) :\n",
    "    loc_sin(i)\n",
    "print(\"Time Used:\",time.time()-start)"
   ]
  },
  {
   "cell_type": "code",
   "execution_count": null,
   "metadata": {},
   "outputs": [],
   "source": [
    "for n in range(100,1,-1):\n",
    "    for i in range(2,n):\n",
    "        if n%i==0:\n",
    "            break\n",
    "    else:\n",
    "        print(i)\n",
    "        break\n"
   ]
  },
  {
   "cell_type": "code",
   "execution_count": null,
   "metadata": {},
   "outputs": [],
   "source": [
    "for i in range(9,10):\n",
    "    if i%2==0:\n",
    "        i+=1\n",
    "        continue\n",
    "    print(id(i),\":\",i)"
   ]
  },
  {
   "cell_type": "code",
   "execution_count": null,
   "metadata": {},
   "outputs": [],
   "source": [
    "for i in range(10):\n",
    "    if i%2==0:\n",
    "        continue\n",
    "    print(id(i),\":\",i)"
   ]
  },
  {
   "cell_type": "code",
   "execution_count": null,
   "metadata": {},
   "outputs": [],
   "source": [
    "ls=['a','b','quanwei','tang']\n",
    "for i,v in enumerate(ls):\n",
    "    print(i,v)"
   ]
  },
  {
   "cell_type": "code",
   "execution_count": null,
   "metadata": {
    "tags": []
   },
   "outputs": [],
   "source": [
    "i=0\n",
    "while True:\n",
    "    print(i,ls[i])\n",
    "    i+=1\n",
    "    if i==len(ls):\n",
    "        break\n"
   ]
  },
  {
   "cell_type": "code",
   "execution_count": null,
   "metadata": {},
   "outputs": [],
   "source": [
    "for i in range(1,10):\n",
    "    for j in range(1,i+1):\n",
    "        print(j,'x',i,'=',i*j,end='  ')\n",
    "    print()"
   ]
  },
  {
   "cell_type": "code",
   "execution_count": null,
   "metadata": {},
   "outputs": [],
   "source": [
    "import math\n",
    "print(math.e,math.pi)"
   ]
  },
  {
   "cell_type": "code",
   "execution_count": null,
   "metadata": {},
   "outputs": [],
   "source": [
    "# 組合數\n",
    "def Cni(n,i):\n",
    "    ret=1\n",
    "    Min,Max=min(i,n-i),max(i,n-i)\n",
    "    for i in range(n,0,-1):\n",
    "        if i>Max:       ## 大於4的乘上\n",
    "            ret *=i\n",
    "        elif i<=Min:\n",
    "            ret /=i       # 小等於2的除掉\n",
    "    return ret\n",
    "\n",
    "print(Cni(100,50))"
   ]
  },
  {
   "cell_type": "code",
   "execution_count": null,
   "metadata": {},
   "outputs": [],
   "source": [
    "import itertools\n",
    "x =\"Quanwei\"\n",
    "y=itertools.cycle(x)        # 循環遍歷\n",
    "for i in range(50):\n",
    "    print(next(y),end=' ')"
   ]
  },
  {
   "cell_type": "code",
   "execution_count": null,
   "metadata": {},
   "outputs": [],
   "source": [
    "# 根據一個序列的值对另一个序列进行过滤\n",
    "x=range(1,20)\n",
    "y=(1,0)*9+(1,)\n",
    "list(itertools.compress(x,y)) "
   ]
  },
  {
   "cell_type": "code",
   "execution_count": null,
   "metadata": {},
   "outputs": [],
   "source": [
    "# 根据返回值分组\n",
    "def Size(v):\n",
    "    if v<0:\n",
    "        return 'less than 0'\n",
    "    elif v<10:\n",
    "        return 'between 0 and 10'\n",
    "    else:\n",
    "        return 'greater than 10'\n",
    "\n",
    "x=range(-10,20)\n",
    "y=itertools.groupby(x,Size)\n",
    "for i,v in y:\n",
    "    print(i,\":\",list(v))"
   ]
  },
  {
   "cell_type": "code",
   "execution_count": null,
   "metadata": {},
   "outputs": [],
   "source": [
    "# 4选3排列\n",
    "list(itertools.permutations([1,2,3,4],3))"
   ]
  },
  {
   "cell_type": "code",
   "execution_count": null,
   "metadata": {},
   "outputs": [],
   "source": [
    "x=itertools.permutations([1,2,3,4],4)\n",
    "next(x)"
   ]
  },
  {
   "cell_type": "code",
   "execution_count": null,
   "metadata": {},
   "outputs": [],
   "source": [
    "ls=list(itertools.permutations([1,2,3,4],4))\n",
    "elem=[]\n",
    "\n",
    "for i in ls:\n",
    "    num=0\n",
    "    for n in i:\n",
    "        num = num*10 +n\n",
    "    elem.append(num)\n",
    "elem"
   ]
  },
  {
   "cell_type": "code",
   "execution_count": null,
   "metadata": {},
   "outputs": [],
   "source": [
    "def Say(message,times=2,length=10):\n",
    "    print((message+' ')*times)\n",
    "Say.__defaults__"
   ]
  },
  {
   "cell_type": "code",
   "execution_count": null,
   "metadata": {},
   "outputs": [],
   "source": [
    "\"\"\" 多次调用函数并且不为默认参数传值\n",
    "    默认参数只在第一次调用时进行解释 \"\"\"\n",
    "def demo(newitem,old_list=[]):\n",
    "    old_list.append(newitem)\n",
    "    return old_list\n",
    "print(demo(1,[2,3,4,5]))\n",
    "print(demo('a'))\n",
    "print(demo('bb'))\n",
    "print(demo(1,[2,3,4,5]))\n"
   ]
  },
  {
   "cell_type": "code",
   "execution_count": null,
   "metadata": {},
   "outputs": [],
   "source": [
    "def demo(newitem,old_list=[]):\n",
    "    if not old_list:\n",
    "        old_list=[]\n",
    "    old_list.append(newitem)\n",
    "    return old_list\n",
    "print(demo(1,[2,3,4,5]))\n",
    "print(demo('a'))\n",
    "print(demo('bb'))\n",
    "print(demo(1,[2,3,4,5]))"
   ]
  },
  {
   "cell_type": "code",
   "execution_count": null,
   "metadata": {},
   "outputs": [],
   "source": [
    "\"\"\" 关键参数 \"\"\"\n",
    "demo(old_list=[1,2,3],newitem=88)"
   ]
  },
  {
   "cell_type": "code",
   "execution_count": null,
   "metadata": {},
   "outputs": [],
   "source": [
    "\"\"\" 可变长度参数 \"\"\"\n",
    "def demo(**para):\n",
    "    for item in para.items():\n",
    "        print(item)\n",
    "    print(para)\n",
    "    \n",
    "demo(x=1,y=2,z=3)"
   ]
  },
  {
   "cell_type": "code",
   "execution_count": null,
   "metadata": {},
   "outputs": [],
   "source": [
    "def add(a,*b):\n",
    "    print(a+sum(b))\n",
    "    return\n",
    "ls=[i for i in range(101)]\n",
    "print(add(*ls))"
   ]
  },
  {
   "cell_type": "code",
   "execution_count": null,
   "metadata": {},
   "outputs": [],
   "source": [
    "import functools\n",
    "dir(functools)"
   ]
  },
  {
   "cell_type": "code",
   "execution_count": null,
   "metadata": {},
   "outputs": [],
   "source": [
    "help(functools.reduce)"
   ]
  },
  {
   "cell_type": "code",
   "execution_count": null,
   "metadata": {},
   "outputs": [],
   "source": [
    "\"\"\" yield生成器 \"\"\"\n",
    "def f():\n",
    "    a,b=1,1\n",
    "    while True:\n",
    "        yield a\n",
    "        a,b=b,a+b\n",
    "a=f()\n",
    "for i in range(10):\n",
    "    print(a.__next__(),end=' ')"
   ]
  },
  {
   "cell_type": "code",
   "execution_count": null,
   "metadata": {},
   "outputs": [],
   "source": [
    "for i in f():\n",
    "    if i>100:\n",
    "        break\n",
    "    print(i,end=' ')"
   ]
  },
  {
   "cell_type": "code",
   "execution_count": null,
   "metadata": {},
   "outputs": [],
   "source": [
    "\"\"\" 查看函数字节码 \"\"\"\n",
    "import dis\n",
    "dis.dis(f)"
   ]
  },
  {
   "cell_type": "code",
   "execution_count": null,
   "metadata": {},
   "outputs": [],
   "source": [
    "\"\"\" 嵌套定义 \"\"\"\n",
    "def linear(a,b):\n",
    "    def result(x):\n",
    "        return a*x+b\n",
    "    return result\n",
    "taxes=linear(0.3,2)\n",
    "taxes(5)"
   ]
  },
  {
   "cell_type": "code",
   "execution_count": null,
   "metadata": {},
   "outputs": [],
   "source": [
    "from math import pi\n",
    "\n",
    "\n",
    "class Circle(object):\n",
    "    _radius = 0\n",
    "\n",
    "    def __init__(self, r) -> None:\n",
    "        self._radius = r\n",
    "\n",
    "    def SetRadius(self, r):\n",
    "        self._radius = r\n",
    "\n",
    "    def GetRadius(self):\n",
    "        return float(self._radius)\n",
    "\n",
    "    def GetCircumference(self):\n",
    "        return 2*pi*self._radius\n",
    "\n",
    "    def GetArea(self):\n",
    "        return pi*self._radius*self._radius\n",
    "\n",
    "    def __del__(self):\n",
    "        print(f'{self}对象已经被删除')\n",
    "\n",
    "\n",
    "class SolidSphere(Circle):\n",
    "    _radius = 0\n",
    "\n",
    "    def GetCircumference(self):\n",
    "        return 2*pi*self._radius\n",
    "\n",
    "    def GetArea(self):\n",
    "        return 4*pi*self._radius*self._radius\n",
    "\n",
    "    def GetVolume(self):\n",
    "        return 4/3*pi*self._radius*self._radius*self._radius\n",
    "\n",
    "\n",
    "c1 = Circle(12.5)\n",
    "print(c1.GetRadius())\n",
    "print(c1.GetCircumference())\n",
    "print(c1.GetArea())\n",
    "print()\n",
    "s1 = SolidSphere(5)\n",
    "print(s1.GetRadius())\n",
    "print(s1.GetCircumference())\n",
    "print(s1.GetArea())\n",
    "print(s1.GetVolume())\n"
   ]
  },
  {
   "cell_type": "code",
   "execution_count": null,
   "metadata": {},
   "outputs": [],
   "source": [
    "class Root:\n",
    "    __total = 0\n",
    "\n",
    "    def __init__(self, v):\n",
    "        self.__value = v\n",
    "        Root.__total += 1\n",
    "\n",
    "    def show(self):\n",
    "        print(\"self.__value = \", self.__value)\n",
    "        print(\"Root.__total = \", Root.__total)\n",
    "    \n",
    "    def __get(self):\n",
    "        return self.__value\n",
    "    \n",
    "    def __set(self,v):\n",
    "        self.__value=v\n",
    "    \n",
    "    def __del(self):\n",
    "        del self.__value\n",
    "\n",
    "    value=property(__get,__set,__del)\n",
    "\n",
    "    @classmethod\n",
    "    def classShowTotal(cls):\n",
    "        print(cls.__total)\n",
    "\n",
    "    @staticmethod\n",
    "    def staticShoowTotal():\n",
    "        print(Root.__total)\n",
    "\n",
    "\n",
    "r = Root(3)\n",
    "r.show()\n",
    "r.value"
   ]
  },
  {
   "cell_type": "code",
   "execution_count": null,
   "metadata": {},
   "outputs": [],
   "source": [
    "print(hex(17))"
   ]
  },
  {
   "cell_type": "code",
   "execution_count": null,
   "metadata": {
    "cell_style": "center"
   },
   "outputs": [],
   "source": [
    "gen = (i for i in range(-20, 21) if i % 2 == 0)\n",
    "for i in gen:\n",
    "    # print(i)\n",
    "    ...\n",
    "\n",
    "\n",
    "def fib(max):\n",
    "    n, a, b = 0, 0, 1\n",
    "    while n < max:\n",
    "        print(b)\n",
    "        a, b = b, a + b\n",
    "        n = n + 1\n",
    "    return 'done'\n",
    "\n",
    "# 一个函数定义中包含yield关键字，\n",
    "# 那么这个函数就不再是一个普通函数，而是一个generator\n",
    "\n",
    "\n",
    "def fib(max):\n",
    "    n, a, b = 0, 0, 1\n",
    "    while n < max:\n",
    "        yield b\n",
    "        a, b = b, a + b\n",
    "        n = n + 1\n",
    "    return 'done'\n",
    "\n",
    "\n",
    "# 如果想要拿到返回值，必须捕获StopIteration错误，\n",
    "# 返回值包含在StopIteration的value中\n",
    "g = fib(6)\n",
    "while True:\n",
    "    try:\n",
    "        x = next(g)\n",
    "        print('g:', x)\n",
    "    except StopIteration as e:\n",
    "        print('Generator return value:', e.value)\n",
    "        break\n"
   ]
  },
  {
   "cell_type": "code",
   "execution_count": null,
   "metadata": {},
   "outputs": [],
   "source": [
    "# 杨辉三角\n",
    "import math\n",
    "m=int(input())\n",
    "ls=([math.comb(n,k) for k in range(n+1) ]for n in range(m))\n",
    "for i in ls:\n",
    "    print(' '*m+'  '.join(list(map(str,i))))\n",
    "    m-=1"
   ]
  },
  {
   "cell_type": "code",
   "execution_count": null,
   "metadata": {},
   "outputs": [],
   "source": [
    "# 可以被next()函数调用并不断返回下一个值的对象称为迭代器：Iterator\n",
    "# 判断\n",
    "from collections.abc import Iterable\n",
    "from collections.abc import Iterator\n",
    "print(isinstance([], Iterable))\n",
    "print(isinstance((x for x in range(10)), Iterator))\n",
    "# 生成器都是Iterator对象，但list、dict、str虽然是Iterable，却不是Iterator\n",
    "print(isinstance([], Iterator))\n",
    "# 凡是可作用于for循环的对象都是Iterable类型\n",
    "# 凡是可作用于next()函数的对象都是Iterator类型\n",
    "# Python的for循环本质上就是通过不断调用next()函数实现的"
   ]
  },
  {
   "cell_type": "code",
   "execution_count": null,
   "metadata": {},
   "outputs": [],
   "source": [
    "from itertools import permutations\n",
    "from functools import reduce\n",
    "\n",
    "ls=permutations([1,2,3,4])\n",
    "for i in ls:\n",
    "    print(reduce(lambda x,y:x*10+y,i))\n"
   ]
  },
  {
   "cell_type": "code",
   "execution_count": null,
   "metadata": {},
   "outputs": [],
   "source": [
    "import string\n",
    "import random\n",
    "def get_value(*a):\n",
    "    # ave = sum(a)/len(a)\n",
    "    # b = [ave]\n",
    "    cA=ca=0\n",
    "    for i in a:\n",
    "        \n",
    "        if 'a'<=i<='z':\n",
    "            ca+=1\n",
    "        elif 'A'<=i<='Z':\n",
    "            cA+=1\n",
    "    return ca,cA\n",
    "\n",
    "contains=string.ascii_lowercase.split()+string.ascii_uppercase.split()\n",
    "ls=[i for i in range(20)]\n",
    "l2=\"adafafasdAMDOADO\"\n",
    "l3=''.join([random.choice(contains) for i in range(20)])\n",
    "print(get_value(*l3))\n",
    "print(*l3)\n",
    "contains\n"
   ]
  },
  {
   "cell_type": "code",
   "execution_count": null,
   "metadata": {},
   "outputs": [],
   "source": [
    "ls=[random.randint(1,10) for i in range(30)]\n",
    "print(ls)\n",
    "print(ls[:2][::-1])\n",
    "print(ls[:2:-1])\n"
   ]
  },
  {
   "cell_type": "code",
   "execution_count": null,
   "metadata": {},
   "outputs": [],
   "source": [
    "def my_reverse(ls, n):\n",
    "    return ls[:n][::-1]+[ls[n]]+ls[n+1:][::-1]\n",
    "\n",
    "\n",
    "print(my_reverse(ls, 2))\n"
   ]
  },
  {
   "cell_type": "code",
   "execution_count": null,
   "metadata": {},
   "outputs": [],
   "source": [
    "def _odd_iter():\n",
    "    n = 1\n",
    "    while True:\n",
    "        n += 2\n",
    "        yield n\n",
    "\n",
    "\n",
    "def primes():\n",
    "    yield 2\n",
    "    it = _odd_iter()  # 初始序列\n",
    "    while True:\n",
    "        n = next(it)  # 返回序列的第一个数\n",
    "        yield n\n",
    "        it = filter(lambda x: x % n != 0, it)  # 构造新序列\n",
    "\n",
    "\n",
    "for n in primes():\n",
    "    if n < 100:\n",
    "        print(n,end=' ')\n",
    "    else:\n",
    "        break\n",
    "\n"
   ]
  },
  {
   "cell_type": "code",
   "execution_count": null,
   "metadata": {},
   "outputs": [],
   "source": [
    "# 在代码运行期间动态增加功能的方式，称之为“装饰器”（Decorator）。\n",
    "# 本质上，decorator就是一个返回函数的高阶函数\n",
    "def log(func):\n",
    "    def wrapper(*names, **kw):\n",
    "        print('call %s():' % func.__name__)\n",
    "        return func(*names, **kw)\n",
    "    return wrapper\n",
    "\n",
    "# 借助Python的@语法，把decorator置于函数的定义处\n",
    "# 相当于 now = log(now)\n",
    "@log\n",
    "def now():\n",
    "    print(\"now 2021 5 12\")\n",
    "\n",
    "f=now\n",
    "f()\n"
   ]
  },
  {
   "cell_type": "code",
   "execution_count": null,
   "metadata": {},
   "outputs": [],
   "source": [
    "def log(text):\n",
    "    def decorator(func):\n",
    "        def wrapper(*names, **kw):\n",
    "            print('%s %s():' % (text, func.__name__))\n",
    "            return func(*names, **kw)\n",
    "        return wrapper\n",
    "    return decorator\n",
    "\n",
    "# now = log('execute')(now)\n",
    "@log('execute')\n",
    "def now():\n",
    "    print('2015-3-25')\n",
    "\n",
    "now()\n",
    "now.__name__"
   ]
  },
  {
   "cell_type": "code",
   "execution_count": null,
   "metadata": {},
   "outputs": [],
   "source": [
    "import functools\n",
    "import time\n",
    "\n",
    "\n",
    "def log(text):\n",
    "    def decorator(func):\n",
    "        @functools.wraps(func)\n",
    "        def wrapper(*names, **kw):\n",
    "            print('%s %s %s():' % (time.ctime(), text, func.__name__))\n",
    "            return func(*names, **kw)\n",
    "        return wrapper\n",
    "    return decorator\n",
    "@log('execute')\n",
    "def now():\n",
    "    print('2015-3-25')\n",
    "now()"
   ]
  },
  {
   "cell_type": "code",
   "execution_count": null,
   "metadata": {},
   "outputs": [],
   "source": []
  },
  {
   "cell_type": "code",
   "execution_count": null,
   "metadata": {},
   "outputs": [],
   "source": [
    "# 偏函数\n",
    "import functools\n",
    "int2 = functools.partial(int, base=2)\n",
    "int2('1000000')"
   ]
  },
  {
   "cell_type": "code",
   "execution_count": null,
   "metadata": {},
   "outputs": [],
   "source": [
    "from types import MethodType\n",
    "\n",
    "\n",
    "class MyCLass(object):\n",
    "    \"\"\"docstring for MyCLass.\"\"\"\n",
    "    # 只允许对Student实例添加name和age属性\n",
    "    __slots__ = ('__name', 'num', 'say', \"__scores\")  # 用tuple定义允许绑定的属性名称\n",
    "\n",
    "    def __init__(self, name, scores=0):\n",
    "        super(MyCLass, self).__init__()\n",
    "        self.__name = name\n",
    "        self.__scores = scores\n",
    "\n",
    "    # @property装饰器就是负责把一个方法变成属性调用的\n",
    "    @property\n",
    "    def getScores(self):\n",
    "        return self.__scores\n",
    "\n",
    "\n",
    "def say(self):\n",
    "    print(say.__name__, \"is running\")\n",
    "\n",
    "\n",
    "s = MyCLass(\"Ss\")\n",
    "\n",
    "# 给实例绑定一个属性\n",
    "s.num = \"1234\"\n",
    "\n",
    "# 给实例绑定一个方法,对另一个实例是不起作用的\n",
    "s.say = MethodType(say, s)\n",
    "s.say()\n",
    "\n",
    "# 给class绑定方法\n",
    "MyCLass.say = say\n",
    "\n",
    "s2 = MyCLass(\"asd\")\n",
    "s2.say()\n",
    "s2.getScores\n"
   ]
  },
  {
   "cell_type": "code",
   "execution_count": null,
   "metadata": {},
   "outputs": [],
   "source": [
    "class Fib(object):\n",
    "    def __init__(self, name=\"Fib\"):\n",
    "        self.a, self.b = 0, 1\n",
    "#         self.name = name\n",
    "        # 初始化两个计数器a，b\n",
    "\n",
    "#     def __str__(self):\n",
    "#         return f'Fib object (name:{self.name})'\n",
    "#     __repr__ = __str__\n",
    "\n",
    "#     def __call__(self):\n",
    "#         print('My name is %s.' % self.name)\n",
    "\n",
    "    def __iter__(self):\n",
    "        return self\n",
    "        # 实例本身就是迭代对象，故返回自己\n",
    "\n",
    "    def __next__(self):\n",
    "        self.a, self.b = self.b, self.a + self.b  # 计算下一个值\n",
    "        if self.a > 100000:\n",
    "            # 退出循环的条件\n",
    "            raise StopIteration()\n",
    "        return self.a\n",
    "        # 返回下一个值\n",
    "\n",
    "    def __getitem__(self, n):\n",
    "        def __getitem__(self, n):\n",
    "            if isinstance(n, int):  # n是索引\n",
    "                a, b = 1, 1\n",
    "            for x in range(n):\n",
    "                a, b = b, a + b\n",
    "            return a\n",
    "        if isinstance(n, slice):  # n是切片\n",
    "            start = n.start\n",
    "            stop = n.stop\n",
    "            if start is None:\n",
    "                start = 0\n",
    "            a, b = 1, 1\n",
    "            L = []\n",
    "            for x in range(stop):\n",
    "                if x >= start:\n",
    "                    L.append(a)\n",
    "                a, b = b, a + b\n",
    "            return L\n",
    "\n",
    "\n",
    "Fib()[:3]"
   ]
  },
  {
   "cell_type": "code",
   "execution_count": null,
   "metadata": {},
   "outputs": [],
   "source": [
    "# 枚举类Enumerate class\n",
    "from enum import Enum\n",
    "# value属性则是自动赋给成员的int常量，默认从1开始计数\n",
    "Month = Enum('Month', ('Jan', 'Feb', 'Mar', 'Apr', 'May', 'Jun', 'Jul', 'Aug', 'Sep', 'Oct', 'Nov', 'Dec'))\n",
    "for name, member in Month.__members__.items():\n",
    "    print(name, '=>', member, ',', member.value)"
   ]
  },
  {
   "cell_type": "code",
   "execution_count": null,
   "metadata": {},
   "outputs": [],
   "source": [
    "from enum import Enum, unique\n",
    "\n",
    "\n",
    "@unique  # 装饰器可以帮助我们检查保证没有重复值。\n",
    "class Weekday(Enum):\n",
    "    Sun = 0  # Sun的value被设定为0\n",
    "    Mon = 1\n",
    "    Tue = 2\n",
    "    Wed = 3\n",
    "    Thu = 4\n",
    "    Fri = 5\n",
    "    Sat = 6\n",
    "\n",
    "\n",
    "for i in Weekday:\n",
    "    print(i)\n",
    "\n",
    "for name, member in Weekday.__members__.items():\n",
    "    print(name, '=>', member.value)"
   ]
  },
  {
   "cell_type": "code",
   "execution_count": null,
   "metadata": {},
   "outputs": [],
   "source": [
    "# type()函数既可以返回一个对象的类型，又可以创建出新的类型\n",
    "def fn(self, name='word'):\n",
    "    print(\"Hello\", name)\n",
    "\n",
    "# 要创建一个class对象，type()函数依次传入3个参数：\n",
    "# class的名称；\n",
    "# 继承的父类集合，注意Python支持多重继承，如果只有一个父类，别忘了tuple的单元素写法；\n",
    "# class的方法名称与函数绑定，这里我们把函数fn绑定到方法名hello上。\n",
    "Hello = type('hello', (object,), dict(hello=fn))\n",
    "# 创建Hello class\n",
    "h = Hello()\n",
    "h.hello()\n",
    "print(type(Hello))\n",
    "print(type(h))"
   ]
  },
  {
   "cell_type": "code",
   "execution_count": null,
   "metadata": {},
   "outputs": [],
   "source": [
    "from collections import namedtuple\n",
    "Point = namedtuple(\"point\",['x','y'])\n",
    "p=Point(1,2)\n",
    "print(p.x,p.y)\n",
    "print(isinstance(p,Point))\n",
    "print(isinstance(p,tuple))\n",
    "help(namedtuple)"
   ]
  },
  {
   "cell_type": "code",
   "execution_count": null,
   "metadata": {},
   "outputs": [],
   "source": [
    "from collections import deque\n",
    "#* 高效实现插入和删除操作的双向列表\n",
    "q=deque(['a','b','c'])\n",
    "q.append('x')\n",
    "print(q)\n",
    "q.appendleft('y')\n",
    "print(q)\n",
    "q.popleft()\n",
    "print(q)"
   ]
  },
  {
   "cell_type": "code",
   "execution_count": null,
   "metadata": {},
   "outputs": [],
   "source": [
    "class Person():\n",
    "    def __init__(self, name, age, gender):\n",
    "        self.__name = name\n",
    "        self.__age = age\n",
    "        self.__gender = ['Error', gender][gender in ['Male', 'Female']]\n",
    "\n",
    "    @property\n",
    "    def personInfo(self):\n",
    "        print(\"name:\", self.__name, \"\\nage:\",\n",
    "              self.__age, \"\\ngender:\", self.__gender)\n",
    "\n",
    "    @property\n",
    "    def getName(self):\n",
    "        return self.__name\n",
    "\n",
    "    @property\n",
    "    def getAge(self):\n",
    "        return self.__age\n",
    "\n",
    "    @property\n",
    "    def getGender(self):\n",
    "        return self.__gender\n",
    "\n",
    "\n",
    "class Student(Person):\n",
    "    def __init__(self, name, age, gender, collage, class_):\n",
    "        super().__init__(name, age, gender)\n",
    "        self.__collage = collage\n",
    "        self.__class = class_\n",
    "\n",
    "    @property\n",
    "    def personInfo(self):\n",
    "        print(\"name:\", self.__name, \"\\nage:\", self.getAge, \"\\ngender:\",\n",
    "              self.getGender, \"\\ncollage:\", self.__collage, \"\\nclass:\", self.__class)\n",
    "\n",
    "    def study(self, teacher):\n",
    "        print(f\"{teacher.getName}老师,我终于学会了{teacher.teachObj}\")\n",
    "\n",
    "    def __str__(self):\n",
    "        return \"name:\" + self.getName + \"\\nage:\" + self.getAge + \"\\ngender:\" + self.getGender + \"\\ncollage:\" + self.__collage + \"\\nclass:\" + self.__class\n",
    "    __repr__=__str__\n",
    "\n",
    "class Teacher(Person):\n",
    "    def __init__(self, name, age, gender, college, professional):\n",
    "        super().__init__(name, age, gender)\n",
    "        self.__collage = college\n",
    "        self.__professional = professional\n",
    "\n",
    "    @property\n",
    "    def personInfo(self):\n",
    "        print(\"name:\", self.getName, \"\\nage:\", self.getAge, \"\\ngender:\", self.getGender,\n",
    "              \"\\ncollage:\", self.__collage, \"\\nprofessional:\", self.__professional)\n",
    "\n",
    "    @property\n",
    "    def teachObj(self):\n",
    "        return '今天讲的如何面向对象设计程序'"
   ]
  },
  {
   "cell_type": "code",
   "execution_count": null,
   "metadata": {},
   "outputs": [],
   "source": [
    "p1 = Person(\"Quanwei\", \"18\", \"Male\")\n",
    "s1 = Student(\"Quanwei\", \"18\", \"Male\", \"电信学院\", \"软件2002\")\n",
    "s2 = Student(\"Dog\", \"18\", \"Male\", \"电信学院\", \"软件2002\")\n",
    "s3 = Student(\"Wangcai\", \"18\", \"Male\", \"电信学院\", \"软件2002\")\n",
    "t1 = Teacher(\"Zhou\", \"28\", \"Male\", \"电信学院\", \"Python\")\n",
    "p1.personInfo\n",
    "t1.personInfo\n",
    "s1.study(t1)\n",
    "for i in [s1, s2, s3]:\n",
    "    print(i)"
   ]
  },
  {
   "cell_type": "code",
   "execution_count": null,
   "metadata": {},
   "outputs": [],
   "source": [
    "s1"
   ]
  },
  {
   "cell_type": "code",
   "execution_count": null,
   "metadata": {},
   "outputs": [],
   "source": [
    "\"quanwei\".__len__()"
   ]
  },
  {
   "cell_type": "code",
   "execution_count": null,
   "metadata": {},
   "outputs": [],
   "source": [
    "# 文件IO\n",
    "try:\n",
    "    f=open('../txts/hamlet.txt','r')\n",
    "    print(f.read())\n",
    "except:\n",
    "    print('ioerror')\n",
    "finally:\n",
    "    f.close()"
   ]
  },
  {
   "cell_type": "code",
   "execution_count": 4,
   "metadata": {},
   "outputs": [
    {
     "name": "stdout",
     "output_type": "stream",
     "text": [
      "软件工程是一门研究用工程化方法构建和维护有效的、实用的和高质量的软件的学科。\n",
      "它涉及程序设计语言、数据库、软件开发工具、系统平台、标准、设计模式等方面。\n",
      "在现代社会中，软件应用于多个方面。\n",
      "典型的软件有电子邮件、嵌入式系统、人机界面、办公套件、操作系统、编译器、数据库、游戏等。\n",
      "同时，各个行业几乎都有计算机软件的应用，如工业、农业、银行、航空、政府部门等。\n",
      "这些应用促进了经济和社会的发展，也提高了工作效率和生活效率 。\n",
      "软件工程的目标是：在给定成本、进度的前提下，开发出具有适用性、有效性、可修改性、可靠性、可理解性、可维护性、可重用性、可移植性、可追踪性、可互操作性和满足用户需求的软件产品。追求这些目标有助于提高软件产品的质量和开发效率，减少维护的困难。\n",
      "（1）适用性：软件在不同的系统约束条件下，使用户需求得到满足的难易程度。\n",
      "（2）有效性：软件系统能最有效的利用计算机的时间和空间资源。各种软件无不把系统的时/空开销作为衡量软件质量的一项重要技术指标。很多场合，在追求时间有效性和空间有效性时会发生矛盾，这时不得不牺牲时间有效性换取空间有效性或牺牲空间有效性换取时间有效性。时/空折衷是经常采用的技巧。\n",
      "（3）可修改性：允许对系统进行修改而不增加原系统的复杂性。它支持软件的调试和维护，是一个难以达到的目标。\n",
      "（4）可靠性：能防止因概念、设计和结构等方面的不完善造成的软件系统失效，具有挽回因操作不当造成软件系统失效的能力。\n",
      "（5）可理解性：系统具有清晰的结构，能直接反映问题的需求。可理解性有助于控制系统软件复杂性，并支持软件的维护、移植或重用。\n",
      "（6）可维护性：软件交付使用后，能够对它进行修改，以改正潜伏的错误，改进性能和其它属性，使软件产品适应环境的变化等。软件维护费用在软件开发费用中占有很大的比重。可维护性是软件工程中一项十分重要的目标。\n",
      "（7）可重用性：把概念或功能相对独立的一个或一组相关模块定义为一个软部件。可组装在系统的任何位置，降低工作量。\n",
      "（8）可移植性：软件从一个计算机系统或环境搬到另一个计算机系统或环境的难易程度。\n",
      "（9）可追踪性：根据软件需求对软件设计、程序进行正向追踪，或根据软件设计、程序对软件需求的逆向追踪的能力。\n",
      "（10）可互操作性：多个软件元素相互通信并协同完成任务的能力。\n"
     ]
    }
   ],
   "source": [
    "# 和前面的try ... finally是一样的\n",
    "# 并且不必调用f.close()方法\n",
    "with open('../txts/words.txt','r') as f:\n",
    "    print(f.read())"
   ]
  },
  {
   "cell_type": "code",
   "execution_count": 3,
   "metadata": {},
   "outputs": [
    {
     "name": "stdout",
     "output_type": "stream",
     "text": [
      "软件工程是一门研究用工程化方法构建和维护有效的、实用的和高质量的软件的学科。\n",
      "\n",
      "它涉及程序设计语言、数据库、软件开发工具、系统平台、标准、设计模式等方面。\n",
      "\n",
      "在现代社会中，软件应用于多个方面。\n",
      "\n",
      "典型的软件有电子邮件、嵌入式系统、人机界面、办公套件、操作系统、编译器、数据库、游戏等。\n",
      "\n",
      "同时，各个行业几乎都有计算机软件的应用，如工业、农业、银行、航空、政府部门等。\n",
      "\n",
      "这些应用促进了经济和社会的发展，也提高了工作效率和生活效率 。\n",
      "\n",
      "软件工程的目标是：在给定成本、进度的前提下，开发出具有适用性、有效性、可修改性、可靠性、可理解性、可维护性、可重用性、可移植性、可追踪性、可互操作性和满足用户需求的软件产品。追求这些目标有助于提高软件产品的质量和开发效率，减少维护的困难。\n",
      "\n",
      "（1）适用性：软件在不同的系统约束条件下，使用户需求得到满足的难易程度。\n",
      "\n",
      "（2）有效性：软件系统能最有效的利用计算机的时间和空间资源。各种软件无不把系统的时/空开销作为衡量软件质量的一项重要技术指标。很多场合，在追求时间有效性和空间有效性时会发生矛盾，这时不得不牺牲时间有效性换取空间有效性或牺牲空间有效性换取时间有效性。时/空折衷是经常采用的技巧。\n",
      "\n",
      "（3）可修改性：允许对系统进行修改而不增加原系统的复杂性。它支持软件的调试和维护，是一个难以达到的目标。\n",
      "\n",
      "（4）可靠性：能防止因概念、设计和结构等方面的不完善造成的软件系统失效，具有挽回因操作不当造成软件系统失效的能力。\n",
      "\n",
      "（5）可理解性：系统具有清晰的结构，能直接反映问题的需求。可理解性有助于控制系统软件复杂性，并支持软件的维护、移植或重用。\n",
      "\n",
      "（6）可维护性：软件交付使用后，能够对它进行修改，以改正潜伏的错误，改进性能和其它属性，使软件产品适应环境的变化等。软件维护费用在软件开发费用中占有很大的比重。可维护性是软件工程中一项十分重要的目标。\n",
      "\n",
      "（7）可重用性：把概念或功能相对独立的一个或一组相关模块定义为一个软部件。可组装在系统的任何位置，降低工作量。\n",
      "\n",
      "（8）可移植性：软件从一个计算机系统或环境搬到另一个计算机系统或环境的难易程度。\n",
      "\n",
      "（9）可追踪性：根据软件需求对软件设计、程序进行正向追踪，或根据软件设计、程序对软件需求的逆向追踪的能力。\n",
      "\n",
      "（10）可互操作性：多个软件元素相互通信并协同完成任务的能力。\n"
     ]
    }
   ],
   "source": [
    "with open('../txts/words.txt','r') as f:\n",
    "    for line in f.readlines():\n",
    "        print(line)"
   ]
  },
  {
   "cell_type": "code",
   "execution_count": 1,
   "metadata": {},
   "outputs": [
    {
     "name": "stdout",
     "output_type": "stream",
     "text": [
      "Tang Quanwei\n"
     ]
    }
   ],
   "source": [
    "from io import StringIO\n",
    "f = StringIO()\n",
    "f.write(\"Tang\")\n",
    "f.write(\" \")\n",
    "f.write(\"Quanwei\")\n",
    "print(f.getvalue())\n"
   ]
  },
  {
   "cell_type": "code",
   "execution_count": 1,
   "metadata": {},
   "outputs": [
    {
     "name": "stdout",
     "output_type": "stream",
     "text": [
      "1\n",
      "\n"
     ]
    },
    {
     "data": {
      "text/plain": [
       "['1']"
      ]
     },
     "execution_count": 1,
     "metadata": {},
     "output_type": "execute_result"
    }
   ],
   "source": [
    "ls=[]\n",
    "# while s:=input():\n",
    "while (s:=input())!='':\n",
    "    ls.append(s)\n",
    "ls"
   ]
  }
 ],
 "metadata": {
  "interpreter": {
   "hash": "ac59ebe37160ed0dfa835113d9b8498d9f09ceb179beaac4002f036b9467c963"
  },
  "kernelspec": {
   "display_name": "Python 3",
   "language": "python",
   "name": "python3"
  },
  "language_info": {
   "codemirror_mode": {
    "name": "ipython",
    "version": 3
   },
   "file_extension": ".py",
   "mimetype": "text/x-python",
   "name": "python",
   "nbconvert_exporter": "python",
   "pygments_lexer": "ipython3",
   "version": "3.9.4"
  },
  "metadata": {
   "interpreter": {
    "hash": "78a022ac77446f354d31e836af73f58b0c1bbd5e689bddf81efabb290314bc59"
   }
  },
  "varInspector": {
   "cols": {
    "lenName": 16,
    "lenType": 16,
    "lenVar": 40
   },
   "kernels_config": {
    "python": {
     "delete_cmd_postfix": "",
     "delete_cmd_prefix": "del ",
     "library": "var_list.py",
     "varRefreshCmd": "print(var_dic_list())"
    },
    "r": {
     "delete_cmd_postfix": ") ",
     "delete_cmd_prefix": "rm(",
     "library": "var_list.r",
     "varRefreshCmd": "cat(var_dic_list()) "
    }
   },
   "types_to_exclude": [
    "module",
    "function",
    "builtin_function_or_method",
    "instance",
    "_Feature"
   ],
   "window_display": false
  }
 },
 "nbformat": 4,
 "nbformat_minor": 2
}