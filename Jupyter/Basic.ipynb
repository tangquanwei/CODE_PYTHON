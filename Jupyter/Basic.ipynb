{
 "cells": [
  {
   "cell_type": "markdown",
   "source": [
    "### 程序编写方法(IPO)\n",
    "I :input \n",
    "P :process \n",
    "O :output \n",
    "1.确定IPO \n",
    "2.编写 \n",
    "3.调试 \n",
    "### 首先，掌握编程语法，熟悉基本概念和逻辑\n",
    "### 其次，结合计算问题思考程序结构，会使用编程套路\n",
    "### 最后，参照案例，多练习多实践，学会举一反三"
   ],
   "metadata": {}
  },
  {
   "cell_type": "markdown",
   "source": [
    "# 1.基本数据类型及操作 for in \n",
    "\n",
    "### 整数：可正可负，没有大小限制\n",
    "### 浮点数：取值范围和进度都存在限制，取值范围+-10^308,精度数量级10^-16\n",
    "### 浮点数间运算存在不确定尾数，如：\n",
    "### 0.1+0.2=0.30000000000000004\n",
    "### python用53位二进制表示小数部分，约e-16\n",
    "### 0.1用二进制表示是无限小数\n",
    "### python提供复数类型\n",
    "### 不同类型进行计算结果为最宽类型\n",
    "\n"
   ],
   "metadata": {}
  },
  {
   "cell_type": "markdown",
   "source": [
    "Python 默认拥有以下内置数据类型：  \n",
    "  文本类型：\tstr  \n",
    "  数值类型：\tint, float, complex  \n",
    "  序列类型：\tlist, tuple, range  \n",
    "  映射类型：\tdict  \n",
    "  集合类型：\tset, frozenset  \n",
    "  布尔类型：\tbool  \n",
    "二进制类型：\tbytes, bytearray, memoryview  "
   ],
   "metadata": {}
  },
  {
   "cell_type": "markdown",
   "source": [
    "!a (使用 ascii()), !s (使用 str()) 和 !r (使用 repr()) "
   ],
   "metadata": {}
  },
  {
   "cell_type": "markdown",
   "source": [
    "%\t取模 - 返回除法的余数\tb % a 输出结果 1  \n",
    "**\t幂 - 返回x的y次幂\ta**b 为10的21次方  \n",
    "//\t取整除 - 向下取接近商的整数 -33//2=-17 33//2=-16"
   ],
   "metadata": {}
  },
  {
   "cell_type": "code",
   "execution_count": 1,
   "source": [
    "a=1234\r\n",
    "b='b'\r\n",
    "c='a+1'\r\n",
    "print(a,type(a))\r\n",
    "print(str(a),type(str(a)))\r\n",
    "print(repr(a),type(repr(a)))\r\n",
    "print(ord(b),type(ord(b)))\r\n",
    "print(ascii('å'),type(ascii('å'))) #转义非 ASCII 字符\r\n",
    "print(hex(a),type(hex(a)))\r\n",
    "print(oct(a),type(oct(a)))\r\n",
    "print(c,type(c))\r\n",
    "print(eval(c),type(eval(c)))"
   ],
   "outputs": [
    {
     "output_type": "stream",
     "name": "stdout",
     "text": [
      "1234 <class 'int'>\n",
      "1234 <class 'str'>\n",
      "1234 <class 'str'>\n",
      "98 <class 'int'>\n",
      "'\\xe5' <class 'str'>\n",
      "0x4d2 <class 'str'>\n",
      "0o2322 <class 'str'>\n",
      "a+1 <class 'str'>\n",
      "1235 <class 'int'>\n"
     ]
    }
   ],
   "metadata": {}
  },
  {
   "cell_type": "code",
   "execution_count": null,
   "source": [
    "# 字符串可以用 + 运算符连接在一起，用 * 运算符重复\r\n",
    "name = \"TangQuanwei\"\r\n",
    "num = 20203206222\r\n",
    "print('my name is %s' %name) # 旧式格式化方法\r\n",
    "print('my num is %d' %num)\r\n",
    "print(name+name)\r\n",
    "print(name*5)"
   ],
   "outputs": [],
   "metadata": {}
  },
  {
   "cell_type": "code",
   "execution_count": null,
   "source": [
    "\"{:,.2f}\".format(1234567.98765)"
   ],
   "outputs": [],
   "metadata": {}
  },
  {
   "cell_type": "code",
   "execution_count": 3,
   "source": [
    "\"{0:b},{0:c},{0:d},{0:o},{0:x},{0:X}\".format(425)\r\n"
   ],
   "outputs": [
    {
     "output_type": "execute_result",
     "data": {
      "text/plain": [
       "'110101001,Ʃ,425,651,1a9,1A9'"
      ]
     },
     "metadata": {},
     "execution_count": 3
    }
   ],
   "metadata": {}
  },
  {
   "cell_type": "code",
   "execution_count": 4,
   "source": [
    "\"{0:e},{0:E},{0:f},{0:%}\".format(3.14)"
   ],
   "outputs": [
    {
     "output_type": "execute_result",
     "data": {
      "text/plain": [
       "'3.140000e+00,3.140000E+00,3.140000,314.000000%'"
      ]
     },
     "metadata": {},
     "execution_count": 4
    }
   ],
   "metadata": {}
  },
  {
   "cell_type": "code",
   "execution_count": 5,
   "source": [
    "name=\"唐权威\"\r\n",
    "print(f'我的名字叫：{name}')"
   ],
   "outputs": [
    {
     "output_type": "stream",
     "name": "stdout",
     "text": [
      "我的名字叫：唐权威\n"
     ]
    }
   ],
   "metadata": {}
  },
  {
   "cell_type": "code",
   "execution_count": 7,
   "source": [
    "# r后面的 / 不转义\r\n",
    "print(r\"hahahhaha\\nas\")"
   ],
   "outputs": [
    {
     "output_type": "stream",
     "name": "stdout",
     "text": [
      "hahahhaha\\nas\n"
     ]
    }
   ],
   "metadata": {}
  },
  {
   "cell_type": "markdown",
   "source": [
    "# 2.字符串类型及其操作 \n",
    "# from import as def"
   ],
   "metadata": {}
  },
  {
   "cell_type": "code",
   "execution_count": 8,
   "source": [
    "from time import *\r\n",
    "print(time())\r\n",
    "print(ctime())\r\n",
    "print(gmtime())"
   ],
   "outputs": [
    {
     "output_type": "stream",
     "name": "stdout",
     "text": [
      "1625555208.917011\n",
      "Tue Jul  6 15:06:48 2021\n",
      "time.struct_time(tm_year=2021, tm_mon=7, tm_mday=6, tm_hour=7, tm_min=6, tm_sec=48, tm_wday=1, tm_yday=187, tm_isdst=0)\n"
     ]
    }
   ],
   "metadata": {}
  },
  {
   "cell_type": "code",
   "execution_count": 9,
   "source": [
    "import time\r\n",
    "time.strftime(\"%Y-%m-%d %p.%I:%M:%S\",time.gmtime())"
   ],
   "outputs": [
    {
     "output_type": "execute_result",
     "data": {
      "text/plain": [
       "'2021-07-06 AM.07:07:19'"
      ]
     },
     "metadata": {},
     "execution_count": 9
    }
   ],
   "metadata": {}
  },
  {
   "cell_type": "code",
   "execution_count": 10,
   "source": [
    "import time\r\n",
    "start=time.perf_counter_ns()\r\n",
    "end=perf_counter_ns()\r\n",
    "\r\n",
    "start1=time.perf_counter()\r\n",
    "end1=perf_counter()\r\n",
    "print(end-start,end1-start1)"
   ],
   "outputs": [
    {
     "output_type": "stream",
     "name": "stdout",
     "text": [
      "15800 1.0900000006586197e-05\n"
     ]
    }
   ],
   "metadata": {}
  },
  {
   "cell_type": "code",
   "execution_count": 11,
   "source": [
    "import time\r\n",
    "def wait():\r\n",
    "    time.sleep(10)\r\n",
    "wait()#程序等待10秒后退出"
   ],
   "outputs": [],
   "metadata": {}
  },
  {
   "cell_type": "markdown",
   "source": [
    "# 文本进度条"
   ],
   "metadata": {}
  },
  {
   "cell_type": "code",
   "execution_count": 13,
   "source": [
    "import time\r\n",
    "for i in range(101):\r\n",
    "    print(\"\\r{:3}%\".format(i),end=\" \") # \\r 回车\r\n",
    "    time.sleep(0.05)"
   ],
   "outputs": [
    {
     "output_type": "stream",
     "name": "stdout",
     "text": [
      "100% "
     ]
    }
   ],
   "metadata": {}
  },
  {
   "cell_type": "code",
   "execution_count": 21,
   "source": [
    "#TextProBarV2.py\r\n",
    "import time\r\n",
    "scale=100\r\n",
    "print(\"执行开始\".center(104,'='))\r\n",
    "for i in range(scale+1):\r\n",
    "    a='#'*i\r\n",
    "    b='-'*(scale-i)\r\n",
    "    c=(i/scale)*100\r\n",
    "    print(\"\\r{:^3.0f}%[{}=>{}]\".format(c,a,b),end=\"\")\r\n",
    "    time.sleep(0.06)\r\n",
    "print(\"\\n\"+\"执行结束\".center(104,'='))"
   ],
   "outputs": [
    {
     "output_type": "stream",
     "name": "stdout",
     "text": [
      "==================================================执行开始==================================================\n",
      "100%[####################################################################################################=>]\n",
      "==================================================执行结束==================================================\n"
     ]
    }
   ],
   "metadata": {}
  },
  {
   "cell_type": "code",
   "execution_count": 24,
   "source": [
    "#TextProBarV3.py\r\n",
    "import time\r\n",
    "scale=50\r\n",
    "print(\"执行开始\".center(scale,\"-\"))\r\n",
    "start=time.perf_counter()\r\n",
    "for i in range(scale-i):\r\n",
    "    a='*'*i\r\n",
    "    b='.'*(scale-i)\r\n",
    "    c=(i/scale)*100\r\n",
    "    dur=time.perf_counter()-start\r\n",
    "    print(\"\\r{:^3.0f}%[{}->{}]{:.2f}s\".format(c,a,b,dur),end='')\r\n",
    "    time.sleep(0.05)\r\n",
    "print(\"\\n\"+\"执行结束\".center(scale,'-'))\r\n"
   ],
   "outputs": [
    {
     "output_type": "stream",
     "name": "stdout",
     "text": [
      "-----------------------执行开始-----------------------\n",
      "\n",
      "-----------------------执行结束-----------------------\n"
     ]
    }
   ],
   "metadata": {}
  },
  {
   "cell_type": "markdown",
   "source": [
    "# 3.程序控制结构 \n",
    "# if elif else try except else finally break continue"
   ],
   "metadata": {}
  },
  {
   "cell_type": "code",
   "execution_count": null,
   "source": [
    "try:\r\n",
    "    guss=eval(input())\r\n",
    "    print(\"猜{}了\".format(\"对\"if guss==99 else \"错\"))\r\n",
    "except NameError:\r\n",
    "    print(\"格式错了\")"
   ],
   "outputs": [],
   "metadata": {}
  },
  {
   "cell_type": "code",
   "execution_count": null,
   "source": [
    "#BMI_V1.py\r\n",
    "try:\r\n",
    "    height,weight = eval(input(\"请输入身高（米）和体重（千克）用逗号隔开：\"))\r\n",
    "    bmi=weight/pow(height,2)\r\n",
    "    print(\"BMI数值为：{:.2f}\".format(bmi))\r\n",
    "    who, nat = \"\", \"\"\r\n",
    "    if bmi<18.5:\r\n",
    "        who, nat=\"偏廋\", \"偏瘦\"\r\n",
    "    elif 18.5<= bml<24:\r\n",
    "        who,nat=\"正常\",\"正常\"\r\n",
    "    elif 24<=bmi<25:\r\n",
    "        who,nat=\"正常\",\"偏胖\"\r\n",
    "    elif 25<=bmi<28:\r\n",
    "        who,nat=\"偏胖\",\"偏胖\"\r\n",
    "    elif 28<=bmi<30:\r\n",
    "        who,nat=\"偏胖\",\"肥胖\"\r\n",
    "    else:\r\n",
    "        who,nat=\"肥胖\",\"肥胖\"\r\n",
    "    print(\"WHO为{}，国内为{}\".format(who,nat))\r\n",
    "except:\r\n",
    "    print(\"请检查输入格式\")\r\n",
    "else:\r\n",
    "    print(\"很好噢\")\r\n",
    "finally:\r\n",
    "    print(\"谢谢使用！\")\r\n",
    "\r\n"
   ],
   "outputs": [],
   "metadata": {}
  },
  {
   "cell_type": "code",
   "execution_count": 25,
   "source": [
    "for c in \"PYTHON\":\r\n",
    "    if c==\"T\":\r\n",
    "        continue\r\n",
    "    print(c, end=\"\")\r\n",
    "else:       # for 循环中的 else 关键字指定循环结束时要执行的代码块：\r\n",
    "    print(\"正常退出\")"
   ],
   "outputs": [
    {
     "output_type": "stream",
     "name": "stdout",
     "text": [
      "PYHON正常退出\n"
     ]
    }
   ],
   "metadata": {}
  },
  {
   "cell_type": "code",
   "execution_count": 26,
   "source": [
    "for c in \"PYTHON\":\r\n",
    "    if c==\"T\":\r\n",
    "        break\r\n",
    "    print(c, end=\"\")\r\n",
    "else:\r\n",
    "    print(\"正常退出\") #没有被break退出执行else"
   ],
   "outputs": [
    {
     "output_type": "stream",
     "name": "stdout",
     "text": [
      "PY"
     ]
    }
   ],
   "metadata": {}
  },
  {
   "cell_type": "markdown",
   "source": [
    "# random库"
   ],
   "metadata": {}
  },
  {
   "cell_type": "code",
   "execution_count": null,
   "source": [
    "# from random import *\r\n",
    "# print(seed(1))#产生种子\r\n",
    "# print(random())#产生随机数\r\n",
    "# print(randint(a,b))#产生[a,b]的整数\r\n",
    "# print(randrange(m,n[,k]))#产生[m,n)步长为K的整数\r\n",
    "# print(getrandbits(k))#产生k比特长的整数\r\n",
    "# print(uniform(a,b))#[a,b]随机小数\r\n",
    "# print(choice(seq))#序列seq中随机选一个元素\r\n",
    "# print(shuffle(seq))#随机排列seq\r\n"
   ],
   "outputs": [],
   "metadata": {}
  },
  {
   "cell_type": "code",
   "execution_count": 30,
   "source": [
    "from random import *\r\n",
    "seed(1)#产生种子\r\n",
    "print(random())#产生随机数\r\n",
    "print(randint(2,3))#产生[a,b]的整数\r\n",
    "print(randrange(1,100,2))#产生[m,n)步长为K的整数\r\n",
    "print(getrandbits(6))#产生k比特长的整数\r\n",
    "print(uniform(1,2))#[a,b]随机小数\r\n",
    "print(choice([1,2,3,4,5,6]))#序列seq中随机选一个元素\r\n",
    "ls=[1,2,3,4,5,6]\r\n",
    "shuffle(ls)\r\n",
    "print(ls)#随机排列seq"
   ],
   "outputs": [
    {
     "output_type": "stream",
     "name": "stdout",
     "text": [
      "0.13436424411240122\n",
      "2\n",
      "33\n",
      "7\n",
      "1.4954350870919408\n",
      "4\n",
      "[3, 5, 1, 2, 6, 4]\n"
     ]
    }
   ],
   "metadata": {}
  },
  {
   "cell_type": "code",
   "execution_count": 39,
   "source": [
    "#CalPiV1.py\r\n",
    "pi=0\r\n",
    "N=100\r\n",
    "from time import perf_counter\r\n",
    "start=perf_counter()\r\n",
    "for k in range(N):\r\n",
    "    pi +=1/pow(16,k)*(4/(8*k+1)-2/(8*k+4)-1/(8*k+5)-1/(8*k+6))\r\n",
    "print(\"Pi = {}\\n运行时间：{}s\".format(pi,perf_counter()-start))"
   ],
   "outputs": [
    {
     "output_type": "stream",
     "name": "stdout",
     "text": [
      "Pi = 3.141592653589793\n",
      "运行时间：0.0001669000000674714s\n"
     ]
    }
   ],
   "metadata": {}
  },
  {
   "cell_type": "code",
   "execution_count": 40,
   "source": [
    "#CalPiV2\r\n",
    "from random import random\r\n",
    "from time import perf_counter\r\n",
    "DARTS =1000*1000\r\n",
    "hits = 0\r\n",
    "start = perf_counter()\r\n",
    "for i in range(1,DARTS+1):\r\n",
    "    x,y = random(),random()\r\n",
    "    dist = pow(x**2+y**2,0.5)\r\n",
    "    if dist <=1.0:\r\n",
    "        hits+=1\r\n",
    "pi=4*hits/DARTS\r\n",
    "print(\"Pi = {}\".format(pi))\r\n",
    "print(\"运行时间：{}s\".format(perf_counter()-start))"
   ],
   "outputs": [
    {
     "output_type": "stream",
     "name": "stdout",
     "text": [
      "Pi = 3.14176\n",
      "运行时间：0.5881314000000657s\n"
     ]
    }
   ],
   "metadata": {}
  },
  {
   "cell_type": "markdown",
   "source": [
    "# 5函数的定义使用 递归\n",
    "# def return globle lambda True False not pass and or while"
   ],
   "metadata": {}
  },
  {
   "cell_type": "code",
   "execution_count": 41,
   "source": [
    "def fact(n):\r\n",
    "    j=1\r\n",
    "    for i in range(1,n+1):\r\n",
    "       j*=i\r\n",
    "    return j\r\n",
    "print(fact(10)) "
   ],
   "outputs": [
    {
     "output_type": "stream",
     "name": "stdout",
     "text": [
      "3628800\n"
     ]
    }
   ],
   "metadata": {}
  },
  {
   "cell_type": "code",
   "execution_count": 42,
   "source": [
    "#可选参数\r\n",
    "def fact(n,m=1):\r\n",
    "    j=1\r\n",
    "    for i in range(1,n+1):\r\n",
    "       j*=i\r\n",
    "    return j//m\r\n",
    "print(fact(10))\r\n",
    "print(fact(10,5)) #位置对应\r\n",
    "print(fact(m=2,n=5)) #名字对应"
   ],
   "outputs": [
    {
     "output_type": "stream",
     "name": "stdout",
     "text": [
      "3628800\n",
      "725760\n",
      "60\n"
     ]
    }
   ],
   "metadata": {}
  },
  {
   "cell_type": "code",
   "execution_count": null,
   "source": [
    "#可变参数\r\n",
    "def fact(n,*b):#可以是*c,*d\r\n",
    "    s=1\r\n",
    "    for i in range(1,n+1):\r\n",
    "       s*=i\r\n",
    "    for item in b:\r\n",
    "        s*=item\r\n",
    "    return s\r\n",
    "print(fact(2,2,3)) "
   ],
   "outputs": [],
   "metadata": {}
  },
  {
   "cell_type": "code",
   "execution_count": 44,
   "source": [
    "#局部变量为组合类型且未创建，等同于全局变量\r\n",
    "ls = [\"F\",'f']\r\n",
    "def func(a):\r\n",
    "    ls.append(a)\r\n",
    "    return ls\r\n",
    "func(\"C\")\r\n",
    "print(ls)"
   ],
   "outputs": [
    {
     "output_type": "stream",
     "name": "stdout",
     "text": [
      "['F', 'f', 'C']\n"
     ]
    }
   ],
   "metadata": {}
  },
  {
   "cell_type": "code",
   "execution_count": 43,
   "source": [
    "#局部变量为组合类型且未创建，等同于全局变量\r\n",
    "ls = [\"F\",'f']\r\n",
    "def func(a):\r\n",
    "    ls=[] #真实创建\r\n",
    "    ls.append(a)\r\n",
    "    return ls\r\n",
    "func(\"C\")\r\n",
    "print(ls)"
   ],
   "outputs": [
    {
     "output_type": "stream",
     "name": "stdout",
     "text": [
      "['F', 'f']\n"
     ]
    }
   ],
   "metadata": {}
  },
  {
   "cell_type": "code",
   "execution_count": 45,
   "source": [
    "f=lambda x,y : x+y\r\n",
    "f(2,1)"
   ],
   "outputs": [
    {
     "output_type": "execute_result",
     "data": {
      "text/plain": [
       "3"
      ]
     },
     "metadata": {},
     "execution_count": 45
    }
   ],
   "metadata": {}
  },
  {
   "cell_type": "code",
   "execution_count": 46,
   "source": [
    "f=lambda :\"lambda函数\"\r\n",
    "print(f())"
   ],
   "outputs": [
    {
     "output_type": "stream",
     "name": "stdout",
     "text": [
      "lambda函数\n"
     ]
    }
   ],
   "metadata": {}
  },
  {
   "cell_type": "code",
   "execution_count": 48,
   "source": [
    "count=0\r\n",
    "def hanoi(n,src,dst,mid):\r\n",
    "    global count\r\n",
    "    if n==1:\r\n",
    "        print(\"{}:{}->{}\".format(count,src,dst))\r\n",
    "        count +=1\r\n",
    "    else:\r\n",
    "        hanoi(n-1,src,mid,dst)\r\n",
    "        print(\"{}:{}->{}\".format(count,src,dst))\r\n",
    "        count +=1\r\n",
    "        hanoi(n-1,mid,dst,src)\r\n",
    "hanoi(3,\"A\",\"B\",\"C\")"
   ],
   "outputs": [
    {
     "output_type": "stream",
     "name": "stdout",
     "text": [
      "0:A->B\n",
      "1:A->C\n",
      "2:B->C\n",
      "3:A->B\n",
      "4:C->A\n",
      "5:C->B\n",
      "6:A->B\n"
     ]
    }
   ],
   "metadata": {}
  },
  {
   "cell_type": "code",
   "execution_count": null,
   "source": [
    "# 函数递归\r\n",
    "def gcd(m,n):\r\n",
    "    if(not m%n):\r\n",
    "        return n\r\n",
    "    else:\r\n",
    "        return gcd(n,m%n)\r\n",
    "\r\n",
    "gcd(36,12)"
   ],
   "outputs": [],
   "metadata": {}
  },
  {
   "cell_type": "markdown",
   "source": [
    "## Pyinstaller库（第三方库）"
   ],
   "metadata": {}
  },
  {
   "cell_type": "code",
   "execution_count": null,
   "source": [
    "#KochV1\r\n",
    "import turtle\r\n",
    "def koch(size,n):\r\n",
    "    if n==0:\r\n",
    "        turtle.fd(size)\r\n",
    "    else:\r\n",
    "        for angle in [0,60,-120,60]:\r\n",
    "            turtle.left(angle)\r\n",
    "            koch(size/3,n-1)\r\n",
    "def main():\r\n",
    "    turtle.speed(10)\r\n",
    "    turtle.setup(800,800)\r\n",
    "    turtle.pu()\r\n",
    "    turtle.goto(-200,100)\r\n",
    "    turtle.pd()\r\n",
    "    turtle.pensize(1)\r\n",
    "    level = 6\r\n",
    "    length = 400\r\n",
    "    koch(length,level)\r\n",
    "    turtle.right(120)\r\n",
    "    koch(length,level)\r\n",
    "    turtle.right(120)\r\n",
    "    koch(length,level)\r\n",
    "    turtle.right(120)\r\n",
    "    koch(length,level)\r\n",
    "    turtle.hideturtle()\r\n",
    "main()"
   ],
   "outputs": [],
   "metadata": {}
  },
  {
   "cell_type": "markdown",
   "source": [
    "# 6.组合数据类型\n",
    "## 集合 序列(基类类型):（元组，列表） 字典"
   ],
   "metadata": {}
  },
  {
   "cell_type": "code",
   "execution_count": null,
   "source": [
    "A = {\"python\", 123, (\"python\",123)}#用{}建立集合\r\n",
    "B = set(\"pypy123\")#用set建立\r\n",
    "print(A)\r\n",
    "print(B)\r\n",
    "A|=B\r\n",
    "print(A)"
   ],
   "outputs": [],
   "metadata": {}
  },
  {
   "cell_type": "code",
   "execution_count": null,
   "source": [
    "S | T \r\n",
    "S - T\r\n",
    "S & T\r\n",
    "S <= T S < T\r\n",
    "S >= T S > T"
   ],
   "outputs": [],
   "metadata": {}
  },
  {
   "cell_type": "code",
   "execution_count": null,
   "source": [
    "# 函数和方法\r\n",
    "S.add(x)\r\n",
    "S.remove(x)\r\n",
    "S.discard(x)\r\n",
    "S.clear()\r\n",
    "S.pop()\r\n",
    "S.copy()\r\n",
    "len(S)\r\n",
    "x in S\r\n",
    "x not in S\r\n",
    "set(x)"
   ],
   "outputs": [],
   "metadata": {}
  },
  {
   "cell_type": "code",
   "execution_count": null,
   "source": [
    "A = {\"python\", 123, (\"python\",123)}\n",
    "# for i in A:\n",
    "#     print(i)\n",
    "\n",
    "try:\n",
    "    while True:\n",
    "        print(A.pop,end=\" \")\n",
    "except:\n",
    "    pass"
   ],
   "outputs": [],
   "metadata": {
    "tags": [
     "outputPrepend"
    ]
   }
  },
  {
   "cell_type": "code",
   "execution_count": null,
   "source": [
    "#数据去重\n",
    "ls = [\"p\",\"p\",\"y\",\"y\",123,1]\n",
    "s = set(ls) #集合无重复元素\n",
    "it = list(s) #将集合转换为列表\n",
    "print(it)"
   ],
   "outputs": [],
   "metadata": {}
  },
  {
   "cell_type": "markdown",
   "source": [
    "## 序列类型（一维元素序列）（每个元素可以是不同类型）"
   ],
   "metadata": {}
  },
  {
   "cell_type": "code",
   "execution_count": null,
   "source": [
    "# 通用操作符\n",
    "x in s\n",
    "x not in s\n",
    "s + t\n",
    "s*n n*s\n",
    "s[i]\n",
    "s[i:j:k]\n",
    "\n",
    "len(s)\n",
    "min(s) max(s)\n",
    "s.index(x) s.index(x,i,j)\n",
    "s.count(x)"
   ],
   "outputs": [],
   "metadata": {}
  },
  {
   "cell_type": "markdown",
   "source": [
    "## 元组类型（一旦创建就不能被修改）"
   ],
   "metadata": {}
  },
  {
   "cell_type": "code",
   "execution_count": null,
   "source": [
    "creature = \"cat\", \"dog\", \"tiger\", \"human\"\n",
    "print(creature)\n",
    "color = (234,\"qwer\", creature, creature)\n",
    "print(color)\n",
    "creature[::-1]"
   ],
   "outputs": [],
   "metadata": {}
  },
  {
   "cell_type": "markdown",
   "source": [
    "## 列表类型（创建后可随意修改）"
   ],
   "metadata": {}
  },
  {
   "cell_type": "code",
   "execution_count": null,
   "source": [
    "# 函数和方法\n",
    "ls[i]=x\n",
    "ls[i:j:K] = lt\n",
    "del ls[i]\n",
    "del ls[i:j:k]\n",
    "ls += lt\n",
    "ls *=n\n",
    "ls.append(x)\n",
    "ls.clear()\n",
    "ls.copy()\n",
    "ls.insert(i,x)\n",
    "ls.pop(i)\n",
    "ls.remove(x)\n",
    "ls.reverse()"
   ],
   "outputs": [],
   "metadata": {}
  },
  {
   "cell_type": "code",
   "execution_count": null,
   "source": [
    "creature = [\"cat\", \"dog\", \"tiger\", \"human\"] #真正创建一个列表\n",
    "print(creature)\n",
    "ls = creature #赋值仅传递引用，同一个列表有两个名字ls,creature\n",
    "print(ls)\n",
    "\n"
   ],
   "outputs": [],
   "metadata": {}
  },
  {
   "cell_type": "code",
   "execution_count": null,
   "source": [
    "ls = list(\"ilovepythone1234\")\n",
    "lt = [\"@\",\"#\",\"$\"]\n",
    "print(ls)\n",
    "ls[:5:2] = lt\n",
    "print(ls)\n",
    "ls*=2\n",
    "print(ls)\n"
   ],
   "outputs": [],
   "metadata": {}
  },
  {
   "cell_type": "code",
   "execution_count": null,
   "source": [
    "lt=list() #lt=[]\n",
    "lt=[1,2,3,4,5] #lt += [1,2,3,4,5]\n",
    "lt[1]=\"@\"\n",
    "print(lt)\n",
    "lt.insert(1,'#')\n",
    "print(lt)\n",
    "del lt[0]\n",
    "print(lt)\n",
    "del lt[:3]\n",
    "print(lt)\n",
    "print(0 in lt)\n",
    "lt.append(0)\n",
    "print(lt.index(0))\n",
    "print(len(lt))\n",
    "print(max(lt))\n",
    "lt.clear()\n",
    "lt\n"
   ],
   "outputs": [],
   "metadata": {}
  },
  {
   "cell_type": "code",
   "execution_count": null,
   "source": [
    "# 基本统计值\n",
    "总个数：len()\n",
    "求和：for in\n",
    "平均值：求和/总个数\n",
    "方差：各数据与平均值 差的平方和 的平均数\n",
    "中位数：排序， 偶数中间两个取平均\n"
   ],
   "outputs": [],
   "metadata": {}
  },
  {
   "cell_type": "code",
   "execution_count": null,
   "source": [
    "# CalStatisticsV1\n",
    "def getNum():\n",
    "    nums = []\n",
    "    iNumStr = input(\"请输入数字（回车退出）：\")\n",
    "    while iNumStr != \"\":\n",
    "        nums.append(eval(iNumStr))\n",
    "        iNumStr = input(\"请输入数字（回车退出）：\")\n",
    "    return unms\n",
    "\n",
    "def mean(numbers):\n",
    "    s=0.0\n",
    "    for num in numbers:\n",
    "        s += num\n",
    "    return s/len(numbers)\n",
    "\n",
    "def dev(numbers,mean): #方差\n",
    "    sdev = 0.0\n",
    "    for num in numbers:\n",
    "        sdev += (num - mean)**2\n",
    "    return pow(sdev / (len(numbers)-1),0.5)\n",
    "\n",
    "def media(numbers):\n",
    "    sorted(numbers)\n",
    "    size = len(numbers)\n",
    "    if size % 2 == 0:\n",
    "        med = (numbers[size//2-1] + numbers[size//2])\n",
    "    else:\n",
    "        med = numbers[size//2]\n",
    "\n",
    "\n",
    "n = getNum()\n",
    "m = mean(n)\n",
    "printf(\"个数的平均值是：{}\\n方差是：{:.2f}\\n中位数数是：{}\\n\".format(m,dev(nums,m),media(nums)))\n"
   ],
   "outputs": [],
   "metadata": {}
  },
  {
   "cell_type": "markdown",
   "source": [
    "# 字典类型 {} dict()"
   ],
   "metadata": {}
  },
  {
   "cell_type": "code",
   "execution_count": null,
   "source": [
    "# 函数和方法\n",
    "k in d\n",
    "del d[k]\n",
    "d.keys()\n",
    "d.value()\n",
    "d.item()\n",
    "d.get(k,<default>)\n",
    "d.pop(k,<default>)\n",
    "d.popitem()\n",
    "d.clear()\n",
    "len(d)"
   ],
   "outputs": [],
   "metadata": {}
  },
  {
   "cell_type": "code",
   "execution_count": null,
   "source": [
    "d = {}\n",
    "d[\"a\"]=1\n",
    "d[\"b\"]=2\n",
    "d"
   ],
   "outputs": [],
   "metadata": {}
  },
  {
   "cell_type": "code",
   "execution_count": null,
   "source": [
    "d = {\"a\":1,\"b\":\"2\",\"c\":3,\"d\":4,\"e\":5}\n",
    "d[\"b\"]=3\n",
    "print(len(d))\n",
    "del d[\"b\"]\n",
    "print(d.keys())\n",
    "print(d.values())\n",
    "print(d.items())\n",
    "print(\"a\" in d)\n",
    "print(\"b\" in d)\n",
    "print(d.get(\"a\",\"f\"))\n",
    "print(d.get(\"g\",\"f\"))\n",
    "print(d.pop(\"a\",\"f\"))\n",
    "print(d.pop(\"a\",\"f\"))\n",
    "print(d.popitem())\n",
    "d.clear"
   ],
   "outputs": [],
   "metadata": {}
  },
  {
   "cell_type": "markdown",
   "source": [
    "## jieba库（中文分词）"
   ],
   "metadata": {}
  },
  {
   "cell_type": "code",
   "execution_count": null,
   "source": [
    "import jieba\n",
    "print(jieba.lcut(\"中国是一个伟大的国家\"))\n",
    "print(jieba.lcut(\"中国是一个伟大的国家\",cut_all=True))\n",
    "print(jieba.lcut_for_search(\"中国是一个伟大的国家\"))\n",
    "jieba.add_word(\"人\")"
   ],
   "outputs": [],
   "metadata": {}
  },
  {
   "cell_type": "code",
   "execution_count": null,
   "source": [
    "# CalHamletV1\n",
    "def getText():\n",
    "    txt = open(\"hamlet.txt\",\"r\").read()\n",
    "    txt = txt.lower()\n",
    "    for ch in '!#$%&()*+_?<>:;<>=?@[\\\\]^_{|}':\n",
    "        txt = txt.replace(ch, \" \")\n",
    "    return txt\n",
    "\n",
    "hamletTxt = getText()\n",
    "words = hamletTxt.split()\n",
    "counts = {} #空字典\n",
    "for word in words:\n",
    "    counts[word] = counts.get(word,0) + 1\n",
    "items = list(counts.items())\n",
    "items.sort(key=lambda x:x[1], reverse=True)\n",
    "for i in range(10):\n",
    "    word, count = items[i]\n",
    "    print(\"{0:<10}{1:>5}\".format(word, count))"
   ],
   "outputs": [],
   "metadata": {}
  },
  {
   "cell_type": "code",
   "execution_count": null,
   "source": [
    "#CalThreeKingdomsV1.py\n",
    "import jieba\n",
    "txt = open(\"text.txt\",\"r\",encoding=\"utf-8\").read()\n",
    "words = jieba.lcut(txt)\n",
    "count = {}\n",
    "for word in words:\n",
    "    if len(word) == 1:\n",
    "        continue\n",
    "    else:\n",
    "        counts[word] = counts.get(word,0)+1\n",
    "item = list(counts.items())\n",
    "items.sort(key=lambda x:x[1], reverse=True)\n",
    "for i in range(15):\n",
    "    word, count = items[i]\n",
    "    print(\"{0:<10}{1:>5}\".format(word, count))"
   ],
   "outputs": [],
   "metadata": {
    "tags": []
   }
  },
  {
   "cell_type": "code",
   "execution_count": null,
   "source": [
    "# CalThreeKingdomsV2.py\n",
    "import jieba\n",
    "txt = open(\"threekingdoms.txt\", \"r\", encoding=\"utf-8\").read()\n",
    "excludes = {\"将军\", \"却说\", \"荆州\", \"二人\", \"不可\", \"不能\", \"如此\",\"商议\",\"如何\"} #拆除词库\n",
    "words = jieba.lcut(txt)\n",
    "\n",
    "counts = {}\n",
    "for word in words:\n",
    "    if len(word) == 1:\n",
    "        continue\n",
    "    elif word == \"诸葛亮\" or word == \"孔明曰\":  #人物关联\n",
    "        rword = \"孔明\"\n",
    "    elif word == \"关公\" or word == \"云长\":\n",
    "        rword = \"关羽\"\n",
    "    elif word == \"玄德\" or word == \"玄德曰\":\n",
    "        rword = \"刘备\"\n",
    "    elif word == \"孟德\" or word == \"丞相\":\n",
    "        rword = \"曹操\"\n",
    "    else:\n",
    "        rword = word\n",
    "    counts[rword] = counts.get(rword, 0)+1\n",
    "for word in excludes:\n",
    "    del counts[word]\n",
    "items = list(counts.items())\n",
    "items.sort(key=lambda x: x[1], reverse=True)\n",
    "for i in range(5):\n",
    "    word, count = items[i]\n",
    "    print(\"{0:<10}{1:>5}\".format(word, count))\n"
   ],
   "outputs": [],
   "metadata": {}
  },
  {
   "cell_type": "markdown",
   "source": [
    "# 文件和数据格式化\n",
    "# 文件："
   ],
   "metadata": {}
  },
  {
   "cell_type": "code",
   "execution_count": null,
   "source": [
    "f = open(filename,\"rwxabt+\")\n",
    "f= open(\"hamlet.txt\")\n",
    "f = open(\"hamlet.txt\",\"a+\")\n",
    "\n",
    "f.read(size)\n",
    "f.readline(size)\n",
    "f.readlines(hint)\n",
    "\n",
    "f.write(s)\n",
    "f.writelines(list)\n",
    "f.seek(offset)\n"
   ],
   "outputs": [],
   "metadata": {}
  },
  {
   "cell_type": "code",
   "execution_count": null,
   "source": [
    "fname = input(\"Enter file name:\")\n",
    "fo = open (fname, \"r\")\n",
    "txt = fo.read(2)\n",
    "while txt != \"\":\n",
    "    \"\"\" Process \"\"\"\n",
    "    txt = fo.read(2)\n",
    "fo.close()"
   ],
   "outputs": [],
   "metadata": {
    "tags": []
   }
  },
  {
   "cell_type": "code",
   "execution_count": null,
   "source": [
    "fname = input(\"Enter file name:\")\n",
    "fo = open (fname, \"r\")\n",
    "for line in fo.readlines():\n",
    "    \"\"\" Process \"\"\"\n",
    "fo.close()"
   ],
   "outputs": [],
   "metadata": {
    "tags": [
     "outputPrepend"
    ]
   }
  },
  {
   "cell_type": "code",
   "execution_count": null,
   "source": [
    "fo = open(\"./txts/output.txt\",\"w+\")\n",
    "ls = [\"中国\",\"法国\",\"美国\",\"日本\",\"韩国\",\"朝鲜\"]\n",
    "fo.writelines(' '.join(ls)) #将' '放到ls元素之间\n",
    "for line in fo: #从fo的当前位置，我们写过的信息在指针前面\n",
    "    print(line) #没有输出结果，因为文件指针在文件末尾\n",
    "fo.close()"
   ],
   "outputs": [],
   "metadata": {}
  },
  {
   "cell_type": "code",
   "execution_count": null,
   "source": [
    "fo = open(\"output.txt\",\"w+\")\n",
    "ls = [\"中国\",\"法国\",\"美国\"]\n",
    "fo.writelines(ls)\n",
    "fo.seek(0)\n",
    "for line in fo:\n",
    "    print(line)\n",
    "fo.close()"
   ],
   "outputs": [],
   "metadata": {}
  },
  {
   "cell_type": "code",
   "execution_count": null,
   "source": [
    "#AutoTraceDraw.py\n",
    "import turtle as t\n",
    "t.title(\"自动轨迹绘制\")\n",
    "t.setup(800, 600, 0, 0)\n",
    "t.pencolor(\"red\")\n",
    "t.pensize(5)\n",
    "# 数据读取\n",
    "datals = []\n",
    "f = open(\"data.txt\",encoding='utf-8')\n",
    "for line in f:\n",
    "    line = line.replace(\"\\n\",\"\")\n",
    "    datals.append(list(map(eval, line.split(\",\"))))\n",
    "f.close()\n",
    "#自动绘制\n",
    "for i in range(len(datals)):\n",
    "    t.pencolor(datals[i][3],datals[i][4],datals[i][5])\n",
    "    t.fd(datals[i][0])\n",
    "    if datals[i][1]:\n",
    "        t.right(datals[i][2])\n",
    "    else:\n",
    "        t.left(datals[i][2])"
   ],
   "outputs": [],
   "metadata": {}
  },
  {
   "cell_type": "markdown",
   "source": [
    "### 一维数据：集合，列表(，元组，字典……)\n",
    "### 二维：由多个一维数据组成\n"
   ],
   "metadata": {}
  },
  {
   "cell_type": "code",
   "execution_count": null,
   "source": [
    "#从csv格式文件中读入数据\n",
    "fo = open(fname)\n",
    "ls = []\n",
    "for line in fo :\n",
    "    line = line.replace(\"\\n\",\"\")\n",
    "    ls.append(line.split(\",\"))\n",
    "fo.close()"
   ],
   "outputs": [],
   "metadata": {}
  },
  {
   "cell_type": "code",
   "execution_count": null,
   "source": [
    "#将数据写入csv文件\n",
    "ls = [[],[],[]]\n",
    "f = open(fname,\"w\")\n",
    "for item in ls:\n",
    "    f.write(','.join(item)+'\\n')\n",
    "f.close()"
   ],
   "outputs": [],
   "metadata": {}
  },
  {
   "cell_type": "code",
   "execution_count": null,
   "source": [
    "# 二维数据逐一处理\n",
    "ls = [[1,2],[2,3],[3,4]]\n",
    "for row in ls:\n",
    "    for col in row:\n",
    "        print(col)"
   ],
   "outputs": [],
   "metadata": {}
  },
  {
   "cell_type": "markdown",
   "source": [
    "## wordcloud库"
   ],
   "metadata": {}
  },
  {
   "cell_type": "code",
   "execution_count": null,
   "source": [
    "import wordcloud\n",
    "c = wordcloud.WordCloud(width=400,height=200,min_font_sise=4,max_font_size=20,)\n",
    "c.generate(\"wordcloud by Python Tang Quanwei\")\n",
    "c.to_file(\"a.png\")"
   ],
   "outputs": [],
   "metadata": {}
  },
  {
   "cell_type": "code",
   "execution_count": null,
   "source": [
    "import wordcloud\n",
    "from scipy.misc import imread\n",
    "mk = imread(\"pic.png\")\n",
    "c = wordcloud.WordCloud(width=400,\\\n",
    "                        height=200,\\\n",
    "                        min_font_sise=4,\\\n",
    "                        max_font_size=20,\\\n",
    "                        font_step=1,\\\n",
    "                        font_path=\"msyh.ttc\",\\\n",
    "                        max_words=40,\\\n",
    "                        stop_words={\"python\"},\\\n",
    "                        mask=mk,\\\n",
    "                        background_color=\"white\")"
   ],
   "outputs": [],
   "metadata": {}
  },
  {
   "cell_type": "code",
   "execution_count": null,
   "source": [
    "ls = [1,2,3,4,5,6]\n",
    "for i in range(len(ls)-1):\n",
    "    if ls[i]==2:\n",
    "        del ls[i]\n",
    "len(ls)\n"
   ],
   "outputs": [],
   "metadata": {}
  },
  {
   "cell_type": "code",
   "execution_count": null,
   "source": [
    "import jieba\n",
    "import wordcloud\n",
    "\n",
    "fo = open(\"./txts/words.txt\", \"r\", encoding=\"utf-8\")\n",
    "t = fo.read()\n",
    "fo.close()\n",
    "ls = jieba.lcut(t)\n",
    "n = len(ls) - 1\n",
    "while n > 0:\n",
    "    if len(ls[n]) == 1:\n",
    "        del ls[n]\n",
    "    n = n-1\n",
    "txt = \" \".join(ls)\n",
    "c = wordcloud.WordCloud(width=1000, font_path=\"msyh.ttc\",\n",
    "                        height=700, background_color=\"white\")\n",
    "c.generate(txt)\n",
    "c.to_file(\"a.png\")\n"
   ],
   "outputs": [],
   "metadata": {}
  },
  {
   "cell_type": "code",
   "execution_count": null,
   "source": [
    "# 有形状的词云\n",
    "import jieba\n",
    "import wordcloud\n",
    "from scipy.misc import imread\n",
    "\n",
    "fo = open(\"./txts/words.txt\", \"r\", encoding=\"utf-8\")\n",
    "t = fo.read()\n",
    "fo.close()\n",
    "ls = jieba.lcut(t)\n",
    "n = len(ls) - 1\n",
    "while n > 0:\n",
    "    if len(ls[n]) == 1:\n",
    "        del ls[n]\n",
    "    n = n-1\n",
    "txt = \" \".join(ls)\n",
    "c = wordcloud.WordCloud(width=1000, font_path=\"msyh.ttc\",\n",
    "                        height=700, background_color=\"white\")\n",
    "c.generate(txt)\n",
    "c.to_file(\"a.png\")\n"
   ],
   "outputs": [],
   "metadata": {}
  },
  {
   "cell_type": "markdown",
   "source": [
    "# 程序设计方法学\n",
    "## 计算思维：抽象 + 自动化\n",
    "## 模拟XX过程 + 模拟N次\n",
    "### 自顶向下（设计） + 自底向上（执行（测试））"
   ],
   "metadata": {}
  },
  {
   "cell_type": "code",
   "execution_count": null,
   "source": [
    "# 竞赛分析\n",
    "from random import *\n",
    "\n",
    "\n",
    "def printIntro():\n",
    "    print(\"这个程序模拟两个选手A和B的某种竞技比赛\")\n",
    "    print(\"程序运行需要A和B的能力值（用0-1之间的小数表示）\")\n",
    "\n",
    "\n",
    "def getInputs():\n",
    "    probA = eval(input(\"请输入选手A的能力值（0-1）：\"))\n",
    "    probB = eval(input(\"请输入选手A的能力值（0-1）：\"))\n",
    "    n = eval(input(\"模拟比赛的场次：\"))\n",
    "    return probA, probB, n\n",
    "\n",
    "\n",
    "def printSummary(winsA, winsB):\n",
    "    n = winsA + winsB\n",
    "    print(\"竞技分析开始：共模拟{}场比赛\".format(n))\n",
    "    print(\"选手A获胜{}场比赛，占比{:0.1%}\".format(winsA, winsA/n))\n",
    "    print(\"选手B获胜{}场比赛，占比{:0.1%}\".format(winsB, winsB/n))\n",
    "\n",
    "\n",
    "def gameOver(a, b):\n",
    "    return a == 15 or b == 15\n",
    "\n",
    "\n",
    "def simOneGame(probA, probB):\n",
    "    scoreA, scoreB = 0, 0\n",
    "    serving = \"A\"\n",
    "    while not gameOver(scoreA, scoreB):\n",
    "        if serving == \"A\":\n",
    "            if random() < probA:  # 可靠吗？\n",
    "                scoreA += 1\n",
    "            else:\n",
    "                serving = \"B\"\n",
    "        else:\n",
    "            if random() < probB:\n",
    "                scoreB += 1\n",
    "            else:\n",
    "                serving = \"A\"\n",
    "    return scoreA, scoreB\n",
    "\n",
    "\n",
    "def simNGames(n, probA, probB):\n",
    "    winsA, winsB = 0, 0\n",
    "    for i in range(n):\n",
    "        scoreA, scoreB = simOneGame(probA, probB)\n",
    "        if scoreA > scoreB:\n",
    "            winsA += 1\n",
    "        else:\n",
    "            winsB += 1\n",
    "    return winsA, winsB\n",
    "\n",
    "\n",
    "def main():\n",
    "    printIntro()\n",
    "    probA, probB, n = getInputs()\n",
    "    winsA, winsB = simNGames(n, probA, probB)\n",
    "    printSummary(winsA, winsB)\n",
    "\n",
    "\n",
    "main()"
   ],
   "outputs": [],
   "metadata": {}
  },
  {
   "cell_type": "code",
   "execution_count": null,
   "source": [
    "## python程序设计思维"
   ],
   "outputs": [],
   "metadata": {}
  },
  {
   "cell_type": "code",
   "execution_count": null,
   "source": [
    "# os库路径管理\n",
    "import os.path as op # os库的子库（路径）\n",
    "op.abspath(fname)#返回fname在当前系统中的绝对路径\n",
    "op.normpath(path)#归一化的path表示方式，用\\\\分隔\n",
    "op.relpath(path)#返回当前程序与文件之间的相对路径（relative path）\n",
    "\n",
    "op.dirname(path)#返回目录名\n",
    "op.basename(path)#返回path中最后的文件名\n",
    "op.join(path, *paths)#组合path与paths，返回一个路径字符串\n",
    "\n",
    "op.exists(path)#存在返回True，否则返回False\n",
    "op.isfile(path)\n",
    "op.isdir(path)\n",
    "\n",
    "op.getatime(path)#返回path对应文件或目录上一次访问的时间\n",
    "op.getmtime(path)#返回最近一次修改时间\n",
    "op.getctime(path)#返回创建时间\n",
    "\n",
    "op.getsize(path)#返回path对应文件的大小"
   ],
   "outputs": [],
   "metadata": {}
  },
  {
   "cell_type": "code",
   "execution_count": null,
   "source": [
    "# os库进程管理\n",
    "import os\n",
    "os.system(command argument)#调用cmd命令，成功返回0"
   ],
   "outputs": [],
   "metadata": {}
  },
  {
   "cell_type": "code",
   "execution_count": null,
   "source": [
    "import  os\n",
    "os.system(\"calc.exe\")"
   ],
   "outputs": [],
   "metadata": {}
  },
  {
   "cell_type": "code",
   "execution_count": null,
   "source": [
    "import os\n",
    "os.system(\"mspaint.exe ./a.png\")"
   ],
   "outputs": [],
   "metadata": {}
  },
  {
   "cell_type": "code",
   "execution_count": null,
   "source": [
    "#os库环境参数\n",
    "import os\n",
    "os.chdir(path)#修改程序当前操作的路径\n",
    "os.getcwd()#返回当前操作路径\n",
    "os.urandom(n)#获得n字节个长度的随机字符串，常用于加解密运算\n"
   ],
   "outputs": [],
   "metadata": {}
  },
  {
   "cell_type": "code",
   "execution_count": null,
   "source": [
    "import os\n",
    "os.urandom(10)"
   ],
   "outputs": [],
   "metadata": {}
  },
  {
   "cell_type": "code",
   "execution_count": null,
   "source": [
    "#BatchInstall\n",
    "import os\n",
    "libs = {\"requests\"}\n",
    "try:\n",
    "    for lib in libs:\n",
    "        os.system(\"pip install \" + lib)\n",
    "    print(\"Successful\")\n",
    "except:\n",
    "    print(\"Failed Somehow\")"
   ],
   "outputs": [],
   "metadata": {}
  },
  {
   "cell_type": "code",
   "execution_count": null,
   "source": [
    "# 举一反三\n",
    "#目标 + 沉浸 + 熟练"
   ],
   "outputs": [],
   "metadata": {}
  },
  {
   "cell_type": "code",
   "execution_count": null,
   "source": [],
   "outputs": [],
   "metadata": {}
  }
 ],
 "metadata": {
  "kernelspec": {
   "display_name": "Python 3",
   "language": "python",
   "name": "python3"
  },
  "language_info": {
   "codemirror_mode": {
    "name": "ipython",
    "version": 3
   },
   "file_extension": ".py",
   "mimetype": "text/x-python",
   "name": "python",
   "nbconvert_exporter": "python",
   "pygments_lexer": "ipython3",
   "version": "3.9.4"
  },
  "metadata": {
   "interpreter": {
    "hash": "ac59ebe37160ed0dfa835113d9b8498d9f09ceb179beaac4002f036b9467c963"
   }
  }
 },
 "nbformat": 4,
 "nbformat_minor": 2
}