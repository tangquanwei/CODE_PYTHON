{
 "cells": [
  {
   "cell_type": "code",
   "execution_count": null,
   "source": [
    "import random\n",
    "ls=[random.randint(1,100) for i in range(10)]\n",
    "print(ls)\n",
    "print(max(ls))\n",
    "print(min(ls))\n",
    "print(sum(ls))\n",
    "print(sorted(ls,reverse=-1))\n",
    "print(ls)"
   ],
   "outputs": [],
   "metadata": {}
  },
  {
   "cell_type": "code",
   "execution_count": 1,
   "source": [
    "# 查找 & 帮助\n",
    "import random\n",
    "a=[random.randint(1,100) for i in range(10)]\n",
    "# dir(random)                   # 查看模块中可用对象\n",
    "# help(random.randint)          # 查看指定方法的使用帮助\n",
    "# dir('')\n",
    "# dir(1)\n",
    "p=100\n",
    "p.to_bytes(length=2,byteorder='big')\n"
   ],
   "outputs": [
    {
     "output_type": "execute_result",
     "data": {
      "text/plain": [
       "b'\\x00d'"
      ]
     },
     "metadata": {},
     "execution_count": 1
    }
   ],
   "metadata": {}
  },
  {
   "cell_type": "code",
   "execution_count": null,
   "source": [
    "# del不能删 元组、字符串 中指定元素，但是可以删除整个元组或字符串\n",
    "t1 = 1,2,3\n",
    "t2 = 4,\n",
    "t2 += t1\n",
    "# del t2[1]        TypeError: 'tuple' object doesn't support item deletion\n",
    "s1 = 'Tang Quanwei'\n",
    "# del s1[0]           TypeError: 'str' object doesn't support item deletion"
   ],
   "outputs": [],
   "metadata": {}
  },
  {
   "cell_type": "code",
   "execution_count": null,
   "source": [
    "# 输出重定向\n",
    "import sys\n",
    "fp = open(r'./test.txt','a+')\n",
    "print(sys.modules.items(),file=fp)\n",
    "fp.close"
   ],
   "outputs": [],
   "metadata": {}
  },
  {
   "cell_type": "code",
   "execution_count": 2,
   "source": [
    "import random\n",
    "ls=[random.randint(1,100) for i in range(10)]\n",
    "print(ls)\n",
    "ls.append('quanwei')\n",
    "print(ls)\n",
    "L=list('quanwei')\n",
    "ls.extend(L)\n",
    "print(ls)\n",
    "ls.insert(0,0)\n",
    "print(ls)\n",
    "ls.remove('quanwei')\n",
    "print(ls)\n",
    "print(ls.pop())\n",
    "print(ls)\n",
    "print(ls.pop(-2))\n",
    "print(ls)\n",
    "print(ls.index('q'))\n",
    "print(ls.count('q'))\n",
    "ls.reverse()\n",
    "print(ls)\n",
    "s=[random.randint(1,100) for i in range(10)]\n",
    "print(s)\n",
    "s.sort()\n",
    "print(s)\n",
    "a=s\n",
    "print(a)"
   ],
   "outputs": [
    {
     "output_type": "stream",
     "name": "stdout",
     "text": [
      "[30, 94, 26, 16, 11, 23, 97, 81, 96, 85]\n",
      "[30, 94, 26, 16, 11, 23, 97, 81, 96, 85, 'quanwei']\n",
      "[30, 94, 26, 16, 11, 23, 97, 81, 96, 85, 'quanwei', 'q', 'u', 'a', 'n', 'w', 'e', 'i']\n",
      "[0, 30, 94, 26, 16, 11, 23, 97, 81, 96, 85, 'quanwei', 'q', 'u', 'a', 'n', 'w', 'e', 'i']\n",
      "[0, 30, 94, 26, 16, 11, 23, 97, 81, 96, 85, 'q', 'u', 'a', 'n', 'w', 'e', 'i']\n",
      "i\n",
      "[0, 30, 94, 26, 16, 11, 23, 97, 81, 96, 85, 'q', 'u', 'a', 'n', 'w', 'e']\n",
      "w\n",
      "[0, 30, 94, 26, 16, 11, 23, 97, 81, 96, 85, 'q', 'u', 'a', 'n', 'e']\n",
      "11\n",
      "1\n",
      "['e', 'n', 'a', 'u', 'q', 85, 96, 81, 97, 23, 11, 16, 26, 94, 30, 0]\n",
      "[30, 69, 98, 17, 91, 46, 58, 70, 29, 96]\n",
      "[17, 29, 30, 46, 58, 69, 70, 91, 96, 98]\n",
      "[17, 29, 30, 46, 58, 69, 70, 91, 96, 98]\n"
     ]
    }
   ],
   "metadata": {}
  },
  {
   "cell_type": "code",
   "execution_count": null,
   "source": [
    "ls=[1,-2,10,-12,-3,-5,-6,8,3,7,9]\n",
    "ls.sort(key=lambda x: (x<0,abs(x)))\n",
    "print(ls)"
   ],
   "outputs": [],
   "metadata": {}
  },
  {
   "cell_type": "code",
   "execution_count": null,
   "source": [
    "ls=[1,-2,10,-12,-3,-5,-6,8,3,7,9]\n",
    "set(map(lambda x : x*x ,ls))        # map()  返回迭代器\n"
   ],
   "outputs": [],
   "metadata": {}
  },
  {
   "cell_type": "code",
   "execution_count": null,
   "source": [
    "ls = [123, 'xyz', 'zara', 'abc', 'xyz']\n",
    "\n",
    "print(ls)"
   ],
   "outputs": [],
   "metadata": {}
  },
  {
   "cell_type": "code",
   "execution_count": null,
   "source": [
    "# 列表自动内存管理功能\n",
    "x=[1,2,1,2,1,1,1]\n",
    "for i in x:\n",
    "    print(i)\n",
    "    if i==1:\n",
    "        x.remove(i)\n",
    "        print(x)\n",
    "# 没有输出2，没有判断被移除元素的后一个\n",
    "# 元素自动向前收缩"
   ],
   "outputs": [],
   "metadata": {}
  },
  {
   "cell_type": "code",
   "execution_count": null,
   "source": [
    "# 列表自动内存管理功能\n",
    "x=[1,2,1,2,1,1,1]\n",
    "for i in x[::-1]:   # 从末尾向前\n",
    "    print(i)\n",
    "    if i==1:\n",
    "        x.remove(i)\n",
    "        print(x)"
   ],
   "outputs": [],
   "metadata": {}
  },
  {
   "cell_type": "code",
   "execution_count": 3,
   "source": [
    "ls=[i for i in range(1,10)]\n",
    "print(id(ls),ls)\n",
    "ls[len(ls):]=[10,11,12]\n",
    "print(id(ls),ls)\n",
    "ls[:4]=[i for i in range(4)]\n",
    "print(id(ls),ls)\n",
    "ls[:5]=[]\n",
    "print(id(ls),ls)"
   ],
   "outputs": [
    {
     "output_type": "stream",
     "name": "stdout",
     "text": [
      "2806386196864 [1, 2, 3, 4, 5, 6, 7, 8, 9]\n",
      "2806386196864 [1, 2, 3, 4, 5, 6, 7, 8, 9, 10, 11, 12]\n",
      "2806386196864 [0, 1, 2, 3, 5, 6, 7, 8, 9, 10, 11, 12]\n",
      "2806386196864 [6, 7, 8, 9, 10, 11, 12]\n"
     ]
    }
   ],
   "metadata": {}
  },
  {
   "cell_type": "code",
   "execution_count": 4,
   "source": [
    "la = [1,2,3,5]\n",
    "lb = la[::]     # 深复制\n",
    "lc = la         # 浅复制\n",
    "ld = [1,2,3,5]\n",
    "\n",
    "print(id(la),\"\\t\",id(lb),\"\\t\",id(lc),\"\\t\",id(ld))\n",
    "print(la == lb,\"\\t\",la == lc)\n",
    "print(la is lb,\"\\t\",la is lc)\n",
    "la[3] = 4\n",
    "print(la,\"\\t\",lb,\"\\t\",lc)\n",
    "lc[3] = 3\n",
    "print(la,\"\\t\",lb,\"\\t\",lc)\n"
   ],
   "outputs": [
    {
     "output_type": "stream",
     "name": "stdout",
     "text": [
      "2806386294080 \t 2806386294208 \t 2806386294080 \t 2806386299328\n",
      "True \t True\n",
      "False \t True\n",
      "[1, 2, 3, 4] \t [1, 2, 3, 5] \t [1, 2, 3, 4]\n",
      "[1, 2, 3, 3] \t [1, 2, 3, 5] \t [1, 2, 3, 3]\n"
     ]
    }
   ],
   "metadata": {}
  },
  {
   "cell_type": "code",
   "execution_count": null,
   "source": [
    "ls=[2,412,41,5,0,3152,613,7,48,9,4,31]\n",
    "ls.sort()\n",
    "print(ls)\n",
    "ls.reverse()\n",
    "print(ls)\n",
    "ls.sort(reverse=True)\n",
    "print(ls)"
   ],
   "outputs": [],
   "metadata": {}
  },
  {
   "cell_type": "code",
   "execution_count": 5,
   "source": [
    "ls = [i for i in range(11)]\n",
    "print(ls,sep=\"->\")"
   ],
   "outputs": [
    {
     "output_type": "stream",
     "name": "stdout",
     "text": [
      "[0, 1, 2, 3, 4, 5, 6, 7, 8, 9, 10]\n"
     ]
    }
   ],
   "metadata": {}
  },
  {
   "cell_type": "code",
   "execution_count": 6,
   "source": [
    "ls = [i for i in range(11)]\n",
    "print(*ls,sep=\"->\")"
   ],
   "outputs": [
    {
     "output_type": "stream",
     "name": "stdout",
     "text": [
      "0->1->2->3->4->5->6->7->8->9->10\n"
     ]
    }
   ],
   "metadata": {}
  },
  {
   "cell_type": "code",
   "execution_count": 7,
   "source": [
    "ls = [i for i in range(11)]\n",
    "print(ls[0],ls[1],ls[2],sep=\"->\")"
   ],
   "outputs": [
    {
     "output_type": "stream",
     "name": "stdout",
     "text": [
      "0->1->2\n"
     ]
    }
   ],
   "metadata": {}
  },
  {
   "cell_type": "code",
   "execution_count": 8,
   "source": [
    "ls = [1]\n",
    "ln = ['sdf']\n",
    "ll = {\"qwe\"}\n",
    "str = 'q'\n",
    "print(type(*str))\n",
    "print(*ls)\n",
    "print(type(ls),type(*ls),type(*ln),type(ll),type(*ll),sep=\"\\t\")"
   ],
   "outputs": [
    {
     "output_type": "stream",
     "name": "stdout",
     "text": [
      "<class 'str'>\n",
      "1\n",
      "<class 'list'>\t<class 'int'>\t<class 'str'>\t<class 'set'>\t<class 'str'>\n"
     ]
    }
   ],
   "metadata": {}
  },
  {
   "cell_type": "code",
   "execution_count": null,
   "source": [
    "a=1\n",
    "b=2\n",
    "print(a if a>b else b)"
   ],
   "outputs": [],
   "metadata": {}
  },
  {
   "cell_type": "code",
   "execution_count": 9,
   "source": [
    "import datetime as dt\n",
    "today=dt.date.today()\n",
    "print(today)\n",
    "today"
   ],
   "outputs": [
    {
     "output_type": "stream",
     "name": "stdout",
     "text": [
      "2021-07-06\n"
     ]
    },
    {
     "output_type": "execute_result",
     "data": {
      "text/plain": [
       "datetime.date(2021, 7, 6)"
      ]
     },
     "metadata": {},
     "execution_count": 9
    }
   ],
   "metadata": {}
  },
  {
   "cell_type": "code",
   "execution_count": null,
   "source": [
    "today.timetuple().tm_yday       # 今天是今年的第幾天"
   ],
   "outputs": [],
   "metadata": {}
  },
  {
   "cell_type": "code",
   "execution_count": 17,
   "source": [
    "import time \n",
    "import math\n",
    "start=time.time()\n",
    "for i in range(10000000):\n",
    "    math.sin(i)\n",
    "print(\"Time Used:\",time.time()-start)"
   ],
   "outputs": [
    {
     "output_type": "stream",
     "name": "stdout",
     "text": [
      "Time Used: 1.3290176391601562\n"
     ]
    }
   ],
   "metadata": {}
  },
  {
   "cell_type": "code",
   "execution_count": 16,
   "source": [
    "loc_sin=math.sin\n",
    "start=time.time()\n",
    "for i in range(10000000):\n",
    "    loc_sin(i)\n",
    "print(\"Time Used:\",time.time()-start)"
   ],
   "outputs": [
    {
     "output_type": "stream",
     "name": "stdout",
     "text": [
      "Time Used: 1.3441081047058105\n"
     ]
    }
   ],
   "metadata": {}
  },
  {
   "cell_type": "code",
   "execution_count": 13,
   "source": [
    "from math import sin\n",
    "start=time.time()\n",
    "for i in range(100000000) :\n",
    "    sin(i)\n",
    "print(\"Time Used:\",time.time()-start)"
   ],
   "outputs": [
    {
     "output_type": "stream",
     "name": "stdout",
     "text": [
      "Time Used: 13.726139068603516\n"
     ]
    }
   ],
   "metadata": {}
  },
  {
   "cell_type": "code",
   "execution_count": 18,
   "source": [
    "start=time.time()\n",
    "loc_sin=sin\n",
    "for i in range(100000000) :\n",
    "    loc_sin(i)\n",
    "print(\"Time Used:\",time.time()-start)"
   ],
   "outputs": [
    {
     "output_type": "stream",
     "name": "stdout",
     "text": [
      "Time Used: 14.490150213241577\n"
     ]
    }
   ],
   "metadata": {}
  },
  {
   "cell_type": "code",
   "execution_count": 19,
   "source": [
    "for n in range(100,1,-1):\n",
    "    for i in range(2,n):\n",
    "        if n%i==0:\n",
    "            break\n",
    "    else:\n",
    "        print(i)\n",
    "        break\n"
   ],
   "outputs": [
    {
     "output_type": "stream",
     "name": "stdout",
     "text": [
      "96\n"
     ]
    }
   ],
   "metadata": {}
  },
  {
   "cell_type": "code",
   "execution_count": 21,
   "source": [
    "for i in range(9,10):\n",
    "    if i%2==0:\n",
    "        i+=1\n",
    "        continue\n",
    "    print(id(i),\":\",i)"
   ],
   "outputs": [
    {
     "output_type": "stream",
     "name": "stdout",
     "text": [
      "2805808785968 : 9\n"
     ]
    }
   ],
   "metadata": {}
  },
  {
   "cell_type": "code",
   "execution_count": 22,
   "source": [
    "for i in range(10):\r\n",
    "    if i%2==0:\r\n",
    "        continue\r\n",
    "    print(id(i),\":\",i)"
   ],
   "outputs": [
    {
     "output_type": "stream",
     "name": "stdout",
     "text": [
      "2805808785712 : 1\n",
      "2805808785776 : 3\n",
      "2805808785840 : 5\n",
      "2805808785904 : 7\n",
      "2805808785968 : 9\n"
     ]
    }
   ],
   "metadata": {}
  },
  {
   "cell_type": "code",
   "execution_count": 23,
   "source": [
    "ls=['a','b','quanwei','tang']\r\n",
    "for i,v in enumerate(ls):\r\n",
    "    print(i,v)"
   ],
   "outputs": [
    {
     "output_type": "stream",
     "name": "stdout",
     "text": [
      "0 a\n",
      "1 b\n",
      "2 quanwei\n",
      "3 tang\n"
     ]
    }
   ],
   "metadata": {}
  },
  {
   "cell_type": "code",
   "execution_count": 24,
   "source": [
    "i=0\r\n",
    "while True:\r\n",
    "    print(i,ls[i])\r\n",
    "    i+=1\r\n",
    "    if i==len(ls):\r\n",
    "        break\r\n"
   ],
   "outputs": [
    {
     "output_type": "stream",
     "name": "stdout",
     "text": [
      "0 a\n",
      "1 b\n",
      "2 quanwei\n",
      "3 tang\n"
     ]
    }
   ],
   "metadata": {
    "tags": []
   }
  },
  {
   "cell_type": "code",
   "execution_count": 29,
   "source": [
    "for i in range(1,10):\r\n",
    "    for j in range(1,i+1):\r\n",
    "        print(j,'x',i,'=',i*j,end='/t')\r\n",
    "    print()"
   ],
   "outputs": [
    {
     "output_type": "stream",
     "name": "stdout",
     "text": [
      "1 x 1 = 1  \n",
      "1 x 2 = 2  2 x 2 = 4  \n",
      "1 x 3 = 3  2 x 3 = 6  3 x 3 = 9  \n",
      "1 x 4 = 4  2 x 4 = 8  3 x 4 = 12  4 x 4 = 16  \n",
      "1 x 5 = 5  2 x 5 = 10  3 x 5 = 15  4 x 5 = 20  5 x 5 = 25  \n",
      "1 x 6 = 6  2 x 6 = 12  3 x 6 = 18  4 x 6 = 24  5 x 6 = 30  6 x 6 = 36  \n",
      "1 x 7 = 7  2 x 7 = 14  3 x 7 = 21  4 x 7 = 28  5 x 7 = 35  6 x 7 = 42  7 x 7 = 49  \n",
      "1 x 8 = 8  2 x 8 = 16  3 x 8 = 24  4 x 8 = 32  5 x 8 = 40  6 x 8 = 48  7 x 8 = 56  8 x 8 = 64  \n",
      "1 x 9 = 9  2 x 9 = 18  3 x 9 = 27  4 x 9 = 36  5 x 9 = 45  6 x 9 = 54  7 x 9 = 63  8 x 9 = 72  9 x 9 = 81  \n"
     ]
    }
   ],
   "metadata": {}
  },
  {
   "cell_type": "code",
   "execution_count": 30,
   "source": [
    "import math\r\n",
    "print(math.e,math.pi)"
   ],
   "outputs": [
    {
     "output_type": "stream",
     "name": "stdout",
     "text": [
      "2.718281828459045 3.141592653589793\n"
     ]
    }
   ],
   "metadata": {}
  },
  {
   "cell_type": "code",
   "execution_count": 34,
   "source": [
    "# 組合數\r\n",
    "import time\r\n",
    "\r\n",
    "\r\n",
    "def Cni(n, i):\r\n",
    "    ret = 1\r\n",
    "    Min, Max = min(i, n-i), max(i, n-i)\r\n",
    "    for i in range(n, 0, -1):\r\n",
    "        if i > Max:         # 大於4的乘上\r\n",
    "            ret *= i\r\n",
    "        elif i <= Min:\r\n",
    "            ret /= i       # 小等於2的除掉\r\n",
    "    return ret\r\n",
    "\r\n",
    "\r\n",
    "start = time.time()\r\n",
    "print(Cni(100, 50))\r\n",
    "print(\"Time used:\", time.time()-start)"
   ],
   "outputs": [
    {
     "output_type": "stream",
     "name": "stdout",
     "text": [
      "1.0089134454556422e+29\n",
      "Time used: 0.0\n"
     ]
    }
   ],
   "metadata": {}
  },
  {
   "cell_type": "code",
   "execution_count": 36,
   "source": [
    "import itertools\r\n",
    "x =\"Quanwei\"\r\n",
    "y=itertools.cycle(x)        # 循環遍歷\r\n",
    "for i in range(50):\r\n",
    "    print(next(y),end='->')"
   ],
   "outputs": [
    {
     "output_type": "stream",
     "name": "stdout",
     "text": [
      "Q->u->a->n->w->e->i->Q->u->a->n->w->e->i->Q->u->a->n->w->e->i->Q->u->a->n->w->e->i->Q->u->a->n->w->e->i->Q->u->a->n->w->e->i->Q->u->a->n->w->e->i->Q->"
     ]
    }
   ],
   "metadata": {}
  },
  {
   "cell_type": "code",
   "execution_count": 41,
   "source": [
    "# 根據一個序列的值对另一个序列进行过滤\r\n",
    "x = range(1, 20)\r\n",
    "y = (1, 0)*9+(1,)\r\n",
    "print(x, '\\n', y)\r\n",
    "list(itertools.compress(x, y))"
   ],
   "outputs": [
    {
     "output_type": "stream",
     "name": "stdout",
     "text": [
      "range(1, 20) \n",
      " (1, 0, 1, 0, 1, 0, 1, 0, 1, 0, 1, 0, 1, 0, 1, 0, 1, 0, 1)\n"
     ]
    },
    {
     "output_type": "execute_result",
     "data": {
      "text/plain": [
       "[1, 3, 5, 7, 9, 11, 13, 15, 17, 19]"
      ]
     },
     "metadata": {},
     "execution_count": 41
    }
   ],
   "metadata": {}
  },
  {
   "cell_type": "code",
   "execution_count": 39,
   "source": [
    "help(itertools.compress)"
   ],
   "outputs": [
    {
     "output_type": "stream",
     "name": "stdout",
     "text": [
      "Help on class compress in module itertools:\n",
      "\n",
      "class compress(builtins.object)\n",
      " |  compress(data, selectors)\n",
      " |  \n",
      " |  Return data elements corresponding to true selector elements.\n",
      " |  \n",
      " |  Forms a shorter iterator from selected data elements using the selectors to\n",
      " |  choose the data elements.\n",
      " |  \n",
      " |  Methods defined here:\n",
      " |  \n",
      " |  __getattribute__(self, name, /)\n",
      " |      Return getattr(self, name).\n",
      " |  \n",
      " |  __iter__(self, /)\n",
      " |      Implement iter(self).\n",
      " |  \n",
      " |  __next__(self, /)\n",
      " |      Implement next(self).\n",
      " |  \n",
      " |  __reduce__(...)\n",
      " |      Return state information for pickling.\n",
      " |  \n",
      " |  ----------------------------------------------------------------------\n",
      " |  Static methods defined here:\n",
      " |  \n",
      " |  __new__(*args, **kwargs) from builtins.type\n",
      " |      Create and return a new object.  See help(type) for accurate signature.\n",
      "\n"
     ]
    }
   ],
   "metadata": {}
  },
  {
   "cell_type": "code",
   "execution_count": 43,
   "source": [
    "# 根据返回值分组\r\n",
    "def Size(v):\r\n",
    "    if v<0:\r\n",
    "        return 'less than 0'\r\n",
    "    elif v<10:\r\n",
    "        return 'between 0 and 10'\r\n",
    "    else:\r\n",
    "        return 'greater than 10'\r\n",
    "\r\n",
    "x=range(-10,20)\r\n",
    "y=itertools.groupby(x,Size)\r\n",
    "for i,v in y:\r\n",
    "    print(type(i),type(v),type(y))\r\n",
    "    print(i,\":\",list(v))"
   ],
   "outputs": [
    {
     "output_type": "stream",
     "name": "stdout",
     "text": [
      "<class 'str'> <class 'itertools._grouper'> <class 'itertools.groupby'>\n",
      "less than 0 : [-10, -9, -8, -7, -6, -5, -4, -3, -2, -1]\n",
      "<class 'str'> <class 'itertools._grouper'> <class 'itertools.groupby'>\n",
      "between 0 and 10 : [0, 1, 2, 3, 4, 5, 6, 7, 8, 9]\n",
      "<class 'str'> <class 'itertools._grouper'> <class 'itertools.groupby'>\n",
      "greater than 10 : [10, 11, 12, 13, 14, 15, 16, 17, 18, 19]\n"
     ]
    }
   ],
   "metadata": {}
  },
  {
   "cell_type": "code",
   "execution_count": 44,
   "source": [
    "# 4选3排列\r\n",
    "list(itertools.permutations([1,2,3,4],3))"
   ],
   "outputs": [
    {
     "output_type": "execute_result",
     "data": {
      "text/plain": [
       "[(1, 2, 3),\n",
       " (1, 2, 4),\n",
       " (1, 3, 2),\n",
       " (1, 3, 4),\n",
       " (1, 4, 2),\n",
       " (1, 4, 3),\n",
       " (2, 1, 3),\n",
       " (2, 1, 4),\n",
       " (2, 3, 1),\n",
       " (2, 3, 4),\n",
       " (2, 4, 1),\n",
       " (2, 4, 3),\n",
       " (3, 1, 2),\n",
       " (3, 1, 4),\n",
       " (3, 2, 1),\n",
       " (3, 2, 4),\n",
       " (3, 4, 1),\n",
       " (3, 4, 2),\n",
       " (4, 1, 2),\n",
       " (4, 1, 3),\n",
       " (4, 2, 1),\n",
       " (4, 2, 3),\n",
       " (4, 3, 1),\n",
       " (4, 3, 2)]"
      ]
     },
     "metadata": {},
     "execution_count": 44
    }
   ],
   "metadata": {}
  },
  {
   "cell_type": "code",
   "execution_count": 50,
   "source": [
    "x=itertools.permutations([1,2,3,4],4)\r\n",
    "for i in range(10):\r\n",
    "    print(next(x))"
   ],
   "outputs": [
    {
     "output_type": "stream",
     "name": "stdout",
     "text": [
      "(1, 2, 3, 4)\n",
      "(1, 2, 4, 3)\n",
      "(1, 3, 2, 4)\n",
      "(1, 3, 4, 2)\n",
      "(1, 4, 2, 3)\n",
      "(1, 4, 3, 2)\n",
      "(2, 1, 3, 4)\n",
      "(2, 1, 4, 3)\n",
      "(2, 3, 1, 4)\n",
      "(2, 3, 4, 1)\n"
     ]
    }
   ],
   "metadata": {}
  },
  {
   "cell_type": "code",
   "execution_count": 54,
   "source": [
    "ls=list(itertools.permutations([1,2,3,4],4))\r\n",
    "elem=[]\r\n",
    "\r\n",
    "for i in ls:\r\n",
    "    num=0\r\n",
    "    for n in i:\r\n",
    "        num = num*10 +n\r\n",
    "    elem.append(num)\r\n",
    "elem"
   ],
   "outputs": [
    {
     "output_type": "execute_result",
     "data": {
      "text/plain": [
       "[1234,\n",
       " 1243,\n",
       " 1324,\n",
       " 1342,\n",
       " 1423,\n",
       " 1432,\n",
       " 2134,\n",
       " 2143,\n",
       " 2314,\n",
       " 2341,\n",
       " 2413,\n",
       " 2431,\n",
       " 3124,\n",
       " 3142,\n",
       " 3214,\n",
       " 3241,\n",
       " 3412,\n",
       " 3421,\n",
       " 4123,\n",
       " 4132,\n",
       " 4213,\n",
       " 4231,\n",
       " 4312,\n",
       " 4321]"
      ]
     },
     "metadata": {},
     "execution_count": 54
    }
   ],
   "metadata": {}
  },
  {
   "cell_type": "code",
   "execution_count": 55,
   "source": [
    "def Say(message,times=2,length=10):\r\n",
    "    print((message+' ')*times)\r\n",
    "Say.__defaults__ # default arguements"
   ],
   "outputs": [
    {
     "output_type": "execute_result",
     "data": {
      "text/plain": [
       "(2, 10)"
      ]
     },
     "metadata": {},
     "execution_count": 55
    }
   ],
   "metadata": {}
  },
  {
   "cell_type": "code",
   "execution_count": 56,
   "source": [
    "\"\"\" 多次调用函数并且不为默认参数传值\r\n",
    "    默认参数只在第一次调用时进行解释 \"\"\"\r\n",
    "\r\n",
    "\r\n",
    "def demo(newitem, old_list=[]):\r\n",
    "    old_list.append(newitem)\r\n",
    "    return old_list\r\n",
    "# after called, old_list stiall alive\r\n",
    "\r\n",
    "print(demo(1, [2, 3, 4, 5]))\r\n",
    "print(demo('a'))\r\n",
    "print(demo('bb'))\r\n",
    "print(demo(1, [2, 3, 4, 5]))"
   ],
   "outputs": [
    {
     "output_type": "stream",
     "name": "stdout",
     "text": [
      "[2, 3, 4, 5, 1]\n",
      "['a']\n",
      "['a', 'bb']\n",
      "[2, 3, 4, 5, 1]\n"
     ]
    }
   ],
   "metadata": {
    "cell_style": "split"
   }
  },
  {
   "cell_type": "code",
   "execution_count": 57,
   "source": [
    "def demo(newitem,old_list=[]):\r\n",
    "    if not old_list:\r\n",
    "        old_list=[]\r\n",
    "    old_list.append(newitem)\r\n",
    "    return old_list\r\n",
    "print(demo(1,[2,3,4,5]))\r\n",
    "print(demo('a'))\r\n",
    "print(demo('bb'))\r\n",
    "print(demo(1,[2,3,4,5]))"
   ],
   "outputs": [
    {
     "output_type": "stream",
     "name": "stdout",
     "text": [
      "[2, 3, 4, 5, 1]\n",
      "['a']\n",
      "['bb']\n",
      "[2, 3, 4, 5, 1]\n"
     ]
    }
   ],
   "metadata": {
    "cell_style": "split"
   }
  },
  {
   "cell_type": "code",
   "execution_count": 58,
   "source": [
    "\"\"\" 关键参数 \"\"\"\r\n",
    "demo(old_list=[1,2,3],newitem=88)"
   ],
   "outputs": [
    {
     "output_type": "execute_result",
     "data": {
      "text/plain": [
       "[1, 2, 3, 88]"
      ]
     },
     "metadata": {},
     "execution_count": 58
    }
   ],
   "metadata": {}
  },
  {
   "cell_type": "code",
   "execution_count": 59,
   "source": [
    "\"\"\" 可变长度参数 \"\"\"\r\n",
    "def demo(**para):\r\n",
    "    for item in para.items():\r\n",
    "        print(item)\r\n",
    "    print(para)\r\n",
    "    \r\n",
    "demo(x=1,y=2,z=3)"
   ],
   "outputs": [
    {
     "output_type": "stream",
     "name": "stdout",
     "text": [
      "('x', 1)\n",
      "('y', 2)\n",
      "('z', 3)\n",
      "{'x': 1, 'y': 2, 'z': 3}\n"
     ]
    }
   ],
   "metadata": {}
  },
  {
   "cell_type": "code",
   "execution_count": 61,
   "source": [
    "def add(a,*b):\r\n",
    "    print(a+sum(b))\r\n",
    "    return\r\n",
    "ls=[i for i in range(101)]\r\n",
    "add(*ls)"
   ],
   "outputs": [
    {
     "output_type": "stream",
     "name": "stdout",
     "text": [
      "5050\n"
     ]
    }
   ],
   "metadata": {}
  },
  {
   "cell_type": "code",
   "execution_count": null,
   "source": [
    "import functools\n",
    "dir(functools)"
   ],
   "outputs": [],
   "metadata": {}
  },
  {
   "cell_type": "code",
   "execution_count": null,
   "source": [
    "help(functools.reduce)"
   ],
   "outputs": [],
   "metadata": {}
  },
  {
   "cell_type": "code",
   "execution_count": null,
   "source": [
    "\"\"\" yield生成器 \"\"\"\r\n",
    "def f():\r\n",
    "    a,b=1,1\r\n",
    "    while True:\r\n",
    "        yield a\r\n",
    "        a,b=b,a+b\r\n",
    "a=f()\r\n",
    "for i in range(10):\r\n",
    "    print(a.__next__(),end=' ')"
   ],
   "outputs": [],
   "metadata": {}
  },
  {
   "cell_type": "code",
   "execution_count": null,
   "source": [
    "for i in f():\r\n",
    "    if i>100:\r\n",
    "        break\r\n",
    "    print(i,end=' ')"
   ],
   "outputs": [],
   "metadata": {}
  },
  {
   "cell_type": "code",
   "execution_count": null,
   "source": [
    "\"\"\" 查看函数字节码 \"\"\"\r\n",
    "import dis\r\n",
    "dis.dis(f)"
   ],
   "outputs": [],
   "metadata": {}
  },
  {
   "cell_type": "code",
   "execution_count": 62,
   "source": [
    "\"\"\" 嵌套定义 \"\"\"\r\n",
    "def linear(a,b):\r\n",
    "    def result(x):\r\n",
    "        return a*x+b\r\n",
    "    return result\r\n",
    "taxes=linear(0.3,2)\r\n",
    "taxes(5)"
   ],
   "outputs": [
    {
     "output_type": "execute_result",
     "data": {
      "text/plain": [
       "3.5"
      ]
     },
     "metadata": {},
     "execution_count": 62
    }
   ],
   "metadata": {}
  },
  {
   "cell_type": "code",
   "execution_count": null,
   "source": [
    "from math import pi\r\n",
    "\r\n",
    "\r\n",
    "class Circle(object):\r\n",
    "    _radius = 0\r\n",
    "\r\n",
    "    def __init__(self, r) -> None:\r\n",
    "        self._radius = r\r\n",
    "\r\n",
    "    def SetRadius(self, r):\r\n",
    "        self._radius = r\r\n",
    "\r\n",
    "    def GetRadius(self):\r\n",
    "        return float(self._radius)\r\n",
    "\r\n",
    "    def GetCircumference(self):\r\n",
    "        return 2*pi*self._radius\r\n",
    "\r\n",
    "    def GetArea(self):\r\n",
    "        return pi*self._radius*self._radius\r\n",
    "\r\n",
    "    def __del__(self):\r\n",
    "        print(f'{self}对象已经被删除')\r\n",
    "\r\n",
    "\r\n",
    "class SolidSphere(Circle):\r\n",
    "    _radius = 0\r\n",
    "\r\n",
    "    def GetCircumference(self):\r\n",
    "        return 2*pi*self._radius\r\n",
    "\r\n",
    "    def GetArea(self):\r\n",
    "        return 4*pi*self._radius*self._radius\r\n",
    "\r\n",
    "    def GetVolume(self):\r\n",
    "        return 4/3*pi*self._radius*self._radius*self._radius\r\n",
    "\r\n",
    "\r\n",
    "c1 = Circle(12.5)\r\n",
    "print(c1.GetRadius())\r\n",
    "print(c1.GetCircumference())\r\n",
    "print(c1.GetArea())\r\n",
    "print()\r\n",
    "s1 = SolidSphere(5)\r\n",
    "print(s1.GetRadius())\r\n",
    "print(s1.GetCircumference())\r\n",
    "print(s1.GetArea())\r\n",
    "print(s1.GetVolume())\r\n"
   ],
   "outputs": [],
   "metadata": {}
  },
  {
   "cell_type": "code",
   "execution_count": 65,
   "source": [
    "class Root:\n",
    "    __total = 0\n",
    "\n",
    "    def __init__(self, v):\n",
    "        self.__value = v\n",
    "        Root.__total += 1\n",
    "\n",
    "    def show(self):\n",
    "        print(\"self.__value = \", self.__value)\n",
    "        print(\"Root.__total = \", Root.__total)\n",
    "    \n",
    "    def __get(self):\n",
    "        return self.__value\n",
    "    \n",
    "    def __set(self,v):\n",
    "        self.__value=v\n",
    "    \n",
    "    def __del(self):\n",
    "        del self.__value\n",
    "\n",
    "    value=property(__get,__set,__del)\n",
    "\n",
    "    @classmethod\n",
    "    def classShowTotal(cls):\n",
    "        print(cls.__total)\n",
    "\n",
    "    @staticmethod\n",
    "    def staticShoowTotal():\n",
    "        print(Root.__total)\n",
    "\n",
    "\n",
    "r = Root(3)\n",
    "r.show()\n",
    "r.value\n",
    "Root.classShowTotal()\n",
    "Root.staticShoowTotal()"
   ],
   "outputs": [
    {
     "output_type": "stream",
     "name": "stdout",
     "text": [
      "self.__value =  3\n",
      "Root.__total =  1\n",
      "1\n",
      "1\n"
     ]
    }
   ],
   "metadata": {}
  },
  {
   "cell_type": "code",
   "execution_count": 66,
   "source": [
    "print(hex(17))"
   ],
   "outputs": [
    {
     "output_type": "stream",
     "name": "stdout",
     "text": [
      "0x11\n"
     ]
    }
   ],
   "metadata": {}
  },
  {
   "cell_type": "code",
   "execution_count": 67,
   "source": [
    "gen = (i for i in range(-20, 21) if i % 2 == 0)\n",
    "for i in gen:\n",
    "    # print(i)\n",
    "    ...\n",
    "\n",
    "\n",
    "def fib(max):\n",
    "    n, a, b = 0, 0, 1\n",
    "    while n < max:\n",
    "        print(b)\n",
    "        a, b = b, a + b\n",
    "        n = n + 1\n",
    "    return 'done'\n",
    "\n",
    "# 一个函数定义中包含yield关键字，\n",
    "# 那么这个函数就不再是一个普通函数，而是一个generator\n",
    "\n",
    "\n",
    "def fib(max):\n",
    "    n, a, b = 0, 0, 1\n",
    "    while n < max:\n",
    "        yield b\n",
    "        a, b = b, a + b\n",
    "        n = n + 1\n",
    "    return 'done'\n",
    "\n",
    "\n",
    "# 如果想要拿到返回值，必须捕获StopIteration错误，\n",
    "# 返回值包含在StopIteration的value中\n",
    "g = fib(6)\n",
    "while True:\n",
    "    try:\n",
    "        x = next(g)\n",
    "        print('g:', x)\n",
    "    except StopIteration as e:\n",
    "        print('Generator return value:', e.value)\n",
    "        break\n"
   ],
   "outputs": [
    {
     "output_type": "stream",
     "name": "stdout",
     "text": [
      "g: 1\n",
      "g: 1\n",
      "g: 2\n",
      "g: 3\n",
      "g: 5\n",
      "g: 8\n",
      "Generator return value: done\n"
     ]
    }
   ],
   "metadata": {
    "cell_style": "center"
   }
  },
  {
   "cell_type": "code",
   "execution_count": 1,
   "source": [
    "# 杨辉三角\r\n",
    "import math\r\n",
    "m=int(input())\r\n",
    "ls=([math.comb(n,k) for k in range(n+1) ]for n in range(m))\r\n",
    "for i in ls:\r\n",
    "    print(' '*m+'  '.join(list(map(str,i))))\r\n",
    "    m-=1"
   ],
   "outputs": [
    {
     "output_type": "stream",
     "name": "stdout",
     "text": [
      "3\n",
      "   1\n",
      "  1  1\n",
      " 1  2  1\n"
     ]
    }
   ],
   "metadata": {}
  },
  {
   "cell_type": "code",
   "execution_count": null,
   "source": [
    "# 可以被next()函数调用并不断返回下一个值的对象称为迭代器：Iterator\r\n",
    "# 判断\r\n",
    "from collections.abc import Iterable\r\n",
    "from collections.abc import Iterator\r\n",
    "print(isinstance([], Iterable))\r\n",
    "print(isinstance((x for x in range(10)), Iterator))\r\n",
    "# 生成器都是Iterator对象，但list、dict、str虽然是Iterable，却不是Iterator\r\n",
    "print(isinstance([], Iterator))\r\n",
    "# 凡是可作用于for循环的对象都是Iterable类型\r\n",
    "# 凡是可作用于next()函数的对象都是Iterator类型\r\n",
    "# Python的for循环本质上就是通过不断调用next()函数实现的"
   ],
   "outputs": [],
   "metadata": {}
  },
  {
   "cell_type": "code",
   "execution_count": 2,
   "source": [
    "from itertools import permutations\r\n",
    "from functools import reduce\r\n",
    "\r\n",
    "ls=permutations([1,2,3,4])\r\n",
    "for i in ls:\r\n",
    "    print(reduce(lambda x,y:x*10+y,i))\r\n"
   ],
   "outputs": [
    {
     "output_type": "stream",
     "name": "stdout",
     "text": [
      "1234\n",
      "1243\n",
      "1324\n",
      "1342\n",
      "1423\n",
      "1432\n",
      "2134\n",
      "2143\n",
      "2314\n",
      "2341\n",
      "2413\n",
      "2431\n",
      "3124\n",
      "3142\n",
      "3214\n",
      "3241\n",
      "3412\n",
      "3421\n",
      "4123\n",
      "4132\n",
      "4213\n",
      "4231\n",
      "4312\n",
      "4321\n"
     ]
    }
   ],
   "metadata": {}
  },
  {
   "cell_type": "code",
   "execution_count": 3,
   "source": [
    "import string\r\n",
    "import random\r\n",
    "def get_value(*a):\r\n",
    "    # ave = sum(a)/len(a)\r\n",
    "    # b = [ave]\r\n",
    "    cA=ca=0\r\n",
    "    for i in a:\r\n",
    "        \r\n",
    "        if 'a'<=i<='z':\r\n",
    "            ca+=1\r\n",
    "        elif 'A'<=i<='Z':\r\n",
    "            cA+=1\r\n",
    "    return ca,cA\r\n",
    "\r\n",
    "contains=string.ascii_lowercase.split()+string.ascii_uppercase.split()\r\n",
    "ls=[i for i in range(20)]\r\n",
    "l2=\"adafafasdAMDOADO\"\r\n",
    "l3=''.join([random.choice(contains) for i in range(20)])\r\n",
    "print(get_value(*l3))\r\n",
    "print(*l3)\r\n",
    "contains\r\n"
   ],
   "outputs": [
    {
     "output_type": "stream",
     "name": "stdout",
     "text": [
      "(208, 312)\n",
      "A B C D E F G H I J K L M N O P Q R S T U V W X Y Z A B C D E F G H I J K L M N O P Q R S T U V W X Y Z A B C D E F G H I J K L M N O P Q R S T U V W X Y Z A B C D E F G H I J K L M N O P Q R S T U V W X Y Z A B C D E F G H I J K L M N O P Q R S T U V W X Y Z a b c d e f g h i j k l m n o p q r s t u v w x y z A B C D E F G H I J K L M N O P Q R S T U V W X Y Z a b c d e f g h i j k l m n o p q r s t u v w x y z a b c d e f g h i j k l m n o p q r s t u v w x y z a b c d e f g h i j k l m n o p q r s t u v w x y z a b c d e f g h i j k l m n o p q r s t u v w x y z a b c d e f g h i j k l m n o p q r s t u v w x y z a b c d e f g h i j k l m n o p q r s t u v w x y z A B C D E F G H I J K L M N O P Q R S T U V W X Y Z A B C D E F G H I J K L M N O P Q R S T U V W X Y Z A B C D E F G H I J K L M N O P Q R S T U V W X Y Z A B C D E F G H I J K L M N O P Q R S T U V W X Y Z a b c d e f g h i j k l m n o p q r s t u v w x y z A B C D E F G H I J K L M N O P Q R S T U V W X Y Z A B C D E F G H I J K L M N O P Q R S T U V W X Y Z\n"
     ]
    },
    {
     "output_type": "execute_result",
     "data": {
      "text/plain": [
       "['abcdefghijklmnopqrstuvwxyz', 'ABCDEFGHIJKLMNOPQRSTUVWXYZ']"
      ]
     },
     "metadata": {},
     "execution_count": 3
    }
   ],
   "metadata": {}
  },
  {
   "cell_type": "code",
   "execution_count": 7,
   "source": [
    "ls=[i for i in range(30)]\r\n",
    "print(ls)\r\n",
    "print(ls[:5][::-1])\r\n",
    "print(ls[:2:-1])\r\n"
   ],
   "outputs": [
    {
     "output_type": "stream",
     "name": "stdout",
     "text": [
      "[0, 1, 2, 3, 4, 5, 6, 7, 8, 9, 10, 11, 12, 13, 14, 15, 16, 17, 18, 19, 20, 21, 22, 23, 24, 25, 26, 27, 28, 29]\n",
      "[4, 3, 2, 1, 0]\n",
      "[29, 28, 27, 26, 25, 24, 23, 22, 21, 20, 19, 18, 17, 16, 15, 14, 13, 12, 11, 10, 9, 8, 7, 6, 5, 4, 3]\n"
     ]
    }
   ],
   "metadata": {}
  },
  {
   "cell_type": "code",
   "execution_count": 12,
   "source": [
    "ls = [1, 2, 3, 4, \":\", 5, 6, 7]\r\n",
    "\r\n",
    "\r\n",
    "def my_reverse(ls, n):\r\n",
    "    return ls[:n][::-1]+[ls[n]]+ls[n+1:][::-1]\r\n",
    "\r\n",
    "\r\n",
    "def my_reverse(ls, char):\r\n",
    "    idx = ls.index(char)\r\n",
    "    return ls[:idx][::-1]+[ls[idx]]+ls[idx+1:][::-1]\r\n",
    "\r\n",
    "\r\n",
    "print(my_reverse(ls, 2))\r\n",
    "print(my_reverse(ls, ':'))\r\n"
   ],
   "outputs": [
    {
     "output_type": "stream",
     "name": "stdout",
     "text": [
      "[1, 2, 7, 6, 5, ':', 4, 3]\n",
      "[4, 3, 2, 1, ':', 7, 6, 5]\n"
     ]
    }
   ],
   "metadata": {}
  },
  {
   "cell_type": "code",
   "execution_count": null,
   "source": [
    "def _odd_iter():\r\n",
    "    n = 1\r\n",
    "    while True:\r\n",
    "        n += 2\r\n",
    "        yield n\r\n",
    "\r\n",
    "\r\n",
    "def primes():\r\n",
    "    yield 2\r\n",
    "    it = _odd_iter()  # 初始序列\r\n",
    "    while True:\r\n",
    "        n = next(it)  # 返回序列的第一个数\r\n",
    "        yield n\r\n",
    "        it = filter(lambda x: x % n != 0, it)  # 构造新序列\r\n",
    "\r\n",
    "\r\n",
    "for n in primes():\r\n",
    "    if n < 100:\r\n",
    "        print(n, end=' ')\r\n",
    "    else:\r\n",
    "        break\r\n"
   ],
   "outputs": [],
   "metadata": {}
  },
  {
   "cell_type": "code",
   "execution_count": null,
   "source": [
    "# 在代码运行期间动态增加功能的方式，称之为“装饰器”（Decorator）。\r\n",
    "# 本质上，decorator就是一个返回函数的高阶函数\r\n",
    "def log(func):\r\n",
    "    def wrapper(*names, **kw):\r\n",
    "        print('call %s():' % func.__name__)\r\n",
    "        return func(*names, **kw)\r\n",
    "    return wrapper\r\n",
    "\r\n",
    "# 借助Python的@语法，把decorator置于函数的定义处\r\n",
    "# 相当于 now = log(now)\r\n",
    "\r\n",
    "\r\n",
    "@log\r\n",
    "def now():\r\n",
    "    print(\"now 2021 5 12\") \r\n",
    "\r\n",
    "\r\n",
    "f = now\r\n",
    "f()\r\n"
   ],
   "outputs": [],
   "metadata": {}
  },
  {
   "cell_type": "code",
   "execution_count": 2,
   "source": [
    "def log(text):\r\n",
    "    def decorator(func):\r\n",
    "        def wrapper(*names, **kw):\r\n",
    "            print('%s %s():' % (text, func.__name__))\r\n",
    "            return func(*names, **kw)\r\n",
    "        return wrapper\r\n",
    "    return decorator\r\n",
    "\r\n",
    "# now = log('execute')(now)\r\n",
    "@log('execute')\r\n",
    "def now():\r\n",
    "    print('2015-3-25')\r\n",
    "\r\n",
    "now()\r\n",
    "now.__name__"
   ],
   "outputs": [
    {
     "output_type": "stream",
     "name": "stdout",
     "text": [
      "execute now():\n",
      "2015-3-25\n"
     ]
    },
    {
     "output_type": "execute_result",
     "data": {
      "text/plain": [
       "'wrapper'"
      ]
     },
     "metadata": {},
     "execution_count": 2
    }
   ],
   "metadata": {}
  },
  {
   "cell_type": "code",
   "execution_count": 1,
   "source": [
    "import functools\r\n",
    "import time\r\n",
    "\r\n",
    "\r\n",
    "def log(text):\r\n",
    "    def decorator(func):\r\n",
    "        @functools.wraps(func)\r\n",
    "        def wrapper(*names, **kw):\r\n",
    "            print('%s %s %s():' % (time.ctime(), text, func.__name__))\r\n",
    "            return func(*names, **kw)\r\n",
    "        return wrapper\r\n",
    "    return decorator\r\n",
    "@log('execute')\r\n",
    "def now():\r\n",
    "    print('2015-3-25')\r\n",
    "now()"
   ],
   "outputs": [
    {
     "output_type": "stream",
     "name": "stdout",
     "text": [
      "Tue Jul  6 14:40:47 2021 execute now():\n",
      "2015-3-25\n"
     ]
    }
   ],
   "metadata": {}
  },
  {
   "cell_type": "code",
   "execution_count": null,
   "source": [],
   "outputs": [],
   "metadata": {}
  },
  {
   "cell_type": "code",
   "execution_count": null,
   "source": [
    "# 偏函数\r\n",
    "import functools\r\n",
    "int2 = functools.partial(int, base=2)\r\n",
    "int2('1000000')"
   ],
   "outputs": [],
   "metadata": {}
  },
  {
   "cell_type": "code",
   "execution_count": null,
   "source": [
    "from types import MethodType\r\n",
    "\r\n",
    "\r\n",
    "class MyCLass(object):\r\n",
    "    \"\"\"docstring for MyCLass.\"\"\"\r\n",
    "    # 只允许对Student实例添加name和age属性\r\n",
    "    __slots__ = ('__name', 'num', 'say', \"__scores\")  # 用tuple定义允许绑定的属性名称\r\n",
    "\r\n",
    "    def __init__(self, name, scores=0):\r\n",
    "        super(MyCLass, self).__init__()\r\n",
    "        self.__name = name\r\n",
    "        self.__scores = scores\r\n",
    "\r\n",
    "    # @property装饰器就是负责把一个方法变成属性调用的\r\n",
    "    @property\r\n",
    "    def getScores(self):\r\n",
    "        return self.__scores\r\n",
    "\r\n",
    "\r\n",
    "def say(self):\r\n",
    "    print(say.__name__, \"is running\")\r\n",
    "\r\n",
    "\r\n",
    "s = MyCLass(\"Ss\")\r\n",
    "\r\n",
    "# 给实例绑定一个属性\r\n",
    "s.num = \"1234\"\r\n",
    "\r\n",
    "# 给实例绑定一个方法,对另一个实例是不起作用的\r\n",
    "s.say = MethodType(say, s)\r\n",
    "s.say()\r\n",
    "\r\n",
    "# 给class绑定方法\r\n",
    "MyCLass.say = say\r\n",
    "\r\n",
    "s2 = MyCLass(\"asd\")\r\n",
    "s2.say()\r\n",
    "s2.getScores\r\n"
   ],
   "outputs": [],
   "metadata": {}
  },
  {
   "cell_type": "code",
   "execution_count": null,
   "source": [
    "class Fib(object):\r\n",
    "    def __init__(self, name=\"Fib\"):\r\n",
    "        self.a, self.b = 0, 1\r\n",
    "#         self.name = name\r\n",
    "        # 初始化两个计数器a，b\r\n",
    "\r\n",
    "#     def __str__(self):\r\n",
    "#         return f'Fib object (name:{self.name})'\r\n",
    "#     __repr__ = __str__\r\n",
    "\r\n",
    "#     def __call__(self):\r\n",
    "#         print('My name is %s.' % self.name)\r\n",
    "\r\n",
    "    def __iter__(self):\r\n",
    "        return self\r\n",
    "        # 实例本身就是迭代对象，故返回自己\r\n",
    "\r\n",
    "    def __next__(self):\r\n",
    "        self.a, self.b = self.b, self.a + self.b  # 计算下一个值\r\n",
    "        if self.a > 100000:\r\n",
    "            # 退出循环的条件\r\n",
    "            raise StopIteration()\r\n",
    "        return self.a\r\n",
    "        # 返回下一个值\r\n",
    "\r\n",
    "    def __getitem__(self, n):\r\n",
    "        def __getitem__(self, n):\r\n",
    "            if isinstance(n, int):  # n是索引\r\n",
    "                a, b = 1, 1\r\n",
    "            for x in range(n):\r\n",
    "                a, b = b, a + b\r\n",
    "            return a\r\n",
    "        if isinstance(n, slice):  # n是切片\r\n",
    "            start = n.start\r\n",
    "            stop = n.stop\r\n",
    "            if start is None:\r\n",
    "                start = 0\r\n",
    "            a, b = 1, 1\r\n",
    "            L = []\r\n",
    "            for x in range(stop):\r\n",
    "                if x >= start:\r\n",
    "                    L.append(a)\r\n",
    "                a, b = b, a + b\r\n",
    "            return L\r\n",
    "\r\n",
    "\r\n",
    "Fib()[:3]"
   ],
   "outputs": [],
   "metadata": {}
  },
  {
   "cell_type": "code",
   "execution_count": null,
   "source": [
    "# 枚举类Enumerate class\r\n",
    "from enum import Enum\r\n",
    "# value属性则是自动赋给成员的int常量，默认从1开始计数\r\n",
    "Month = Enum('Month', ('Jan', 'Feb', 'Mar', 'Apr', 'May', 'Jun', 'Jul', 'Aug', 'Sep', 'Oct', 'Nov', 'Dec'))\r\n",
    "for name, member in Month.__members__.items():\r\n",
    "    print(name, '=>', member, ',', member.value)"
   ],
   "outputs": [],
   "metadata": {}
  },
  {
   "cell_type": "code",
   "execution_count": null,
   "source": [
    "from enum import Enum, unique\r\n",
    "\r\n",
    "\r\n",
    "@unique  # 装饰器可以帮助我们检查保证没有重复值。\r\n",
    "class Weekday(Enum):\r\n",
    "    Sun = 0  # Sun的value被设定为0\r\n",
    "    Mon = 1\r\n",
    "    Tue = 2\r\n",
    "    Wed = 3\r\n",
    "    Thu = 4\r\n",
    "    Fri = 5\r\n",
    "    Sat = 6\r\n",
    "\r\n",
    "\r\n",
    "for i in Weekday:\r\n",
    "    print(i)\r\n",
    "\r\n",
    "for name, member in Weekday.__members__.items():\r\n",
    "    print(name, '=>', member.value)"
   ],
   "outputs": [],
   "metadata": {}
  },
  {
   "cell_type": "code",
   "execution_count": null,
   "source": [
    "# type()函数既可以返回一个对象的类型，又可以创建出新的类型\r\n",
    "def fn(self, name='word'):\r\n",
    "    print(\"Hello\", name)\r\n",
    "\r\n",
    "# 要创建一个class对象，type()函数依次传入3个参数：\r\n",
    "# class的名称；\r\n",
    "# 继承的父类集合，注意Python支持多重继承，如果只有一个父类，别忘了tuple的单元素写法；\r\n",
    "# class的方法名称与函数绑定，这里我们把函数fn绑定到方法名hello上。\r\n",
    "Hello = type('hello', (object,), dict(hello=fn))\r\n",
    "# 创建Hello class\r\n",
    "h = Hello()\r\n",
    "h.hello()\r\n",
    "print(type(Hello))\r\n",
    "print(type(h))"
   ],
   "outputs": [],
   "metadata": {}
  },
  {
   "cell_type": "code",
   "execution_count": null,
   "source": [
    "from collections import namedtuple\n",
    "Point = namedtuple(\"point\",['x','y'])\n",
    "p=Point(1,2)\n",
    "print(p.x,p.y)\n",
    "print(isinstance(p,Point))\n",
    "print(isinstance(p,tuple))\n",
    "help(namedtuple)"
   ],
   "outputs": [],
   "metadata": {}
  },
  {
   "cell_type": "code",
   "execution_count": null,
   "source": [
    "from collections import deque\n",
    "#* 高效实现插入和删除操作的双向列表\n",
    "q=deque(['a','b','c'])\n",
    "q.append('x')\n",
    "print(q)\n",
    "q.appendleft('y')\n",
    "print(q)\n",
    "q.popleft()\n",
    "print(q)"
   ],
   "outputs": [],
   "metadata": {}
  },
  {
   "cell_type": "code",
   "execution_count": null,
   "source": [
    "class Person():\n",
    "    def __init__(self, name, age, gender):\n",
    "        self.__name = name\n",
    "        self.__age = age\n",
    "        self.__gender = ['Error', gender][gender in ['Male', 'Female']]\n",
    "\n",
    "    @property\n",
    "    def personInfo(self):\n",
    "        print(\"name:\", self.__name, \"\\nage:\",\n",
    "              self.__age, \"\\ngender:\", self.__gender)\n",
    "\n",
    "    @property\n",
    "    def getName(self):\n",
    "        return self.__name\n",
    "\n",
    "    @property\n",
    "    def getAge(self):\n",
    "        return self.__age\n",
    "\n",
    "    @property\n",
    "    def getGender(self):\n",
    "        return self.__gender\n",
    "\n",
    "\n",
    "class Student(Person):\n",
    "    def __init__(self, name, age, gender, collage, class_):\n",
    "        super().__init__(name, age, gender)\n",
    "        self.__collage = collage\n",
    "        self.__class = class_\n",
    "\n",
    "    @property\n",
    "    def personInfo(self):\n",
    "        print(\"name:\", self.__name, \"\\nage:\", self.getAge, \"\\ngender:\",\n",
    "              self.getGender, \"\\ncollage:\", self.__collage, \"\\nclass:\", self.__class)\n",
    "\n",
    "    def study(self, teacher):\n",
    "        print(f\"{teacher.getName}老师,我终于学会了{teacher.teachObj}\")\n",
    "\n",
    "    def __str__(self):\n",
    "        return \"name:\" + self.getName + \"\\nage:\" + self.getAge + \"\\ngender:\" + self.getGender + \"\\ncollage:\" + self.__collage + \"\\nclass:\" + self.__class\n",
    "    __repr__=__str__\n",
    "\n",
    "class Teacher(Person):\n",
    "    def __init__(self, name, age, gender, college, professional):\n",
    "        super().__init__(name, age, gender)\n",
    "        self.__collage = college\n",
    "        self.__professional = professional\n",
    "\n",
    "    @property\n",
    "    def personInfo(self):\n",
    "        print(\"name:\", self.getName, \"\\nage:\", self.getAge, \"\\ngender:\", self.getGender,\n",
    "              \"\\ncollage:\", self.__collage, \"\\nprofessional:\", self.__professional)\n",
    "\n",
    "    @property\n",
    "    def teachObj(self):\n",
    "        return '今天讲的如何面向对象设计程序'"
   ],
   "outputs": [],
   "metadata": {}
  },
  {
   "cell_type": "code",
   "execution_count": null,
   "source": [
    "p1 = Person(\"Quanwei\", \"18\", \"Male\")\n",
    "s1 = Student(\"Quanwei\", \"18\", \"Male\", \"电信学院\", \"软件2002\")\n",
    "s2 = Student(\"Dog\", \"18\", \"Male\", \"电信学院\", \"软件2002\")\n",
    "s3 = Student(\"Wangcai\", \"18\", \"Male\", \"电信学院\", \"软件2002\")\n",
    "t1 = Teacher(\"Zhou\", \"28\", \"Male\", \"电信学院\", \"Python\")\n",
    "p1.personInfo\n",
    "t1.personInfo\n",
    "s1.study(t1)\n",
    "for i in [s1, s2, s3]:\n",
    "    print(i)"
   ],
   "outputs": [],
   "metadata": {}
  },
  {
   "cell_type": "code",
   "execution_count": null,
   "source": [
    "s1"
   ],
   "outputs": [],
   "metadata": {}
  },
  {
   "cell_type": "code",
   "execution_count": null,
   "source": [
    "\"quanwei\".__len__()"
   ],
   "outputs": [],
   "metadata": {}
  },
  {
   "cell_type": "code",
   "execution_count": null,
   "source": [
    "# 文件IO\n",
    "try:\n",
    "    f=open('../txts/hamlet.txt','r')\n",
    "    print(f.read())\n",
    "except:\n",
    "    print('ioerror')\n",
    "finally:\n",
    "    f.close()"
   ],
   "outputs": [],
   "metadata": {}
  },
  {
   "cell_type": "code",
   "execution_count": null,
   "source": [
    "# 和前面的try ... finally是一样的\n",
    "# 并且不必调用f.close()方法\n",
    "with open('../txts/words.txt','r') as f:\n",
    "    print(f.read())"
   ],
   "outputs": [],
   "metadata": {}
  },
  {
   "cell_type": "code",
   "execution_count": null,
   "source": [
    "with open('../txts/words.txt','r') as f:\n",
    "    for line in f.readlines():\n",
    "        print(line)"
   ],
   "outputs": [],
   "metadata": {}
  },
  {
   "cell_type": "code",
   "execution_count": null,
   "source": [
    "from io import StringIO\n",
    "f = StringIO()\n",
    "f.write(\"Tang\")\n",
    "f.write(\" \")\n",
    "f.write(\"Quanwei\")\n",
    "print(f.getvalue())\n"
   ],
   "outputs": [],
   "metadata": {}
  },
  {
   "cell_type": "code",
   "execution_count": null,
   "source": [
    "import time\n",
    "\n",
    "\n",
    "def fwrite():\n",
    "    with open('../txts/output.txt', 'a+', encoding='utf-8') as f:\n",
    "        f.write(time.ctime().center(40, '-')+'\\n' +\n",
    "                'Written by Quanwei.'.center(40)+'\\n')\n",
    "        cnt = 1\n",
    "        while s := input():\n",
    "            f.write(f'{cnt}. '+s+'\\n')\n",
    "            cnt += 1\n",
    "        nine_nine()\n",
    "        f.write('Cory Right 2021@ Quanwei'.center(41)+'\\n\\n')\n",
    "        f.seek(0)\n",
    "        print(f.read(), end='')\n",
    "    \n",
    "def nine_nine():\n",
    "    with open('../txts/output.txt', 'a+', encoding='utf-8') as f:\n",
    "        for i in range(1,10):\n",
    "            for j in range(1,i+1):\n",
    "                f.write(f'{j} * {i} = {i*j}\\t')\n",
    "            f.write('\\n')\n",
    "\n",
    "\n",
    "def fread():\n",
    "    with open('../txts/output.txt', 'r', encoding='utf-8') as f:\n",
    "        f.seek(0)\n",
    "        for line in f.readlines():\n",
    "            # print(line.strip(), end=['\\n', ''][line == '\\n'])  # 去除空行\n",
    "            print([line[::] for line in f.readlines() if line!='\\n'] )\n",
    "\n",
    "fwrite()\n",
    "\n",
    "# nine_nine()\n",
    "# fread()"
   ],
   "outputs": [],
   "metadata": {}
  },
  {
   "cell_type": "code",
   "execution_count": null,
   "source": [
    "ls=[]\n",
    "while s:=input(): # while (s:=input())!='':\n",
    "    ls.append(s)\n",
    "ls"
   ],
   "outputs": [],
   "metadata": {}
  },
  {
   "cell_type": "code",
   "execution_count": null,
   "source": [
    "with open('../txts/user.txt', 'w+', encoding='utf-8') as f:\n",
    "    while (s := input('username:')+':'+input('password:')) != ':':\n",
    "        f.write(s+'\\n')\n",
    "\n",
    "# file will be save after f.close()\n",
    "with open('../txts/user.txt', 'r', encoding='utf-8') as f:\n",
    "    flag = 0\n",
    "    while True:\n",
    "        if flag in [0, 3]:\n",
    "            uname = input('Cheak Username:')\n",
    "        if flag in [0, 2]:\n",
    "            passwd = input('Cheak Passward:')\n",
    "        f.seek(0)\n",
    "        for line in f.readlines():\n",
    "            if uname == line[:line.find(':')]:\n",
    "                t=line[line.find(':')+1:-1]\n",
    "                if passwd == t:\n",
    "                    print(line, end='')\n",
    "                    flag = 1 # ok\n",
    "                    break\n",
    "                else:\n",
    "                    flag = 2\n",
    "                    break  # passwd error\n",
    "            else:\n",
    "                flag = 3 # uname error\n",
    "        if flag == 1:\n",
    "            print('OK')\n",
    "            break\n",
    "        print('Error! Again ', end='')\n"
   ],
   "outputs": [],
   "metadata": {}
  },
  {
   "cell_type": "code",
   "execution_count": 19,
   "source": [
    "def init():\n",
    "    with open('../txts/user.txt', 'w+', encoding='utf-8') as f:\n",
    "        while (s := input('username:')+':'+input('password:')) != ':':\n",
    "            f.write(s+'\\n')\n",
    "\n",
    "def cheak():\n",
    "    # file will be save after f.close()\n",
    "    with open('../txts/user.txt', 'r', encoding='utf-8') as f:\n",
    "        flag = 0\n",
    "        while True:\n",
    "            if flag in [0, 3]:\n",
    "                uname = input('Cheak Username:')\n",
    "            if flag in [0, 2]:\n",
    "                passwd = input('Cheak Passward:')\n",
    "            f.seek(0)\n",
    "            for line in f.readlines():\n",
    "                if uname == line[:line.find(':')]:\n",
    "                    flag=[2,1][passwd == line[line.find(':')+1:-1]]\n",
    "                    break\n",
    "                else: \n",
    "                    flag = 3\n",
    "            if flag == 1:\n",
    "                print('OK')\n",
    "                break\n",
    "            print('Error! Again ', end='')\n",
    "\n",
    "if __name__ == '__main__':\n",
    "    init()\n",
    "    cheak()\n"
   ],
   "outputs": [
    {
     "output_type": "stream",
     "name": "stdout",
     "text": [
      "OK\n"
     ]
    }
   ],
   "metadata": {}
  },
  {
   "cell_type": "code",
   "execution_count": null,
   "source": [
    "with open('../txts/user.txt', 'r', encoding='utf-8') as f:\n",
    "    # cnt=1\n",
    "    # for line in f.readlines():\n",
    "    #     print(cnt,line.strip('\\n'))\n",
    "    #     cnt+=1\n",
    "    for i, j in enumerate(f, 1):\n",
    "        print(i, j.strip('\\n'))\n"
   ],
   "outputs": [],
   "metadata": {}
  },
  {
   "cell_type": "code",
   "execution_count": 18,
   "source": [
    "# add porcessed f1 to f2\n",
    "with open('../txts/user.txt', 'r', encoding='utf-8') as f1:\n",
    "    with open('../txts/user1.txt', 'w+', encoding='utf-8') as f2:\n",
    "        for line in f1.readlines():\n",
    "            f2.write(line.replace('f','F').replace('R','r'))\n",
    "        f2.seek(0)\n",
    "        print(f2.read())\n"
   ],
   "outputs": [
    {
     "output_type": "stream",
     "name": "stdout",
     "text": [
      "qda\n",
      "Fa\n",
      "Faaa\n",
      "FaFc\n",
      "root\n",
      "root\n"
     ]
    }
   ],
   "metadata": {}
  },
  {
   "cell_type": "code",
   "execution_count": null,
   "source": [
    "import collections\n",
    "s={}\n",
    "cnt=0\n",
    "with open('./txts/test.txt', 'r', encoding='utf-8') as f1:\n",
    "    for line in f1.readlines():\n",
    "        for stri in line.replace(',',' ').replace('.',' ').replace(';',' ').split():\n",
    "            s[stri]=s.get(stri,0)+1\n",
    "            cnt+=1\n",
    "\n",
    "d_order=sorted(s.items(),key=lambda x:x[1],reverse=True)\n",
    "\n",
    "print(cnt)\n",
    "c=0\n",
    "for i in d_order:\n",
    "    print(i)\n",
    "    c+=1\n",
    "    if c==20:\n",
    "        break"
   ],
   "outputs": [],
   "metadata": {}
  },
  {
   "cell_type": "code",
   "execution_count": null,
   "source": [
    "import time\n",
    "import asyncio  # concurrency\n",
    "import nest_asyncio\n",
    "nest_asyncio.apply()\n",
    "\n",
    "\n",
    "# def coroutine\n",
    "async def do_work_1(x):\n",
    "    print('Start')\n",
    "    for i in range(x):\n",
    "        time.sleep(0.5)\n",
    "        print(i, end=' ')\n",
    "    print('\\nFinish')\n",
    "    return 'Done do_work_1'\n",
    "\n",
    "\n",
    "async def do_work_2(x):\n",
    "    print('Waiting:', x)\n",
    "    await asyncio.sleep(x)  # here awite, do other coroutines\n",
    "    return 'Done do_work_2', x\n",
    "\n",
    "\n",
    "# def callback function\n",
    "def callback(future): # fature: 1.pending 2.running 3.done 4.canceled\n",
    "    print('CallBack:', future.result())  # get 'return'\n",
    "\n",
    "\n",
    "# tasks list encapsulation\n",
    "async def main():\n",
    "    coroutine_1 = do_work_2(3)\n",
    "    coroutine_2 = do_work_2(4)\n",
    "    coroutine_3 = do_work_2(5)\n",
    "    coroutine_4 = do_work_2(6)\n",
    "\n",
    "    tasks = [asyncio.ensure_future(coroutine_1),\n",
    "             asyncio.ensure_future(coroutine_2),\n",
    "             asyncio.ensure_future(coroutine_3),\n",
    "             asyncio.ensure_future(coroutine_4)]\n",
    "    \n",
    "    return await asyncio.gather(*tasks)\n",
    "\n",
    "# get coroutine obj\n",
    "coroutine_1 = do_work_2(3)\n",
    "coroutine_2 = do_work_2(4)\n",
    "coroutine_3 = do_work_2(5)\n",
    "coroutine_4 = do_work_2(6)\n",
    "\n",
    "\n",
    "start = time.time()\n",
    "\n",
    "# new event_loop\n",
    "loop = asyncio.get_event_loop()\n",
    "\n",
    "# new task list\n",
    "tasks = [asyncio.ensure_future(coroutine_1),\n",
    "         asyncio.ensure_future(coroutine_2),\n",
    "         asyncio.ensure_future(coroutine_3),\n",
    "         asyncio.ensure_future(coroutine_4)]\n",
    "# task = loop.create_task(coroutine)\n",
    "# print(task,type(task)) # running\n",
    "\n",
    "# add callback func for task\n",
    "for task in tasks:\n",
    "    task.add_done_callback(callback)\n",
    "\n",
    "# add obj\n",
    "# loop.run_until_complete(asyncio.wait(tasks))\n",
    "results=loop.run_until_complete(main())\n",
    "# for  result in results:\n",
    "#     print('result:',result)\n",
    "# print(task) # done\n",
    "\n",
    "print('time =', time.time()-start)\n",
    "# get result\n",
    "# print(task.result())\n"
   ],
   "outputs": [],
   "metadata": {}
  },
  {
   "cell_type": "code",
   "execution_count": null,
   "source": [
    "import time\n",
    "import asyncio  # concurrency\n",
    "import nest_asyncio\n",
    "nest_asyncio.apply()\n",
    "\n",
    "\n",
    "async def do_work_2(x):\n",
    "    print('Waiting:', x)\n",
    "    await asyncio.sleep(x)  # here awite, do other coroutines\n",
    "    return 'Done do_work_2', x\n",
    "\n",
    "\n",
    "def callback(future):  # fature: 1.pending 2.running 3.done 4.canceled\n",
    "    print('CallBack:', future.result())\n",
    "\n",
    "\n",
    "# tasks list encapsulation\n",
    "async def main():\n",
    "    coroutine_1 = do_work_2(3)\n",
    "    coroutine_2 = do_work_2(4)\n",
    "    coroutine_3 = do_work_2(5)\n",
    "    coroutine_4 = do_work_2(6)\n",
    "\n",
    "    tasks = [asyncio.ensure_future(coroutine_1),\n",
    "             asyncio.ensure_future(coroutine_2),\n",
    "             asyncio.ensure_future(coroutine_3),\n",
    "             asyncio.ensure_future(coroutine_4)]\n",
    "\n",
    "    for task in tasks:\n",
    "        task.add_done_callback(callback)\n",
    "\n",
    "    return await asyncio.gather(*tasks)\n",
    "\n",
    "start = time.time()\n",
    "loop = asyncio.get_event_loop()\n",
    "results = loop.run_until_complete(main())\n",
    "print('time =', time.time()-start)\n"
   ],
   "outputs": [],
   "metadata": {}
  },
  {
   "cell_type": "code",
   "execution_count": null,
   "source": [
    "# cancel tasks\n",
    "import time\n",
    "import asyncio  # concurrency\n",
    "import nest_asyncio\n",
    "nest_asyncio.apply()\n",
    "\n",
    "\n",
    "async def do_work_2(x):\n",
    "    print('Waiting:', x)\n",
    "    await asyncio.sleep(x)  # here awite, do other coroutines\n",
    "    return 'Done do_work_2', x\n",
    "\n",
    "coroutine_1 = do_work_2(3)\n",
    "coroutine_2 = do_work_2(4)\n",
    "coroutine_3 = do_work_2(5)\n",
    "coroutine_4 = do_work_2(6)\n",
    "\n",
    "tasks = [asyncio.ensure_future(coroutine_1),\n",
    "         asyncio.ensure_future(coroutine_2),\n",
    "         asyncio.ensure_future(coroutine_3),\n",
    "         asyncio.ensure_future(coroutine_4)]\n",
    "\n",
    "\n",
    "loop = asyncio.get_event_loop()\n",
    "try:\n",
    "    loop.run_until_complete(asyncio.wait(tasks))\n",
    "except KeyboardInterrupt as e:\n",
    "    for task in tasks:\n",
    "        print(task.cancel())\n",
    "    loop.stop()\n",
    "    loop.run_forever()\n",
    "finally:\n",
    "    loop.close()\n"
   ],
   "outputs": [],
   "metadata": {}
  },
  {
   "cell_type": "code",
   "execution_count": null,
   "source": [
    "import random\n",
    "def suff(word):\n",
    "    # word=list('qwertyuiop')\n",
    "    word = list(word)\n",
    "    ls = []\n",
    "    covered = []\n",
    "    j = ''\n",
    "    for i in range(len(word)):\n",
    "        while True:\n",
    "            j = random.choice(word)\n",
    "            if j not in covered:\n",
    "                covered.append(j)\n",
    "                break\n",
    "        ls.append(j)\n",
    "    return ''.join(ls)\n",
    "\n",
    "\n",
    "def guess():\n",
    "    words_ls = list(map(suff, words_str := input('请输入几个单词用空格隔开: ').split()))\n",
    "    words = dict(zip(words_str, words_ls))\n",
    "    for i, j in words.items():\n",
    "        print('乱序后的单词:', j)\n",
    "        s = input('请你猜: ')\n",
    "        while True:\n",
    "            if s == i:\n",
    "                print('恭喜你,猜对了!')\n",
    "                break\n",
    "            else:\n",
    "                print('对不起,你猜的不正确')\n",
    "                s = input('继续猜: ')\n",
    "\n",
    "\n",
    "guess()\n"
   ],
   "outputs": [],
   "metadata": {}
  }
 ],
 "metadata": {
  "interpreter": {
   "hash": "ac59ebe37160ed0dfa835113d9b8498d9f09ceb179beaac4002f036b9467c963"
  },
  "kernelspec": {
   "display_name": "Python 3",
   "language": "python",
   "name": "python3"
  },
  "language_info": {
   "codemirror_mode": {
    "name": "ipython",
    "version": 3
   },
   "file_extension": ".py",
   "mimetype": "text/x-python",
   "name": "python",
   "nbconvert_exporter": "python",
   "pygments_lexer": "ipython3",
   "version": "3.9.4"
  },
  "metadata": {
   "interpreter": {
    "hash": "78a022ac77446f354d31e836af73f58b0c1bbd5e689bddf81efabb290314bc59"
   }
  },
  "varInspector": {
   "cols": {
    "lenName": 16,
    "lenType": 16,
    "lenVar": 40
   },
   "kernels_config": {
    "python": {
     "delete_cmd_postfix": "",
     "delete_cmd_prefix": "del ",
     "library": "var_list.py",
     "varRefreshCmd": "print(var_dic_list())"
    },
    "r": {
     "delete_cmd_postfix": ") ",
     "delete_cmd_prefix": "rm(",
     "library": "var_list.r",
     "varRefreshCmd": "cat(var_dic_list()) "
    }
   },
   "position": {
    "height": "555.523px",
    "left": "1042.36px",
    "right": "20px",
    "top": "120px",
    "width": "334px"
   },
   "types_to_exclude": [
    "module",
    "function",
    "builtin_function_or_method",
    "instance",
    "_Feature"
   ],
   "window_display": false
  }
 },
 "nbformat": 4,
 "nbformat_minor": 2
}