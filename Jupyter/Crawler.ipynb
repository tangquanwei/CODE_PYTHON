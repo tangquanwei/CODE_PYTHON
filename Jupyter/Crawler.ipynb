{
 "cells": [
  {
   "cell_type": "code",
   "execution_count": 2,
   "metadata": {},
   "outputs": [],
   "source": [
    "import requests\n",
    "################################################################\n",
    "# r=requests.get(url, params=None, **kwargs)\n",
    "# r.status_code     返回状态，200表示成功\n",
    "# r.text    HTTP相应内容的字符串形式\n",
    "# r.encoding    从HTTP header中猜测内容编码方式\n",
    "# r.apparent_encoding   从内容中分析编码方式（备选编码方式）\n",
    "# r.content     HTTP相应内容的二进制形式\n",
    "##################################################################\n",
    "response = requests.get(\"http://archlinux.org\")\n",
    "print(response)\n",
    "print(type(response))\n",
    "print(response.encoding)    #如果header中不存在charset，则默认ISO-8859-1\n",
    "print(response.apparent_encoding)\n",
    "response.encoding = 'utf-8'\n",
    "response.text\n",
    "\n"
   ]
  },
  {
   "cell_type": "code",
   "execution_count": null,
   "metadata": {},
   "outputs": [],
   "source": [
    "# r.raise_for_status() 如果不是200，产生异常requests.HTTPError\n",
    "# "
   ]
  }
 ],
 "metadata": {
  "kernelspec": {
   "display_name": "Python 3.9.4 64-bit",
   "name": "python394jvsc74a57bd0ac59ebe37160ed0dfa835113d9b8498d9f09ceb179beaac4002f036b9467c963"
  },
  "language_info": {
   "name": "python",
   "version": ""
  },
  "metadata": {
   "interpreter": {
    "hash": "ac59ebe37160ed0dfa835113d9b8498d9f09ceb179beaac4002f036b9467c963"
   }
  },
  "orig_nbformat": 2
 },
 "nbformat": 4,
 "nbformat_minor": 2
}