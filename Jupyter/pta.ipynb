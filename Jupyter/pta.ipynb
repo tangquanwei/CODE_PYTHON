{
 "cells": [
  {
   "cell_type": "code",
   "execution_count": 10,
   "source": [
    "import itertools\r\n",
    "n=int(input())\r\n",
    "nums_ls=[]\r\n",
    "for i in range(n):\r\n",
    "    nums_ls.append(int(input()))\r\n",
    "comb_ls = list(itertools.permutations(nums_ls[1:], 2))\r\n",
    "toSum_ls = [i[0]*10+i[1] for i in comb_ls]\r\n",
    "print(sum(toSum_ls))\r\n"
   ],
   "outputs": [
    {
     "output_type": "error",
     "ename": "ValueError",
     "evalue": "invalid literal for int() with base 10: '1 2 3'",
     "traceback": [
      "\u001b[1;31m---------------------------------------------------------------------------\u001b[0m",
      "\u001b[1;31mValueError\u001b[0m                                Traceback (most recent call last)",
      "\u001b[1;32m~\\AppData\\Local\\Temp/ipykernel_14740/1847035809.py\u001b[0m in \u001b[0;36m<module>\u001b[1;34m\u001b[0m\n\u001b[0;32m      1\u001b[0m \u001b[1;32mimport\u001b[0m \u001b[0mitertools\u001b[0m\u001b[1;33m\u001b[0m\u001b[1;33m\u001b[0m\u001b[0m\n\u001b[1;32m----> 2\u001b[1;33m \u001b[0mn\u001b[0m\u001b[1;33m=\u001b[0m\u001b[0mint\u001b[0m\u001b[1;33m(\u001b[0m\u001b[0minput\u001b[0m\u001b[1;33m(\u001b[0m\u001b[1;33m)\u001b[0m\u001b[1;33m)\u001b[0m\u001b[1;33m\u001b[0m\u001b[1;33m\u001b[0m\u001b[0m\n\u001b[0m\u001b[0;32m      3\u001b[0m \u001b[0mnums_ls\u001b[0m\u001b[1;33m=\u001b[0m\u001b[1;33m[\u001b[0m\u001b[1;33m]\u001b[0m\u001b[1;33m\u001b[0m\u001b[1;33m\u001b[0m\u001b[0m\n\u001b[0;32m      4\u001b[0m \u001b[1;32mfor\u001b[0m \u001b[0mi\u001b[0m \u001b[1;32min\u001b[0m \u001b[0mrange\u001b[0m\u001b[1;33m(\u001b[0m\u001b[0mn\u001b[0m\u001b[1;33m)\u001b[0m\u001b[1;33m:\u001b[0m\u001b[1;33m\u001b[0m\u001b[1;33m\u001b[0m\u001b[0m\n\u001b[0;32m      5\u001b[0m     \u001b[0mnums_ls\u001b[0m\u001b[1;33m.\u001b[0m\u001b[0mappend\u001b[0m\u001b[1;33m(\u001b[0m\u001b[0mint\u001b[0m\u001b[1;33m(\u001b[0m\u001b[0minput\u001b[0m\u001b[1;33m(\u001b[0m\u001b[1;33m)\u001b[0m\u001b[1;33m)\u001b[0m\u001b[1;33m)\u001b[0m\u001b[1;33m\u001b[0m\u001b[1;33m\u001b[0m\u001b[0m\n",
      "\u001b[1;31mValueError\u001b[0m: invalid literal for int() with base 10: '1 2 3'"
     ]
    }
   ],
   "metadata": {}
  },
  {
   "cell_type": "code",
   "execution_count": null,
   "source": [
    "stra=input()\r\n",
    "strb=input()\r\n",
    "for i in strb:\r\n",
    "    stra=stra.replace(i,\"\")\r\n",
    "print(stra)"
   ],
   "outputs": [],
   "metadata": {}
  },
  {
   "cell_type": "code",
   "execution_count": null,
   "source": [
    "class Info():\r\n",
    "    def __init__(self, name, id, condition, time) -> None:\r\n",
    "        self.m_name = name\r\n",
    "        self.m_id = id\r\n",
    "        self.m_condition = condition\r\n",
    "        self.m_time = time\r\n",
    "        self.m_day = 0\r\n",
    "\r\n",
    "    def cheakId(self):\r\n",
    "        if(self.m_id.__len__() != 18):\r\n",
    "            return False\r\n",
    "        return True\r\n",
    "\r\n",
    "    def cheakConditon(self):\r\n",
    "        if(self.m_condition == '1'):\r\n",
    "            return True\r\n",
    "        return False\r\n",
    "\r\n",
    "    def timeToNum(self) -> int:\r\n",
    "        return int(self.m_time[0:2])*60+int(self.m_time[3:4])\r\n",
    "\r\n",
    "    def lessTime(info1, info2) -> bool:\r\n",
    "        return info1.timeToNum() < info2.timeToNum()\r\n",
    "\r\n",
    "\r\n",
    "def printLs(info_ls):\r\n",
    "    for i in info_ls:\r\n",
    "        print(i.m_name, i.m_id)\r\n",
    "\r\n",
    "# 天数 间隔\r\n",
    "d,p = map(int,input().split())\r\n",
    "\r\n",
    "\r\n",
    "info_ls = []\r\n",
    "discomfort_ls = []\r\n",
    "\r\n",
    "day = 0\r\n",
    "for i in range(d):\r\n",
    "    t,s = map(int,input().split())# 申请数 口罩数\r\n",
    "    temp_info_ls = []\r\n",
    "    for j in range(t): # 一天\r\n",
    "        str = input().split()\r\n",
    "        info = Info(*str)\r\n",
    "\r\n",
    "        if(info.cheakId()):\r\n",
    "            if len(info_ls) != 0:\r\n",
    "                flag=True\r\n",
    "                for i in info_ls:  # 去重\r\n",
    "                    if(i.m_name == info.m_name):\r\n",
    "                        if (i.m_day <= p):\r\n",
    "                            flag=False\r\n",
    "                        break\r\n",
    "                if(flag):\r\n",
    "                    temp_info_ls.append(info)\r\n",
    "            else:\r\n",
    "                temp_info_ls.append(info)\r\n",
    "\r\n",
    "        if(info.cheakConditon()):\r\n",
    "            if len(discomfort_ls) != 0:\r\n",
    "                for i in discomfort_ls:\r\n",
    "                    if i.m_name != info.m_name:\r\n",
    "                        discomfort_ls.append(info)\r\n",
    "            else:\r\n",
    "                discomfort_ls.append(info)\r\n",
    "\r\n",
    "    temp_info_ls = sorted(temp_info_ls, key=lambda x: x.timeToNum())\r\n",
    "    info_ls.extend(temp_info_ls[:s])\r\n",
    "\r\n",
    "    for i in range(len(info_ls)):  # add day\r\n",
    "        info_ls[i].m_day += 1\r\n",
    "\r\n",
    "printLs(info_ls)\r\n",
    "print()\r\n",
    "printLs(discomfort_ls)\r\n"
   ],
   "outputs": [],
   "metadata": {}
  },
  {
   "cell_type": "code",
   "execution_count": null,
   "source": [
    "# a3,a2,a1,a0=tuple(map(eval,input().split()))\r\n",
    "# a,b=tuple(map(eval,input().split()))\r\n",
    "a3, a2, a1, a0 = 3, -1, -3, 1\r\n",
    "a, b = -0.5, 0.5\r\n",
    "\r\n",
    "\r\n",
    "def f(x):\r\n",
    "    global a3, a2, a1, a0\r\n",
    "    return a3*x**3+a2*x**2+a1*x+a0\r\n",
    "\r\n",
    "def root(a,b):\r\n",
    "        mid = (a+b)/2\r\n",
    "        ret = f(mid)\r\n",
    "        if ret==0:\r\n",
    "            return mid\r\n",
    "        elif ret*f(a)<0:\r\n",
    "            root(a,mid)\r\n",
    "        else:\r\n",
    "            root(mid,b)\r\n",
    "            \r\n",
    "print(root(a,b))\r\n"
   ],
   "outputs": [],
   "metadata": {}
  },
  {
   "cell_type": "code",
   "execution_count": null,
   "source": [
    "# 相同: 去掉所有非英文字母和数字的符号、并忽略大小写，它们是相同的字符串\r\n",
    "# n=int(input())\r\n",
    "n = 4\r\n",
    "str_ls = [\"This is a #test of topic#.\",\r\n",
    "          \"Another #Test of topic.#\",\r\n",
    "          \"This is a #Hot# #Hot# topic\",\r\n",
    "          \"Another #hot!# #Hot# topic\"]\r\n",
    "hot_ls=[]\r\n",
    "hot_cnt_dict={}\r\n",
    "for i in str_ls:\r\n",
    "    isOn = False\r\n",
    "    single_hot_ls = []\r\n",
    "    for j in i:\r\n",
    "        if j == '#':\r\n",
    "            isOn = not isOn\r\n",
    "        if isOn:\r\n",
    "            single_hot_ls.append(j)\r\n",
    "    temp=(''.join(single_hot_ls)).replace('!','').replace('.','')\r\n",
    "    hot_ls.append(temp)\r\n",
    "    temp=temp.capitalize()\r\n",
    "    hot_cnt_dict[temp]=hot_cnt_dict.get(temp,0)+1\r\n",
    "print(hot_ls,hot_cnt_dict)\r\n"
   ],
   "outputs": [],
   "metadata": {}
  },
  {
   "cell_type": "code",
   "execution_count": null,
   "source": [
    "hot_ls_split = []\r\n",
    "for i in hot_ls:\r\n",
    "    hot_ls_split.extend(i.split('#'))\r\n",
    "hot_num_dict={}\r\n",
    "for i in hot_ls_split:\r\n",
    "    if i !='':\r\n",
    "        j=i.capitalize()\r\n",
    "        hot_num_dict[j]=hot_num_dict.get(j,0)+1\r\n",
    "max=0\r\n",
    "name=''\r\n",
    "for i,j in hot_num_dict.items():\r\n",
    "    if j>max:\r\n",
    "        max=j\r\n",
    "        name=i\r\n",
    "for i in hot_cnt_dict:\r\n",
    "    ...\r\n",
    "print(f\"{name}\\ntodo 微博条数\\nAnd {len(hot_num_dict)-1} more ...\")"
   ],
   "outputs": [
    {
     "output_type": "stream",
     "name": "stdout",
     "text": [
      "Hot\n",
      "todo 微博条数\n",
      "And 1 more ...\n"
     ]
    }
   ],
   "metadata": {}
  },
  {
   "cell_type": "code",
   "execution_count": null,
   "source": [
    "import re\r\n",
    "import collections\r\n",
    "# n = 4\r\n",
    "n = int(input())\r\n",
    "# str_ls = [\"This is a #test of topic#.\",\r\n",
    "#           \"Another #Test of topic.#\",\r\n",
    "#           \"This is a #Hot# #Hot# topic\",\r\n",
    "#           \"Another #hot!# #Hot# topic\"]\r\n",
    "topic_cnt = {}\r\n",
    "hot_cnt = collections.OrderedDict()\r\n",
    "pattern1 = re.compile(r\"#.+#\")\r\n",
    "\r\n",
    "for i in range(n):\r\n",
    "    s = pattern1.findall(input())\r\n",
    "    s = s[0].replace('!', '').replace('.', '').capitalize()\r\n",
    "    sr = s.replace('#', '')\r\n",
    "    topic_cnt[sr] = topic_cnt.get(sr, 0)+1\r\n",
    "    ss = s.split(\"#\")\r\n",
    "    for i in ss:\r\n",
    "        if i != '' and i != ' ':\r\n",
    "            hot_cnt[i] = hot_cnt.get(i, 0)+1\r\n",
    "\r\n",
    "# print(hot_cnt,topic_cnt)\r\n",
    "max = 0\r\n",
    "name = ''\r\n",
    "for i, j in hot_cnt.items():\r\n",
    "    if j > max:\r\n",
    "        max = j\r\n",
    "        name = i\r\n",
    "print(name.capitalize())\r\n",
    "pattern2 = re.compile(f\"{name}\")\r\n",
    "for i in topic_cnt:\r\n",
    "    if pattern2.findall(i):\r\n",
    "        print(topic_cnt[i])\r\n",
    "print(f\"And {len(hot_cnt)-1} more ...\")\r\n"
   ],
   "outputs": [],
   "metadata": {}
  },
  {
   "cell_type": "code",
   "execution_count": null,
   "source": [
    "n= int(input())\r\n",
    "ls=[]\r\n",
    "for i in range(n):\r\n",
    "    k=input()\r\n",
    "    v=eval(input())\r\n",
    "    ls.append((k,v))\r\n",
    "ls.sort(key=lambda x:x[1])\r\n",
    "print(f\"{ls[n-1][1]:.2f}, {ls[n-1][0]}\")\r\n",
    "print(f\"{ls[0][1]:.2f}, {ls[0][0]}\",end='')\r\n"
   ],
   "outputs": [
    {
     "output_type": "execute_result",
     "data": {
      "text/plain": [
       "[('b', 34), ('a', 90)]"
      ]
     },
     "metadata": {},
     "execution_count": 4
    }
   ],
   "metadata": {}
  },
  {
   "cell_type": "code",
   "execution_count": null,
   "source": [
    "print(int(input()[::-1]))"
   ],
   "outputs": [
    {
     "output_type": "stream",
     "name": "stdout",
     "text": [
      "7\n"
     ]
    }
   ],
   "metadata": {}
  },
  {
   "cell_type": "code",
   "execution_count": 9,
   "source": [
    "s1 = set(input()[:-2].split())\r\n",
    "s2 = set(input()[:-2].split())\r\n",
    "ls = list(s1 & s2)\r\n",
    "n=len(ls)\r\n",
    "if n:\r\n",
    "    for i in range(n):\r\n",
    "        print(ls[i], end=\" \"if i!=n-1 else '')\r\n",
    "else:\r\n",
    "    print(\"NULL\")\r\n"
   ],
   "outputs": [
    {
     "output_type": "stream",
     "name": "stdout",
     "text": [
      "2\n",
      "5\n"
     ]
    }
   ],
   "metadata": {}
  },
  {
   "cell_type": "code",
   "execution_count": 15,
   "source": [
    "import math\r\n",
    "n=int(input())\r\n",
    "e=1\r\n",
    "for i in range(1,n+1):\r\n",
    "    e+=1/math.factorial(i)\r\n",
    "print(f\"{e:.8f}\")"
   ],
   "outputs": [
    {
     "output_type": "stream",
     "name": "stdout",
     "text": [
      "2.71828180\n"
     ]
    }
   ],
   "metadata": {}
  },
  {
   "cell_type": "code",
   "execution_count": 8,
   "source": [
    "n=int(input())\r\n",
    "ch=64\r\n",
    "while(n):\r\n",
    "    m=n\r\n",
    "    while(m):\r\n",
    "        ch=ch+1\r\n",
    "        print(chr(ch),end=' ')\r\n",
    "        m-=1\r\n",
    "    print()\r\n",
    "    n-=1"
   ],
   "outputs": [
    {
     "output_type": "stream",
     "name": "stdout",
     "text": [
      "A B C D \n",
      "E F G \n",
      "H I \n",
      "J \n"
     ]
    }
   ],
   "metadata": {}
  },
  {
   "cell_type": "code",
   "execution_count": 11,
   "source": [
    "m,n=tuple(map(int,input().split()))\r\n",
    "n%=m\r\n",
    "ls=input().split()\r\n",
    "if len(ls)==1:\r\n",
    "    print(ls[1])\r\n",
    "    exit(0)\r\n",
    "ls=ls[n:]+ls[:n]\r\n",
    "for i in range(m):\r\n",
    "    if i==m-1:\r\n",
    "        print(ls[i],end='')\r\n",
    "    else:\r\n",
    "        print(ls[i],end=' ')"
   ],
   "outputs": [
    {
     "output_type": "stream",
     "name": "stdout",
     "text": [
      "4 5 6 7 8 1 2 3"
     ]
    }
   ],
   "metadata": {}
  },
  {
   "cell_type": "code",
   "execution_count": null,
   "source": [
    "# “两个集合都有的不相等整数的个数”意思是两个集合的交集个数，\\\r\n",
    "# “两个集合一共有的不相等整数的个数”意思是先将两个集合并起来再去重得到的集合元素个数\r\n",
    "n = int(input())\r\n",
    "ls1 = []\r\n",
    "ls2 = []\r\n",
    "for i in range(n):\r\n",
    "    ls1.append(input()[1:].split())\r\n",
    "k = int(input())\r\n",
    "for i in range(k):\r\n",
    "    ls2.append(tuple(map(int,input().split())))\r\n",
    "print(ls1)\r\n",
    "print(ls2)"
   ],
   "outputs": [],
   "metadata": {}
  },
  {
   "cell_type": "code",
   "execution_count": 4,
   "source": [
    "ls=[]\r\n",
    "while True:\r\n",
    "    s=input()\r\n",
    "    ls.append(s)\r\n",
    "    if(s[-1]=='#'):\r\n",
    "        break\r\n",
    "ls"
   ],
   "outputs": [
    {
     "output_type": "execute_result",
     "data": {
      "text/plain": [
       "['Longlonglonglongword should be cut off, so is considered as the same as longlonglonglonee.  But this_8 is different than this, and this, and this...#']"
      ]
     },
     "metadata": {},
     "execution_count": 4
    }
   ],
   "metadata": {}
  },
  {
   "cell_type": "code",
   "execution_count": null,
   "source": [],
   "outputs": [],
   "metadata": {}
  }
 ],
 "metadata": {
  "orig_nbformat": 4,
  "language_info": {
   "name": "python",
   "version": "3.9.6",
   "mimetype": "text/x-python",
   "codemirror_mode": {
    "name": "ipython",
    "version": 3
   },
   "pygments_lexer": "ipython3",
   "nbconvert_exporter": "python",
   "file_extension": ".py"
  },
  "kernelspec": {
   "name": "python3",
   "display_name": "Python 3.9.6 64-bit"
  },
  "interpreter": {
   "hash": "78a022ac77446f354d31e836af73f58b0c1bbd5e689bddf81efabb290314bc59"
  }
 },
 "nbformat": 4,
 "nbformat_minor": 2
}